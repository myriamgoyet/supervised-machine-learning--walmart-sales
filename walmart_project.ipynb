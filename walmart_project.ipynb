{
 "cells": [
  {
   "cell_type": "markdown",
   "metadata": {},
   "source": [
    "# Walmart : predict weekly sales"
   ]
  },
  {
   "cell_type": "markdown",
   "metadata": {},
   "source": [
    "\n",
    "    Part 1 : make an EDA and all the necessary preprocessings to prepare data for machine learning\n",
    "    Part 2 : train a linear regression model (baseline)\n",
    "    Part 3 : avoid overfitting by training a regularized regression model\n"
   ]
  },
  {
   "cell_type": "code",
   "execution_count": 2,
   "metadata": {},
   "outputs": [],
   "source": [
    "import pandas as pd\n",
    "import numpy as np\n",
    "import seaborn as sns\n",
    "import matplotlib.pyplot as plt\n",
    "import plotly.express as px\n",
    "import plotly.graph_objects as go\n",
    "from plotly.subplots import make_subplots\n",
    "import plotly.figure_factory as ff\n",
    "\n",
    "\n",
    "from sklearn.model_selection import train_test_split\n",
    "from sklearn.compose import ColumnTransformer\n",
    "from sklearn.pipeline import Pipeline\n",
    "from sklearn.preprocessing import OneHotEncoder, StandardScaler\n",
    "from sklearn.impute import SimpleImputer, KNNImputer\n",
    "from sklearn.linear_model import LinearRegression, Ridge, Lasso\n",
    "from sklearn.metrics import r2_score, root_mean_squared_error\n",
    "from sklearn.model_selection import cross_val_score\n",
    "\n"
   ]
  },
  {
   "cell_type": "markdown",
   "metadata": {},
   "source": [
    "## Part 1 : EDA"
   ]
  },
  {
   "cell_type": "markdown",
   "metadata": {},
   "source": [
    "- The dataset references the weekly sales of 20 stores. \n",
    "- Each of the 150 entries represents the weekly sales of a store, recorded at the end of the week (Friday).\n",
    "- The sales data ranges from February 5, 2010, to October 19, 2012.\n",
    "- The dataset aslo includes contextual information such as :\n",
    "    - Holiday events occuring during the week\n",
    "    - Recorded temperatures\n",
    "    - Recorded fuel prices\n",
    "    - The Consumer Price Index, which measures the annual inflation rate\n",
    "    - The unempoyment rate\n"
   ]
  },
  {
   "cell_type": "code",
   "execution_count": 3,
   "metadata": {},
   "outputs": [
    {
     "name": "stdout",
     "output_type": "stream",
     "text": [
      "(150, 8)\n"
     ]
    },
    {
     "data": {
      "text/html": [
       "<div>\n",
       "<style scoped>\n",
       "    .dataframe tbody tr th:only-of-type {\n",
       "        vertical-align: middle;\n",
       "    }\n",
       "\n",
       "    .dataframe tbody tr th {\n",
       "        vertical-align: top;\n",
       "    }\n",
       "\n",
       "    .dataframe thead th {\n",
       "        text-align: right;\n",
       "    }\n",
       "</style>\n",
       "<table border=\"1\" class=\"dataframe\">\n",
       "  <thead>\n",
       "    <tr style=\"text-align: right;\">\n",
       "      <th></th>\n",
       "      <th>Store</th>\n",
       "      <th>Date</th>\n",
       "      <th>Weekly_Sales</th>\n",
       "      <th>Holiday_Flag</th>\n",
       "      <th>Temperature</th>\n",
       "      <th>Fuel_Price</th>\n",
       "      <th>CPI</th>\n",
       "      <th>Unemployment</th>\n",
       "    </tr>\n",
       "  </thead>\n",
       "  <tbody>\n",
       "    <tr>\n",
       "      <th>0</th>\n",
       "      <td>6.0</td>\n",
       "      <td>18-02-2011</td>\n",
       "      <td>1572117.54</td>\n",
       "      <td>NaN</td>\n",
       "      <td>59.61</td>\n",
       "      <td>3.045</td>\n",
       "      <td>214.777523</td>\n",
       "      <td>6.858</td>\n",
       "    </tr>\n",
       "    <tr>\n",
       "      <th>1</th>\n",
       "      <td>13.0</td>\n",
       "      <td>25-03-2011</td>\n",
       "      <td>1807545.43</td>\n",
       "      <td>0.0</td>\n",
       "      <td>42.38</td>\n",
       "      <td>3.435</td>\n",
       "      <td>128.616064</td>\n",
       "      <td>7.470</td>\n",
       "    </tr>\n",
       "    <tr>\n",
       "      <th>2</th>\n",
       "      <td>17.0</td>\n",
       "      <td>27-07-2012</td>\n",
       "      <td>NaN</td>\n",
       "      <td>0.0</td>\n",
       "      <td>NaN</td>\n",
       "      <td>NaN</td>\n",
       "      <td>130.719581</td>\n",
       "      <td>5.936</td>\n",
       "    </tr>\n",
       "    <tr>\n",
       "      <th>3</th>\n",
       "      <td>11.0</td>\n",
       "      <td>NaN</td>\n",
       "      <td>1244390.03</td>\n",
       "      <td>0.0</td>\n",
       "      <td>84.57</td>\n",
       "      <td>NaN</td>\n",
       "      <td>214.556497</td>\n",
       "      <td>7.346</td>\n",
       "    </tr>\n",
       "    <tr>\n",
       "      <th>4</th>\n",
       "      <td>6.0</td>\n",
       "      <td>28-05-2010</td>\n",
       "      <td>1644470.66</td>\n",
       "      <td>0.0</td>\n",
       "      <td>78.89</td>\n",
       "      <td>2.759</td>\n",
       "      <td>212.412888</td>\n",
       "      <td>7.092</td>\n",
       "    </tr>\n",
       "  </tbody>\n",
       "</table>\n",
       "</div>"
      ],
      "text/plain": [
       "   Store        Date  Weekly_Sales  Holiday_Flag  Temperature  Fuel_Price  \\\n",
       "0    6.0  18-02-2011    1572117.54           NaN        59.61       3.045   \n",
       "1   13.0  25-03-2011    1807545.43           0.0        42.38       3.435   \n",
       "2   17.0  27-07-2012           NaN           0.0          NaN         NaN   \n",
       "3   11.0         NaN    1244390.03           0.0        84.57         NaN   \n",
       "4    6.0  28-05-2010    1644470.66           0.0        78.89       2.759   \n",
       "\n",
       "          CPI  Unemployment  \n",
       "0  214.777523         6.858  \n",
       "1  128.616064         7.470  \n",
       "2  130.719581         5.936  \n",
       "3  214.556497         7.346  \n",
       "4  212.412888         7.092  "
      ]
     },
     "execution_count": 3,
     "metadata": {},
     "output_type": "execute_result"
    }
   ],
   "source": [
    "df= pd.read_csv(\"data/Walmart_Store_sales.csv\")\n",
    "print(df.shape)\n",
    "df.head()"
   ]
  },
  {
   "cell_type": "code",
   "execution_count": 4,
   "metadata": {},
   "outputs": [
    {
     "data": {
      "text/html": [
       "<div>\n",
       "<style scoped>\n",
       "    .dataframe tbody tr th:only-of-type {\n",
       "        vertical-align: middle;\n",
       "    }\n",
       "\n",
       "    .dataframe tbody tr th {\n",
       "        vertical-align: top;\n",
       "    }\n",
       "\n",
       "    .dataframe thead th {\n",
       "        text-align: right;\n",
       "    }\n",
       "</style>\n",
       "<table border=\"1\" class=\"dataframe\">\n",
       "  <thead>\n",
       "    <tr style=\"text-align: right;\">\n",
       "      <th></th>\n",
       "      <th>Store</th>\n",
       "      <th>Date</th>\n",
       "      <th>Weekly_Sales</th>\n",
       "      <th>Holiday_Flag</th>\n",
       "      <th>Temperature</th>\n",
       "      <th>Fuel_Price</th>\n",
       "      <th>CPI</th>\n",
       "      <th>Unemployment</th>\n",
       "    </tr>\n",
       "  </thead>\n",
       "  <tbody>\n",
       "    <tr>\n",
       "      <th>count</th>\n",
       "      <td>150.000000</td>\n",
       "      <td>132</td>\n",
       "      <td>1.360000e+02</td>\n",
       "      <td>138.000000</td>\n",
       "      <td>132.000000</td>\n",
       "      <td>136.000000</td>\n",
       "      <td>138.000000</td>\n",
       "      <td>135.000000</td>\n",
       "    </tr>\n",
       "    <tr>\n",
       "      <th>unique</th>\n",
       "      <td>NaN</td>\n",
       "      <td>85</td>\n",
       "      <td>NaN</td>\n",
       "      <td>NaN</td>\n",
       "      <td>NaN</td>\n",
       "      <td>NaN</td>\n",
       "      <td>NaN</td>\n",
       "      <td>NaN</td>\n",
       "    </tr>\n",
       "    <tr>\n",
       "      <th>top</th>\n",
       "      <td>NaN</td>\n",
       "      <td>19-10-2012</td>\n",
       "      <td>NaN</td>\n",
       "      <td>NaN</td>\n",
       "      <td>NaN</td>\n",
       "      <td>NaN</td>\n",
       "      <td>NaN</td>\n",
       "      <td>NaN</td>\n",
       "    </tr>\n",
       "    <tr>\n",
       "      <th>freq</th>\n",
       "      <td>NaN</td>\n",
       "      <td>4</td>\n",
       "      <td>NaN</td>\n",
       "      <td>NaN</td>\n",
       "      <td>NaN</td>\n",
       "      <td>NaN</td>\n",
       "      <td>NaN</td>\n",
       "      <td>NaN</td>\n",
       "    </tr>\n",
       "    <tr>\n",
       "      <th>mean</th>\n",
       "      <td>9.866667</td>\n",
       "      <td>NaN</td>\n",
       "      <td>1.249536e+06</td>\n",
       "      <td>0.079710</td>\n",
       "      <td>61.398106</td>\n",
       "      <td>3.320853</td>\n",
       "      <td>179.898509</td>\n",
       "      <td>7.598430</td>\n",
       "    </tr>\n",
       "    <tr>\n",
       "      <th>std</th>\n",
       "      <td>6.231191</td>\n",
       "      <td>NaN</td>\n",
       "      <td>6.474630e+05</td>\n",
       "      <td>0.271831</td>\n",
       "      <td>18.378901</td>\n",
       "      <td>0.478149</td>\n",
       "      <td>40.274956</td>\n",
       "      <td>1.577173</td>\n",
       "    </tr>\n",
       "    <tr>\n",
       "      <th>min</th>\n",
       "      <td>1.000000</td>\n",
       "      <td>NaN</td>\n",
       "      <td>2.689290e+05</td>\n",
       "      <td>0.000000</td>\n",
       "      <td>18.790000</td>\n",
       "      <td>2.514000</td>\n",
       "      <td>126.111903</td>\n",
       "      <td>5.143000</td>\n",
       "    </tr>\n",
       "    <tr>\n",
       "      <th>25%</th>\n",
       "      <td>4.000000</td>\n",
       "      <td>NaN</td>\n",
       "      <td>6.050757e+05</td>\n",
       "      <td>0.000000</td>\n",
       "      <td>45.587500</td>\n",
       "      <td>2.852250</td>\n",
       "      <td>131.970831</td>\n",
       "      <td>6.597500</td>\n",
       "    </tr>\n",
       "    <tr>\n",
       "      <th>50%</th>\n",
       "      <td>9.000000</td>\n",
       "      <td>NaN</td>\n",
       "      <td>1.261424e+06</td>\n",
       "      <td>0.000000</td>\n",
       "      <td>62.985000</td>\n",
       "      <td>3.451000</td>\n",
       "      <td>197.908893</td>\n",
       "      <td>7.470000</td>\n",
       "    </tr>\n",
       "    <tr>\n",
       "      <th>75%</th>\n",
       "      <td>15.750000</td>\n",
       "      <td>NaN</td>\n",
       "      <td>1.806386e+06</td>\n",
       "      <td>0.000000</td>\n",
       "      <td>76.345000</td>\n",
       "      <td>3.706250</td>\n",
       "      <td>214.934616</td>\n",
       "      <td>8.150000</td>\n",
       "    </tr>\n",
       "    <tr>\n",
       "      <th>max</th>\n",
       "      <td>20.000000</td>\n",
       "      <td>NaN</td>\n",
       "      <td>2.771397e+06</td>\n",
       "      <td>1.000000</td>\n",
       "      <td>91.650000</td>\n",
       "      <td>4.193000</td>\n",
       "      <td>226.968844</td>\n",
       "      <td>14.313000</td>\n",
       "    </tr>\n",
       "  </tbody>\n",
       "</table>\n",
       "</div>"
      ],
      "text/plain": [
       "             Store        Date  Weekly_Sales  Holiday_Flag  Temperature  \\\n",
       "count   150.000000         132  1.360000e+02    138.000000   132.000000   \n",
       "unique         NaN          85           NaN           NaN          NaN   \n",
       "top            NaN  19-10-2012           NaN           NaN          NaN   \n",
       "freq           NaN           4           NaN           NaN          NaN   \n",
       "mean      9.866667         NaN  1.249536e+06      0.079710    61.398106   \n",
       "std       6.231191         NaN  6.474630e+05      0.271831    18.378901   \n",
       "min       1.000000         NaN  2.689290e+05      0.000000    18.790000   \n",
       "25%       4.000000         NaN  6.050757e+05      0.000000    45.587500   \n",
       "50%       9.000000         NaN  1.261424e+06      0.000000    62.985000   \n",
       "75%      15.750000         NaN  1.806386e+06      0.000000    76.345000   \n",
       "max      20.000000         NaN  2.771397e+06      1.000000    91.650000   \n",
       "\n",
       "        Fuel_Price         CPI  Unemployment  \n",
       "count   136.000000  138.000000    135.000000  \n",
       "unique         NaN         NaN           NaN  \n",
       "top            NaN         NaN           NaN  \n",
       "freq           NaN         NaN           NaN  \n",
       "mean      3.320853  179.898509      7.598430  \n",
       "std       0.478149   40.274956      1.577173  \n",
       "min       2.514000  126.111903      5.143000  \n",
       "25%       2.852250  131.970831      6.597500  \n",
       "50%       3.451000  197.908893      7.470000  \n",
       "75%       3.706250  214.934616      8.150000  \n",
       "max       4.193000  226.968844     14.313000  "
      ]
     },
     "execution_count": 4,
     "metadata": {},
     "output_type": "execute_result"
    }
   ],
   "source": [
    "df.describe(include= \"all\")"
   ]
  },
  {
   "cell_type": "code",
   "execution_count": 5,
   "metadata": {},
   "outputs": [
    {
     "data": {
      "text/plain": [
       "Store            0\n",
       "Date            18\n",
       "Weekly_Sales    14\n",
       "Holiday_Flag    12\n",
       "Temperature     18\n",
       "Fuel_Price      14\n",
       "CPI             12\n",
       "Unemployment    15\n",
       "dtype: int64"
      ]
     },
     "execution_count": 5,
     "metadata": {},
     "output_type": "execute_result"
    }
   ],
   "source": [
    "df.isnull().sum()"
   ]
  },
  {
   "cell_type": "markdown",
   "metadata": {},
   "source": [
    "Almost all columns, including the target variable, have missing values.  "
   ]
  },
  {
   "cell_type": "code",
   "execution_count": 6,
   "metadata": {},
   "outputs": [],
   "source": [
    "df1 = df.copy()"
   ]
  },
  {
   "cell_type": "code",
   "execution_count": 7,
   "metadata": {},
   "outputs": [
    {
     "data": {
      "text/plain": [
       "Store                  float64\n",
       "Date            datetime64[ns]\n",
       "Weekly_Sales           float64\n",
       "Holiday_Flag           float64\n",
       "Temperature            float64\n",
       "Fuel_Price             float64\n",
       "CPI                    float64\n",
       "Unemployment           float64\n",
       "Day                    float64\n",
       "Month                  float64\n",
       "Year                   float64\n",
       "Day_of_week            float64\n",
       "Week_of_year            UInt32\n",
       "dtype: object"
      ]
     },
     "execution_count": 7,
     "metadata": {},
     "output_type": "execute_result"
    }
   ],
   "source": [
    "# As Date column cannot be included as it is in the model, let's create new columns that could contain numeric features :\n",
    "df1['Date'] = pd.to_datetime(df1[\"Date\"], format='%d-%m-%Y')\n",
    "df1['Day'] = df1['Date'].dt.day\n",
    "df1['Month'] = df1['Date'].dt.month\n",
    "df1['Year'] = df1['Date'].dt.year\n",
    "df1[\"Day_of_week\"] = df1[\"Date\"].dt.dayofweek\n",
    "df1['Week_of_year'] = df1['Date'].dt.isocalendar().week\n",
    "df1.dtypes"
   ]
  },
  {
   "cell_type": "code",
   "execution_count": 8,
   "metadata": {},
   "outputs": [
    {
     "data": {
      "text/plain": [
       "Day\n",
       "12.0    11\n",
       "19.0     8\n",
       "18.0     7\n",
       "7.0      7\n",
       "25.0     7\n",
       "10.0     7\n",
       "30.0     7\n",
       "16.0     6\n",
       "26.0     6\n",
       "27.0     6\n",
       "6.0      5\n",
       "22.0     5\n",
       "20.0     5\n",
       "2.0      4\n",
       "24.0     4\n",
       "17.0     4\n",
       "13.0     4\n",
       "28.0     3\n",
       "11.0     3\n",
       "3.0      3\n",
       "9.0      3\n",
       "15.0     3\n",
       "4.0      2\n",
       "23.0     2\n",
       "1.0      2\n",
       "14.0     2\n",
       "5.0      2\n",
       "29.0     2\n",
       "31.0     1\n",
       "8.0      1\n",
       "Name: count, dtype: int64"
      ]
     },
     "execution_count": 8,
     "metadata": {},
     "output_type": "execute_result"
    }
   ],
   "source": [
    "df1['Day'].value_counts().sort_values(ascending=False)"
   ]
  },
  {
   "cell_type": "code",
   "execution_count": 9,
   "metadata": {},
   "outputs": [],
   "source": [
    "# As there is only a small number of entry per day, let's group them per week\n",
    "conditions = [\n",
    "    (df1['Day'] <= 7),\n",
    "    (df1['Day'] > 7) & (df1['Day'] <= 14),\n",
    "    (df1['Day'] > 14) & (df1['Day'] <= 21),\n",
    "    (df1['Day'] > 21) & (df1['Day'] <= 28),\n",
    "    (df1['Day'] > 28)\n",
    "]\n",
    "\n",
    "# Définir les valeurs correspondantes pour chaque condition\n",
    "values = [1, 2, 3, 4, 5]\n",
    "\n",
    "# Appliquer les conditions à la colonne 'week'\n",
    "df1['week'] = np.select(conditions, values, default=None).astype(float)\n",
    "\n",
    "df1 = df1.drop(\"Day\", axis=1)"
   ]
  },
  {
   "cell_type": "code",
   "execution_count": 10,
   "metadata": {},
   "outputs": [
    {
     "data": {
      "text/plain": [
       "Day_of_week\n",
       "4.0    132\n",
       "Name: count, dtype: int64"
      ]
     },
     "execution_count": 10,
     "metadata": {},
     "output_type": "execute_result"
    }
   ],
   "source": [
    "df1['Day_of_week'].value_counts().sort_index()"
   ]
  },
  {
   "cell_type": "code",
   "execution_count": 11,
   "metadata": {},
   "outputs": [],
   "source": [
    "# Day_of_week having only one unique value (Friday), this variable is not interesting to keep\n",
    "df1= df1.drop(\"Day_of_week\", axis = 1)"
   ]
  },
  {
   "cell_type": "code",
   "execution_count": 12,
   "metadata": {},
   "outputs": [
    {
     "data": {
      "text/plain": [
       "week\n",
       "1.0    25\n",
       "2.0    31\n",
       "3.0    33\n",
       "4.0    33\n",
       "5.0    10\n",
       "Name: count, dtype: int64"
      ]
     },
     "execution_count": 12,
     "metadata": {},
     "output_type": "execute_result"
    }
   ],
   "source": [
    "df1['week'].value_counts().sort_index()"
   ]
  },
  {
   "cell_type": "code",
   "execution_count": 13,
   "metadata": {},
   "outputs": [
    {
     "data": {
      "text/plain": [
       "Month\n",
       "1.0      7\n",
       "2.0     12\n",
       "3.0     11\n",
       "4.0     10\n",
       "5.0     15\n",
       "6.0     14\n",
       "7.0     15\n",
       "8.0     11\n",
       "9.0     10\n",
       "10.0     9\n",
       "11.0     8\n",
       "12.0    10\n",
       "Name: count, dtype: int64"
      ]
     },
     "execution_count": 13,
     "metadata": {},
     "output_type": "execute_result"
    }
   ],
   "source": [
    "df1['Month'].value_counts().sort_index()"
   ]
  },
  {
   "cell_type": "code",
   "execution_count": 14,
   "metadata": {},
   "outputs": [
    {
     "data": {
      "text/plain": [
       "Year\n",
       "2010.0    54\n",
       "2011.0    43\n",
       "2012.0    35\n",
       "Name: count, dtype: int64"
      ]
     },
     "execution_count": 14,
     "metadata": {},
     "output_type": "execute_result"
    }
   ],
   "source": [
    "df1['Year'].value_counts().sort_index()"
   ]
  },
  {
   "cell_type": "code",
   "execution_count": 15,
   "metadata": {},
   "outputs": [
    {
     "data": {
      "text/plain": [
       "Week_of_year\n",
       "1     5\n",
       "2     1\n",
       "3     1\n",
       "5     2\n",
       "6     4\n",
       "7     4\n",
       "8     2\n",
       "9     1\n",
       "10    1\n",
       "11    3\n",
       "12    5\n",
       "13    2\n",
       "15    3\n",
       "16    3\n",
       "17    3\n",
       "18    3\n",
       "19    4\n",
       "20    2\n",
       "21    6\n",
       "22    3\n",
       "23    2\n",
       "24    3\n",
       "25    6\n",
       "26    2\n",
       "27    4\n",
       "28    1\n",
       "29    2\n",
       "30    6\n",
       "31    2\n",
       "32    3\n",
       "33    2\n",
       "34    4\n",
       "35    1\n",
       "36    3\n",
       "37    2\n",
       "38    4\n",
       "39    1\n",
       "40    1\n",
       "41    3\n",
       "42    4\n",
       "45    4\n",
       "46    3\n",
       "47    1\n",
       "49    4\n",
       "50    4\n",
       "52    2\n",
       "Name: count, dtype: Int64"
      ]
     },
     "execution_count": 15,
     "metadata": {},
     "output_type": "execute_result"
    }
   ],
   "source": [
    "df1['Week_of_year'].value_counts().sort_index()"
   ]
  },
  {
   "cell_type": "markdown",
   "metadata": {},
   "source": [
    "There is not enouth entries per week of the year to use this variable in the model. we will need to drop it as well. but first, let's see some visualization:"
   ]
  },
  {
   "cell_type": "code",
   "execution_count": 16,
   "metadata": {},
   "outputs": [
    {
     "data": {
      "application/vnd.plotly.v1+json": {
       "config": {
        "plotlyServerURL": "https://plot.ly"
       },
       "data": [
        {
         "hovertemplate": "Date=%{x}<br>Weekly_Sales=%{y}<extra></extra>",
         "legendgroup": "",
         "marker": {
          "color": "Plum",
          "pattern": {
           "shape": ""
          }
         },
         "name": "",
         "orientation": "v",
         "showlegend": false,
         "textposition": "auto",
         "type": "bar",
         "x": [
          "2010-02-05T00:00:00",
          "2010-02-12T00:00:00",
          "2010-02-19T00:00:00",
          "2010-02-26T00:00:00",
          "2010-03-12T00:00:00",
          "2010-03-26T00:00:00",
          "2010-04-02T00:00:00",
          "2010-04-16T00:00:00",
          "2010-04-30T00:00:00",
          "2010-05-14T00:00:00",
          "2010-05-28T00:00:00",
          "2010-06-04T00:00:00",
          "2010-06-11T00:00:00",
          "2010-06-18T00:00:00",
          "2010-06-25T00:00:00",
          "2010-07-02T00:00:00",
          "2010-07-09T00:00:00",
          "2010-07-30T00:00:00",
          "2010-08-06T00:00:00",
          "2010-08-20T00:00:00",
          "2010-08-27T00:00:00",
          "2010-09-03T00:00:00",
          "2010-09-10T00:00:00",
          "2010-09-17T00:00:00",
          "2010-09-24T00:00:00",
          "2010-10-01T00:00:00",
          "2010-10-15T00:00:00",
          "2010-11-12T00:00:00",
          "2010-11-19T00:00:00",
          "2010-11-26T00:00:00",
          "2010-12-10T00:00:00",
          "2010-12-17T00:00:00",
          "2010-12-31T00:00:00",
          "2011-01-07T00:00:00",
          "2011-02-18T00:00:00",
          "2011-03-25T00:00:00",
          "2011-04-15T00:00:00",
          "2011-04-22T00:00:00",
          "2011-05-06T00:00:00",
          "2011-05-13T00:00:00",
          "2011-05-20T00:00:00",
          "2011-05-27T00:00:00",
          "2011-06-03T00:00:00",
          "2011-06-10T00:00:00",
          "2011-06-24T00:00:00",
          "2011-07-08T00:00:00",
          "2011-07-15T00:00:00",
          "2011-07-22T00:00:00",
          "2011-07-29T00:00:00",
          "2011-08-05T00:00:00",
          "2011-08-12T00:00:00",
          "2011-08-19T00:00:00",
          "2011-08-26T00:00:00",
          "2011-09-23T00:00:00",
          "2011-10-07T00:00:00",
          "2011-11-11T00:00:00",
          "2011-11-18T00:00:00",
          "2011-12-09T00:00:00",
          "2011-12-16T00:00:00",
          "2011-12-30T00:00:00",
          "2012-01-06T00:00:00",
          "2012-01-13T00:00:00",
          "2012-01-20T00:00:00",
          "2012-02-03T00:00:00",
          "2012-02-10T00:00:00",
          "2012-02-17T00:00:00",
          "2012-02-24T00:00:00",
          "2012-03-02T00:00:00",
          "2012-03-16T00:00:00",
          "2012-03-30T00:00:00",
          "2012-04-13T00:00:00",
          "2012-04-20T00:00:00",
          "2012-04-27T00:00:00",
          "2012-05-04T00:00:00",
          "2012-05-11T00:00:00",
          "2012-05-18T00:00:00",
          "2012-05-25T00:00:00",
          "2012-06-01T00:00:00",
          "2012-06-22T00:00:00",
          "2012-07-06T00:00:00",
          "2012-07-27T00:00:00",
          "2012-09-07T00:00:00",
          "2012-09-14T00:00:00",
          "2012-10-12T00:00:00",
          "2012-10-19T00:00:00"
         ],
         "xaxis": "x",
         "y": {
          "bdata": "FK5H4dgsHEG4HoVr6x1EQVK4HiUFQEVBFK5Hoef5P0EfhetRYEEqQTMzM3NPxjVBexSuR/IfIUFSuB6F1R8nQQAAAACqajtBAAAAgOvMNkGamZnJwyZSQTMzMzOjOhhBuB6Fa4jLKUF6FK4nEtlHQdejcN3yNlBBHoXrsXI3S0GuR+F6escwQSlcj+LIKkhBmpmZ2SXLMUEUrkehVXo+QZqZmdlT1kFBAAAAAAAAAAD2KFwPno8rQTMzM7PHiClBZmZmpvdOO0GkcD2KLk4pQTMzMzPkay9BexSuBxp0R0EzMzMzPbofQSlcj4I60DpB4XoUHuMXXEF7FK4H4gBGQaRwPco5djtBH4XrccajS0GkcD2KFf03QWZmZmZ25VJBCtejcPsnLkHhehTuvgM5QUjhejRpx0dB7FG4HgCEJUEpXI/CFJMaQXA9CpfVikJBFK5HYcg4JUEUrkehUWQ2QbgehesYpT5Bw/Uo3G2IP0EpXI/CCM89QT0K12MHEj9B4XoUrhjLEEEAAADAP8k4QUjhepTF3ExBAAAAALVQK0EUrkfhX0k/QTMzM/Oj4UBBmpmZmTmeGEHNzMzMigkTQbgehauSkz1BAAAAAAAAAADC9ShsKdpTQQAAAAAAAAAAPQrXI2B1O0GuR+F6Om0WQVyPwjWWpDtBmpmZmcHPQEEUrkeBpiVEQdejcP3G1D5BMzMzs6poPEFSuB4F414+QYXrUaiATVBBPQrXo52bHUEAAAAAAAAAAB+F61ErITpBXI/CdURVLUEK16NwT3A1QQrXo3DFXRpBAAAAAAAAAACkcD2KB0IgQT0K12PnDj9B9ihcT2jOPEGkcD3Kr447QQAAAAAAAAAAmpmZGek+IkEfhetRehEgQXA9ClflbD5BAAAAAJoiQUE=",
          "dtype": "f8"
         },
         "yaxis": "y"
        },
        {
         "hovertemplate": "week=%{x}<br>Weekly_Sales=%{y}<extra></extra>",
         "legendgroup": "",
         "marker": {
          "color": "skyblue",
          "pattern": {
           "shape": ""
          }
         },
         "name": "",
         "orientation": "v",
         "showlegend": false,
         "textposition": "auto",
         "type": "bar",
         "x": {
          "bdata": "AAAAAAAA8D8AAAAAAAAAQAAAAAAAAAhAAAAAAAAAEEAAAAAAAAAUQA==",
          "dtype": "f8"
         },
         "xaxis": "x2",
         "y": {
          "bdata": "16Nw3fr4ekFmZmbaSRB/QcP1KFwyl4JBrkfhgsWLg0GPwvXICLRcQQ==",
          "dtype": "f8"
         },
         "yaxis": "y2"
        },
        {
         "hovertemplate": "Month=%{x}<br>Weekly_Sales=%{y}<extra></extra>",
         "legendgroup": "",
         "marker": {
          "color": "lightgreen",
          "pattern": {
           "shape": ""
          }
         },
         "name": "",
         "orientation": "v",
         "showlegend": false,
         "textposition": "auto",
         "type": "bar",
         "x": {
          "bdata": "AAAAAAAA8D8AAAAAAAAAQAAAAAAAAAhAAAAAAAAAEEAAAAAAAAAUQAAAAAAAABhAAAAAAAAAHEAAAAAAAAAgQAAAAAAAACJAAAAAAAAAJEAAAAAAAAAmQAAAAAAAAChA",
          "dtype": "f8"
         },
         "xaxis": "x3",
         "y": {
          "bdata": "cT0KdzT/XEHsUbhmZW5xQQrXo8gUr2pBMzMzA8MNYEEehetBgDNtQXA9Cmev4G9BuB6Fs9x2bkFwPQoP1WxqQY/C9QipMVpBcT0KR6zNWEH2KFzPPP9cQcL1KAADdHBB",
          "dtype": "f8"
         },
         "yaxis": "y3"
        },
        {
         "hovertemplate": "Year=%{x}<br>Weekly_Sales=%{y}<extra></extra>",
         "legendgroup": "",
         "marker": {
          "color": "Khaki",
          "pattern": {
           "shape": ""
          }
         },
         "name": "",
         "orientation": "v",
         "showlegend": false,
         "textposition": "auto",
         "type": "bar",
         "x": {
          "bdata": "AAAAAABon0AAAAAAAGyfQAAAAAAAcJ9A",
          "dtype": "f8"
         },
         "xaxis": "x4",
         "y": {
          "bdata": "Ctejpo2yjkHrUbgo7BKHQexRuISh+IBB",
          "dtype": "f8"
         },
         "yaxis": "y4"
        },
        {
         "hovertemplate": "Week_of_year=%{x}<br>Weekly_Sales=%{y}<extra></extra>",
         "legendgroup": "",
         "marker": {
          "color": "salmon",
          "pattern": {
           "shape": ""
          }
         },
         "name": "",
         "orientation": "v",
         "showlegend": false,
         "textposition": "auto",
         "type": "bar",
         "x": {
          "bdata": "AQAAAAIAAAADAAAABQAAAAYAAAAHAAAACAAAAAkAAAAKAAAACwAAAAwAAAANAAAADwAAABAAAAARAAAAEgAAABMAAAAUAAAAFQAAABYAAAAXAAAAGAAAABkAAAAaAAAAGwAAABwAAAAdAAAAHgAAAB8AAAAgAAAAIQAAACIAAAAjAAAAJAAAACUAAAAmAAAAJwAAACgAAAApAAAAKgAAAC0AAAAuAAAALwAAADEAAAAyAAAANAAAAA==",
          "dtype": "u4"
         },
         "xaxis": "x5",
         "y": {
          "bdata": "H4XrQTuvVEGuR+F6Om0WQVyPwjWWpDtBXI/CtVxVREFmZmb2yCFUQUjherR5VFhBpHA9KkkxTkFSuB4F414+QR+F61FgQSpBhetRqIBNUEEzMzNDCldYQZqZmRnB7S9BrkfheuijOkEAAAAgdZJJQdejcB2mCkVBZmZmdsg/UUFcj8J1LhNEQSlcj8IUkxpBZmZmhm90XUEK16Mw+txHQbgehesKpUFBehSuJxLZR0HD9Sgs0xNfQR6F67FyN0tBhetRCKb3UkEpXI/CCM89QT0K12MHEj9BhetR+CtESkHNzMzMMkpFQUjhepTF3ExBCtejEFgRRkFSuB7lgb1QQQAAAAAAAAAASOF6lEPnNkEpXI8CIc00QWZmZsYfiU5BpHA9ii5OKUGamZmZOZ4YQYXrUbhrEUdBAAAAAJoiQUEUrkdhS9VJQcL1KPwQwUJBKVyPgjrQOkHhehQe4xdcQQAAAHCa2l5BpHA9yjl2O0E=",
          "dtype": "f8"
         },
         "yaxis": "y5"
        }
       ],
       "layout": {
        "annotations": [
         {
          "font": {
           "size": 16
          },
          "showarrow": false,
          "text": "Total Weekly Sales per Date",
          "x": 0.225,
          "xanchor": "center",
          "xref": "paper",
          "y": 1,
          "yanchor": "bottom",
          "yref": "paper"
         },
         {
          "font": {
           "size": 16
          },
          "showarrow": false,
          "text": "Total Weekly Sales per week",
          "x": 0.775,
          "xanchor": "center",
          "xref": "paper",
          "y": 1,
          "yanchor": "bottom",
          "yref": "paper"
         },
         {
          "font": {
           "size": 16
          },
          "showarrow": false,
          "text": "Total Weekly Sales per Month",
          "x": 0.225,
          "xanchor": "center",
          "xref": "paper",
          "y": 0.6111111111111112,
          "yanchor": "bottom",
          "yref": "paper"
         },
         {
          "font": {
           "size": 16
          },
          "showarrow": false,
          "text": "Total Weekly Sales per Year",
          "x": 0.775,
          "xanchor": "center",
          "xref": "paper",
          "y": 0.6111111111111112,
          "yanchor": "bottom",
          "yref": "paper"
         },
         {
          "font": {
           "size": 16
          },
          "showarrow": false,
          "text": "Total Weekly Sales per Week_of_year",
          "x": 0.225,
          "xanchor": "center",
          "xref": "paper",
          "y": 0.22222222222222224,
          "yanchor": "bottom",
          "yref": "paper"
         }
        ],
        "showlegend": false,
        "template": {
         "data": {
          "bar": [
           {
            "error_x": {
             "color": "#2a3f5f"
            },
            "error_y": {
             "color": "#2a3f5f"
            },
            "marker": {
             "line": {
              "color": "#E5ECF6",
              "width": 0.5
             },
             "pattern": {
              "fillmode": "overlay",
              "size": 10,
              "solidity": 0.2
             }
            },
            "type": "bar"
           }
          ],
          "barpolar": [
           {
            "marker": {
             "line": {
              "color": "#E5ECF6",
              "width": 0.5
             },
             "pattern": {
              "fillmode": "overlay",
              "size": 10,
              "solidity": 0.2
             }
            },
            "type": "barpolar"
           }
          ],
          "carpet": [
           {
            "aaxis": {
             "endlinecolor": "#2a3f5f",
             "gridcolor": "white",
             "linecolor": "white",
             "minorgridcolor": "white",
             "startlinecolor": "#2a3f5f"
            },
            "baxis": {
             "endlinecolor": "#2a3f5f",
             "gridcolor": "white",
             "linecolor": "white",
             "minorgridcolor": "white",
             "startlinecolor": "#2a3f5f"
            },
            "type": "carpet"
           }
          ],
          "choropleth": [
           {
            "colorbar": {
             "outlinewidth": 0,
             "ticks": ""
            },
            "type": "choropleth"
           }
          ],
          "contour": [
           {
            "colorbar": {
             "outlinewidth": 0,
             "ticks": ""
            },
            "colorscale": [
             [
              0,
              "#0d0887"
             ],
             [
              0.1111111111111111,
              "#46039f"
             ],
             [
              0.2222222222222222,
              "#7201a8"
             ],
             [
              0.3333333333333333,
              "#9c179e"
             ],
             [
              0.4444444444444444,
              "#bd3786"
             ],
             [
              0.5555555555555556,
              "#d8576b"
             ],
             [
              0.6666666666666666,
              "#ed7953"
             ],
             [
              0.7777777777777778,
              "#fb9f3a"
             ],
             [
              0.8888888888888888,
              "#fdca26"
             ],
             [
              1,
              "#f0f921"
             ]
            ],
            "type": "contour"
           }
          ],
          "contourcarpet": [
           {
            "colorbar": {
             "outlinewidth": 0,
             "ticks": ""
            },
            "type": "contourcarpet"
           }
          ],
          "heatmap": [
           {
            "colorbar": {
             "outlinewidth": 0,
             "ticks": ""
            },
            "colorscale": [
             [
              0,
              "#0d0887"
             ],
             [
              0.1111111111111111,
              "#46039f"
             ],
             [
              0.2222222222222222,
              "#7201a8"
             ],
             [
              0.3333333333333333,
              "#9c179e"
             ],
             [
              0.4444444444444444,
              "#bd3786"
             ],
             [
              0.5555555555555556,
              "#d8576b"
             ],
             [
              0.6666666666666666,
              "#ed7953"
             ],
             [
              0.7777777777777778,
              "#fb9f3a"
             ],
             [
              0.8888888888888888,
              "#fdca26"
             ],
             [
              1,
              "#f0f921"
             ]
            ],
            "type": "heatmap"
           }
          ],
          "histogram": [
           {
            "marker": {
             "pattern": {
              "fillmode": "overlay",
              "size": 10,
              "solidity": 0.2
             }
            },
            "type": "histogram"
           }
          ],
          "histogram2d": [
           {
            "colorbar": {
             "outlinewidth": 0,
             "ticks": ""
            },
            "colorscale": [
             [
              0,
              "#0d0887"
             ],
             [
              0.1111111111111111,
              "#46039f"
             ],
             [
              0.2222222222222222,
              "#7201a8"
             ],
             [
              0.3333333333333333,
              "#9c179e"
             ],
             [
              0.4444444444444444,
              "#bd3786"
             ],
             [
              0.5555555555555556,
              "#d8576b"
             ],
             [
              0.6666666666666666,
              "#ed7953"
             ],
             [
              0.7777777777777778,
              "#fb9f3a"
             ],
             [
              0.8888888888888888,
              "#fdca26"
             ],
             [
              1,
              "#f0f921"
             ]
            ],
            "type": "histogram2d"
           }
          ],
          "histogram2dcontour": [
           {
            "colorbar": {
             "outlinewidth": 0,
             "ticks": ""
            },
            "colorscale": [
             [
              0,
              "#0d0887"
             ],
             [
              0.1111111111111111,
              "#46039f"
             ],
             [
              0.2222222222222222,
              "#7201a8"
             ],
             [
              0.3333333333333333,
              "#9c179e"
             ],
             [
              0.4444444444444444,
              "#bd3786"
             ],
             [
              0.5555555555555556,
              "#d8576b"
             ],
             [
              0.6666666666666666,
              "#ed7953"
             ],
             [
              0.7777777777777778,
              "#fb9f3a"
             ],
             [
              0.8888888888888888,
              "#fdca26"
             ],
             [
              1,
              "#f0f921"
             ]
            ],
            "type": "histogram2dcontour"
           }
          ],
          "mesh3d": [
           {
            "colorbar": {
             "outlinewidth": 0,
             "ticks": ""
            },
            "type": "mesh3d"
           }
          ],
          "parcoords": [
           {
            "line": {
             "colorbar": {
              "outlinewidth": 0,
              "ticks": ""
             }
            },
            "type": "parcoords"
           }
          ],
          "pie": [
           {
            "automargin": true,
            "type": "pie"
           }
          ],
          "scatter": [
           {
            "fillpattern": {
             "fillmode": "overlay",
             "size": 10,
             "solidity": 0.2
            },
            "type": "scatter"
           }
          ],
          "scatter3d": [
           {
            "line": {
             "colorbar": {
              "outlinewidth": 0,
              "ticks": ""
             }
            },
            "marker": {
             "colorbar": {
              "outlinewidth": 0,
              "ticks": ""
             }
            },
            "type": "scatter3d"
           }
          ],
          "scattercarpet": [
           {
            "marker": {
             "colorbar": {
              "outlinewidth": 0,
              "ticks": ""
             }
            },
            "type": "scattercarpet"
           }
          ],
          "scattergeo": [
           {
            "marker": {
             "colorbar": {
              "outlinewidth": 0,
              "ticks": ""
             }
            },
            "type": "scattergeo"
           }
          ],
          "scattergl": [
           {
            "marker": {
             "colorbar": {
              "outlinewidth": 0,
              "ticks": ""
             }
            },
            "type": "scattergl"
           }
          ],
          "scattermap": [
           {
            "marker": {
             "colorbar": {
              "outlinewidth": 0,
              "ticks": ""
             }
            },
            "type": "scattermap"
           }
          ],
          "scattermapbox": [
           {
            "marker": {
             "colorbar": {
              "outlinewidth": 0,
              "ticks": ""
             }
            },
            "type": "scattermapbox"
           }
          ],
          "scatterpolar": [
           {
            "marker": {
             "colorbar": {
              "outlinewidth": 0,
              "ticks": ""
             }
            },
            "type": "scatterpolar"
           }
          ],
          "scatterpolargl": [
           {
            "marker": {
             "colorbar": {
              "outlinewidth": 0,
              "ticks": ""
             }
            },
            "type": "scatterpolargl"
           }
          ],
          "scatterternary": [
           {
            "marker": {
             "colorbar": {
              "outlinewidth": 0,
              "ticks": ""
             }
            },
            "type": "scatterternary"
           }
          ],
          "surface": [
           {
            "colorbar": {
             "outlinewidth": 0,
             "ticks": ""
            },
            "colorscale": [
             [
              0,
              "#0d0887"
             ],
             [
              0.1111111111111111,
              "#46039f"
             ],
             [
              0.2222222222222222,
              "#7201a8"
             ],
             [
              0.3333333333333333,
              "#9c179e"
             ],
             [
              0.4444444444444444,
              "#bd3786"
             ],
             [
              0.5555555555555556,
              "#d8576b"
             ],
             [
              0.6666666666666666,
              "#ed7953"
             ],
             [
              0.7777777777777778,
              "#fb9f3a"
             ],
             [
              0.8888888888888888,
              "#fdca26"
             ],
             [
              1,
              "#f0f921"
             ]
            ],
            "type": "surface"
           }
          ],
          "table": [
           {
            "cells": {
             "fill": {
              "color": "#EBF0F8"
             },
             "line": {
              "color": "white"
             }
            },
            "header": {
             "fill": {
              "color": "#C8D4E3"
             },
             "line": {
              "color": "white"
             }
            },
            "type": "table"
           }
          ]
         },
         "layout": {
          "annotationdefaults": {
           "arrowcolor": "#2a3f5f",
           "arrowhead": 0,
           "arrowwidth": 1
          },
          "autotypenumbers": "strict",
          "coloraxis": {
           "colorbar": {
            "outlinewidth": 0,
            "ticks": ""
           }
          },
          "colorscale": {
           "diverging": [
            [
             0,
             "#8e0152"
            ],
            [
             0.1,
             "#c51b7d"
            ],
            [
             0.2,
             "#de77ae"
            ],
            [
             0.3,
             "#f1b6da"
            ],
            [
             0.4,
             "#fde0ef"
            ],
            [
             0.5,
             "#f7f7f7"
            ],
            [
             0.6,
             "#e6f5d0"
            ],
            [
             0.7,
             "#b8e186"
            ],
            [
             0.8,
             "#7fbc41"
            ],
            [
             0.9,
             "#4d9221"
            ],
            [
             1,
             "#276419"
            ]
           ],
           "sequential": [
            [
             0,
             "#0d0887"
            ],
            [
             0.1111111111111111,
             "#46039f"
            ],
            [
             0.2222222222222222,
             "#7201a8"
            ],
            [
             0.3333333333333333,
             "#9c179e"
            ],
            [
             0.4444444444444444,
             "#bd3786"
            ],
            [
             0.5555555555555556,
             "#d8576b"
            ],
            [
             0.6666666666666666,
             "#ed7953"
            ],
            [
             0.7777777777777778,
             "#fb9f3a"
            ],
            [
             0.8888888888888888,
             "#fdca26"
            ],
            [
             1,
             "#f0f921"
            ]
           ],
           "sequentialminus": [
            [
             0,
             "#0d0887"
            ],
            [
             0.1111111111111111,
             "#46039f"
            ],
            [
             0.2222222222222222,
             "#7201a8"
            ],
            [
             0.3333333333333333,
             "#9c179e"
            ],
            [
             0.4444444444444444,
             "#bd3786"
            ],
            [
             0.5555555555555556,
             "#d8576b"
            ],
            [
             0.6666666666666666,
             "#ed7953"
            ],
            [
             0.7777777777777778,
             "#fb9f3a"
            ],
            [
             0.8888888888888888,
             "#fdca26"
            ],
            [
             1,
             "#f0f921"
            ]
           ]
          },
          "colorway": [
           "#636efa",
           "#EF553B",
           "#00cc96",
           "#ab63fa",
           "#FFA15A",
           "#19d3f3",
           "#FF6692",
           "#B6E880",
           "#FF97FF",
           "#FECB52"
          ],
          "font": {
           "color": "#2a3f5f"
          },
          "geo": {
           "bgcolor": "white",
           "lakecolor": "white",
           "landcolor": "#E5ECF6",
           "showlakes": true,
           "showland": true,
           "subunitcolor": "white"
          },
          "hoverlabel": {
           "align": "left"
          },
          "hovermode": "closest",
          "mapbox": {
           "style": "light"
          },
          "paper_bgcolor": "white",
          "plot_bgcolor": "#E5ECF6",
          "polar": {
           "angularaxis": {
            "gridcolor": "white",
            "linecolor": "white",
            "ticks": ""
           },
           "bgcolor": "#E5ECF6",
           "radialaxis": {
            "gridcolor": "white",
            "linecolor": "white",
            "ticks": ""
           }
          },
          "scene": {
           "xaxis": {
            "backgroundcolor": "#E5ECF6",
            "gridcolor": "white",
            "gridwidth": 2,
            "linecolor": "white",
            "showbackground": true,
            "ticks": "",
            "zerolinecolor": "white"
           },
           "yaxis": {
            "backgroundcolor": "#E5ECF6",
            "gridcolor": "white",
            "gridwidth": 2,
            "linecolor": "white",
            "showbackground": true,
            "ticks": "",
            "zerolinecolor": "white"
           },
           "zaxis": {
            "backgroundcolor": "#E5ECF6",
            "gridcolor": "white",
            "gridwidth": 2,
            "linecolor": "white",
            "showbackground": true,
            "ticks": "",
            "zerolinecolor": "white"
           }
          },
          "shapedefaults": {
           "line": {
            "color": "#2a3f5f"
           }
          },
          "ternary": {
           "aaxis": {
            "gridcolor": "white",
            "linecolor": "white",
            "ticks": ""
           },
           "baxis": {
            "gridcolor": "white",
            "linecolor": "white",
            "ticks": ""
           },
           "bgcolor": "#E5ECF6",
           "caxis": {
            "gridcolor": "white",
            "linecolor": "white",
            "ticks": ""
           }
          },
          "title": {
           "x": 0.05
          },
          "xaxis": {
           "automargin": true,
           "gridcolor": "white",
           "linecolor": "white",
           "ticks": "",
           "title": {
            "standoff": 15
           },
           "zerolinecolor": "white",
           "zerolinewidth": 2
          },
          "yaxis": {
           "automargin": true,
           "gridcolor": "white",
           "linecolor": "white",
           "ticks": "",
           "title": {
            "standoff": 15
           },
           "zerolinecolor": "white",
           "zerolinewidth": 2
          }
         }
        },
        "title": {
         "text": "Total Weekly Sales by Different Time Periods"
        },
        "xaxis": {
         "anchor": "y",
         "domain": [
          0,
          0.45
         ]
        },
        "xaxis2": {
         "anchor": "y2",
         "domain": [
          0.55,
          1
         ]
        },
        "xaxis3": {
         "anchor": "y3",
         "domain": [
          0,
          0.45
         ]
        },
        "xaxis4": {
         "anchor": "y4",
         "domain": [
          0.55,
          1
         ]
        },
        "xaxis5": {
         "anchor": "y5",
         "domain": [
          0,
          0.45
         ]
        },
        "xaxis6": {
         "anchor": "y6",
         "domain": [
          0.55,
          1
         ]
        },
        "yaxis": {
         "anchor": "x",
         "domain": [
          0.7777777777777778,
          1
         ]
        },
        "yaxis2": {
         "anchor": "x2",
         "domain": [
          0.7777777777777778,
          1
         ]
        },
        "yaxis3": {
         "anchor": "x3",
         "domain": [
          0.3888888888888889,
          0.6111111111111112
         ]
        },
        "yaxis4": {
         "anchor": "x4",
         "domain": [
          0.3888888888888889,
          0.6111111111111112
         ]
        },
        "yaxis5": {
         "anchor": "x5",
         "domain": [
          0,
          0.22222222222222224
         ]
        },
        "yaxis6": {
         "anchor": "x6",
         "domain": [
          0,
          0.22222222222222224
         ]
        }
       }
      }
     },
     "metadata": {},
     "output_type": "display_data"
    }
   ],
   "source": [
    "# Calculate Total sales for each time period\n",
    "Total_sales_per_date = df1.groupby('Date')['Weekly_Sales'].sum().reset_index()\n",
    "Total_sales_per_week = df1.groupby('week')['Weekly_Sales'].sum().reset_index()\n",
    "Total_sales_per_month = df1.groupby('Month')['Weekly_Sales'].sum().reset_index()\n",
    "Total_sales_per_year = df1.groupby('Year')['Weekly_Sales'].sum().reset_index()\n",
    "Total_sales_per_week_of_year = df1.groupby('Week_of_year')['Weekly_Sales'].sum().reset_index()\n",
    "\n",
    "# Create a figure with a 3x2 grid of subplots\n",
    "fig = make_subplots(rows=3, cols=2, subplot_titles=(\n",
    "    'Total Weekly Sales per Date',\n",
    "    'Total Weekly Sales per week',\n",
    "    'Total Weekly Sales per Month',\n",
    "    'Total Weekly Sales per Year',\n",
    "    'Total Weekly Sales per Week_of_year'\n",
    "))\n",
    "\n",
    "# Plot : Total Weekly Sales per Date\n",
    "fig.add_trace(\n",
    "    px.bar(Total_sales_per_date, x='Date', y='Weekly_Sales', color_discrete_sequence=['Plum']).data[0],\n",
    "    row=1, col=1\n",
    ")\n",
    "\n",
    "# Plot 1: Total Weekly Sales per week\n",
    "fig.add_trace(\n",
    "    px.bar(Total_sales_per_week, x='week', y='Weekly_Sales', color_discrete_sequence=['skyblue']).data[0],\n",
    "    row=1, col=2\n",
    ")\n",
    "\n",
    "# Plot 2: Total Weekly Sales per Month\n",
    "fig.add_trace(\n",
    "    px.bar(Total_sales_per_month, x='Month', y='Weekly_Sales', color_discrete_sequence=['lightgreen']).data[0],\n",
    "    row=2, col=1\n",
    ")\n",
    "\n",
    "# Plot 3: Total Weekly Sales per Year\n",
    "fig.add_trace(\n",
    "    px.bar(Total_sales_per_year, x='Year', y='Weekly_Sales', color_discrete_sequence=['Khaki']).data[0],\n",
    "    row=2, col=2\n",
    ")\n",
    "\n",
    "# Plot 4: Total Weekly Sales per Week_of_year\n",
    "fig.add_trace(\n",
    "    px.bar(Total_sales_per_week_of_year, x='Week_of_year', y='Weekly_Sales', color_discrete_sequence=['salmon']).data[0],\n",
    "    row=3, col=1\n",
    ")\n",
    "\n",
    "# Update layout to prevent overlap\n",
    "fig.update_layout(showlegend=False, title_text=\"Total Weekly Sales by Different Time Periods\")\n",
    "\n",
    "# Show the plot\n",
    "fig.show()\n"
   ]
  },
  {
   "cell_type": "code",
   "execution_count": 17,
   "metadata": {},
   "outputs": [
    {
     "data": {
      "application/vnd.plotly.v1+json": {
       "config": {
        "plotlyServerURL": "https://plot.ly"
       },
       "data": [
        {
         "hovertemplate": "Date=%{x}<br>Weekly_Sales=%{y}<extra></extra>",
         "legendgroup": "",
         "marker": {
          "color": "Plum",
          "pattern": {
           "shape": ""
          }
         },
         "name": "",
         "orientation": "v",
         "showlegend": false,
         "textposition": "auto",
         "type": "bar",
         "x": [
          "2010-02-05T00:00:00",
          "2010-02-12T00:00:00",
          "2010-02-19T00:00:00",
          "2010-02-26T00:00:00",
          "2010-03-12T00:00:00",
          "2010-03-26T00:00:00",
          "2010-04-02T00:00:00",
          "2010-04-16T00:00:00",
          "2010-04-30T00:00:00",
          "2010-05-14T00:00:00",
          "2010-05-28T00:00:00",
          "2010-06-04T00:00:00",
          "2010-06-11T00:00:00",
          "2010-06-18T00:00:00",
          "2010-06-25T00:00:00",
          "2010-07-02T00:00:00",
          "2010-07-09T00:00:00",
          "2010-07-30T00:00:00",
          "2010-08-06T00:00:00",
          "2010-08-20T00:00:00",
          "2010-08-27T00:00:00",
          "2010-09-03T00:00:00",
          "2010-09-10T00:00:00",
          "2010-09-17T00:00:00",
          "2010-09-24T00:00:00",
          "2010-10-01T00:00:00",
          "2010-10-15T00:00:00",
          "2010-11-12T00:00:00",
          "2010-11-19T00:00:00",
          "2010-11-26T00:00:00",
          "2010-12-10T00:00:00",
          "2010-12-17T00:00:00",
          "2010-12-31T00:00:00",
          "2011-01-07T00:00:00",
          "2011-02-18T00:00:00",
          "2011-03-25T00:00:00",
          "2011-04-15T00:00:00",
          "2011-04-22T00:00:00",
          "2011-05-06T00:00:00",
          "2011-05-13T00:00:00",
          "2011-05-20T00:00:00",
          "2011-05-27T00:00:00",
          "2011-06-03T00:00:00",
          "2011-06-10T00:00:00",
          "2011-06-24T00:00:00",
          "2011-07-08T00:00:00",
          "2011-07-15T00:00:00",
          "2011-07-22T00:00:00",
          "2011-07-29T00:00:00",
          "2011-08-05T00:00:00",
          "2011-08-12T00:00:00",
          "2011-08-19T00:00:00",
          "2011-08-26T00:00:00",
          "2011-09-23T00:00:00",
          "2011-10-07T00:00:00",
          "2011-11-11T00:00:00",
          "2011-11-18T00:00:00",
          "2011-12-09T00:00:00",
          "2011-12-16T00:00:00",
          "2011-12-30T00:00:00",
          "2012-01-06T00:00:00",
          "2012-01-13T00:00:00",
          "2012-01-20T00:00:00",
          "2012-02-03T00:00:00",
          "2012-02-10T00:00:00",
          "2012-02-17T00:00:00",
          "2012-02-24T00:00:00",
          "2012-03-02T00:00:00",
          "2012-03-16T00:00:00",
          "2012-03-30T00:00:00",
          "2012-04-13T00:00:00",
          "2012-04-20T00:00:00",
          "2012-04-27T00:00:00",
          "2012-05-04T00:00:00",
          "2012-05-11T00:00:00",
          "2012-05-18T00:00:00",
          "2012-05-25T00:00:00",
          "2012-06-01T00:00:00",
          "2012-06-22T00:00:00",
          "2012-07-06T00:00:00",
          "2012-07-27T00:00:00",
          "2012-09-07T00:00:00",
          "2012-09-14T00:00:00",
          "2012-10-12T00:00:00",
          "2012-10-19T00:00:00"
         ],
         "xaxis": "x",
         "y": {
          "bdata": "FK5H4dgsHEG4HoVr6x00QVK4HiUFQDVBFK5Hoef5P0EfhetRYEEqQTMzM3NPxjVBexSuR/IfIUFSuB6F1R8nQQAAAACqaitBAAAAgOvMNkF4d3e3rzM4QTMzMzOjOhhBuB6Fa4jLKUFNG+g0GMwvQXTaQCeZnjVBHoXrsXI3O0GuR+F6escgQcaSX+yFHDBBmpmZ2SXLMUEUrkehVXo+QZqZmdlT1jFBAAAAAAAA+H/2KFwPno8rQTMzM7PHiClBZmZmpvdOO0GkcD2KLk4pQTMzMzPkay9BpHA9CnhFL0EzMzMzPbofQSlcj4I60DpBlvxiaZe6QkF7FK4H4gA2QaRwPco5djtBH4XrccajO0GkcD2KFf03QTMzMzPzMTlBCtejcPsnLkHhehTuvgM5QUjhejRpxzdB7FG4HgCEFUEpXI/CFJMaQXA9CpfVijJBFK5HYcg4JUEUrkehUWQ2QbgehesYpT5Bw/Uo3G2IP0EpXI/CCM89QT0K12MHEj9B4XoUrhjLEEEAAADAP8k4QdtApw3ZPTNBAAAAALVQK0EUrkfhX0kvQTMzM/Oj4TBBmpmZmTmeGEHNzMzMigkTQbgehauSky1BAAAAAAAA+H/C9ShsKdpDQQAAAAAAAPh/PQrXI2B1O0GuR+F6Om0WQVyPwjWWpDtBmpmZmcHPQEEUrkeBpiU0QdejcP3G1D5BMzMzs6poPEFSuB4F414+QbHkF4urvDVBPQrXo52bHUEAAAAAAAD4fx+F61ErISpBXI/CdURVLUEK16NwT3A1QQrXo3DFXRpBAAAAAAAA+H+kcD2KB0IgQT0K12PnDj9B9ihcT2jOLEGkcD3Kr447QQAAAAAAAPh/mpmZGek+IkEfhetRehEgQXA9ClflbC5BVVVVVc3YJkE=",
          "dtype": "f8"
         },
         "yaxis": "y"
        },
        {
         "hovertemplate": "week=%{x}<br>Weekly_Sales=%{y}<extra></extra>",
         "legendgroup": "",
         "marker": {
          "color": "skyblue",
          "pattern": {
           "shape": ""
          }
         },
         "name": "",
         "orientation": "v",
         "showlegend": false,
         "textposition": "auto",
         "type": "bar",
         "x": {
          "bdata": "AAAAAAAA8D8AAAAAAAAAQAAAAAAAAAhAAAAAAAAAEEAAAAAAAAAUQA==",
          "dtype": "f8"
         },
         "xaxis": "x2",
         "y": {
          "bdata": "fyer5e+MNEF/OOAxeCMxQdKBER24MDNBVtxQL2eRNUGPwvXICLQsQQ==",
          "dtype": "f8"
         },
         "yaxis": "y2"
        },
        {
         "hovertemplate": "Month=%{x}<br>Weekly_Sales=%{y}<extra></extra>",
         "legendgroup": "",
         "marker": {
          "color": "lightgreen",
          "pattern": {
           "shape": ""
          }
         },
         "name": "",
         "orientation": "v",
         "showlegend": false,
         "textposition": "auto",
         "type": "bar",
         "x": {
          "bdata": "AAAAAAAA8D8AAAAAAAAAQAAAAAAAAAhAAAAAAAAAEEAAAAAAAAAUQAAAAAAAABhAAAAAAAAAHEAAAAAAAAAgQAAAAAAAACJAAAAAAAAAJEAAAAAAAAAmQAAAAAAAAChA",
          "dtype": "f8"
         },
         "xaxis": "x3",
         "y": {
          "bdata": "WmQ7X5AyN0GQwvWI3D03QTvfT23dWDVBPumTPj6KLEFa3hgBt68wQRsjmKg/NzJB0GkDzT1PNEFRuB7F4DczQTaVhpyc7y1BcT0KR6zNKEH2KFzPPP8sQcL1KAADdEBB",
          "dtype": "f8"
         },
         "yaxis": "y3"
        },
        {
         "hovertemplate": "Year=%{x}<br>Weekly_Sales=%{y}<extra></extra>",
         "legendgroup": "",
         "marker": {
          "color": "Khaki",
          "pattern": {
           "shape": ""
          }
         },
         "name": "",
         "orientation": "v",
         "showlegend": false,
         "textposition": "auto",
         "type": "bar",
         "x": {
          "bdata": "AAAAAABon0AAAAAAAGyfQAAAAAAAcJ9A",
          "dtype": "f8"
         },
         "xaxis": "x4",
         "y": {
          "bdata": "V/CJY9tCM0EeheuRsPQzQcm95uJFGjJB",
          "dtype": "f8"
         },
         "yaxis": "y4"
        },
        {
         "hovertemplate": "Week_of_year=%{x}<br>Weekly_Sales=%{y}<extra></extra>",
         "legendgroup": "",
         "marker": {
          "color": "salmon",
          "pattern": {
           "shape": ""
          }
         },
         "name": "",
         "orientation": "v",
         "showlegend": false,
         "textposition": "auto",
         "type": "bar",
         "x": {
          "bdata": "AQAAAAIAAAADAAAABQAAAAYAAAAHAAAACAAAAAkAAAAKAAAACwAAAAwAAAANAAAADwAAABAAAAARAAAAEgAAABMAAAAUAAAAFQAAABYAAAAXAAAAGAAAABkAAAAaAAAAGwAAABwAAAAdAAAAHgAAAB8AAAAgAAAAIQAAACIAAAAjAAAAJAAAACUAAAAmAAAAJwAAACgAAAApAAAAKgAAAC0AAAAuAAAALwAAADEAAAAyAAAANAAAAA==",
          "dtype": "u4"
         },
         "xaxis": "x5",
         "y": {
          "bdata": "KVyPAk+UO0GuR+F6Om0WQVyPwjWWpDtBXI/CtVxVNEFmZmb2yCE0QUjherR5VDhBpHA9KkkxPkFSuB4F414+QR+F61FgQSpBseQXi6u8NUEzMzNDClc4QZqZmRnB7R9BrkfheuijKkFVVVUVTgwxQR+F69EyDixBMzMz87X/NkFcj8J1LhMkQSlcj8IUkxpBREREBPWiM0FjyS+WTdEvQbgehesKpTFBTRvoNBjML0HXo3Ad4rc0QR6F67FyNztBhetRCKb3MkEpXI/CCM89QT0K12MHEj9BhetR+CtEKkHNzMzMMko1QdtApw3ZPTNBCtejEFgRNkFSuB7lgb0wQQAAAAAAAPh/SOF6lEPnJkEpXI8CIc0kQURERIRqWzRBpHA9ii5OKUGamZmZOZ4YQVyPwvXkwS5BVVVVVc3YJkEUrkdhS9UpQa1H4fprASlBKVyPgjrQOkGW/GJpl7pCQQAAAHCa2j5BpHA9yjl2O0E=",
          "dtype": "f8"
         },
         "yaxis": "y5"
        }
       ],
       "layout": {
        "annotations": [
         {
          "font": {
           "size": 16
          },
          "showarrow": false,
          "text": "Average Weekly Sales per Date",
          "x": 0.225,
          "xanchor": "center",
          "xref": "paper",
          "y": 1,
          "yanchor": "bottom",
          "yref": "paper"
         },
         {
          "font": {
           "size": 16
          },
          "showarrow": false,
          "text": "Average Weekly Sales per week",
          "x": 0.775,
          "xanchor": "center",
          "xref": "paper",
          "y": 1,
          "yanchor": "bottom",
          "yref": "paper"
         },
         {
          "font": {
           "size": 16
          },
          "showarrow": false,
          "text": "Average Weekly Sales per Month",
          "x": 0.225,
          "xanchor": "center",
          "xref": "paper",
          "y": 0.6111111111111112,
          "yanchor": "bottom",
          "yref": "paper"
         },
         {
          "font": {
           "size": 16
          },
          "showarrow": false,
          "text": "Average Weekly Sales per Year",
          "x": 0.775,
          "xanchor": "center",
          "xref": "paper",
          "y": 0.6111111111111112,
          "yanchor": "bottom",
          "yref": "paper"
         },
         {
          "font": {
           "size": 16
          },
          "showarrow": false,
          "text": "Average Weekly Sales per Week_of_year",
          "x": 0.225,
          "xanchor": "center",
          "xref": "paper",
          "y": 0.22222222222222224,
          "yanchor": "bottom",
          "yref": "paper"
         }
        ],
        "showlegend": false,
        "template": {
         "data": {
          "bar": [
           {
            "error_x": {
             "color": "#2a3f5f"
            },
            "error_y": {
             "color": "#2a3f5f"
            },
            "marker": {
             "line": {
              "color": "#E5ECF6",
              "width": 0.5
             },
             "pattern": {
              "fillmode": "overlay",
              "size": 10,
              "solidity": 0.2
             }
            },
            "type": "bar"
           }
          ],
          "barpolar": [
           {
            "marker": {
             "line": {
              "color": "#E5ECF6",
              "width": 0.5
             },
             "pattern": {
              "fillmode": "overlay",
              "size": 10,
              "solidity": 0.2
             }
            },
            "type": "barpolar"
           }
          ],
          "carpet": [
           {
            "aaxis": {
             "endlinecolor": "#2a3f5f",
             "gridcolor": "white",
             "linecolor": "white",
             "minorgridcolor": "white",
             "startlinecolor": "#2a3f5f"
            },
            "baxis": {
             "endlinecolor": "#2a3f5f",
             "gridcolor": "white",
             "linecolor": "white",
             "minorgridcolor": "white",
             "startlinecolor": "#2a3f5f"
            },
            "type": "carpet"
           }
          ],
          "choropleth": [
           {
            "colorbar": {
             "outlinewidth": 0,
             "ticks": ""
            },
            "type": "choropleth"
           }
          ],
          "contour": [
           {
            "colorbar": {
             "outlinewidth": 0,
             "ticks": ""
            },
            "colorscale": [
             [
              0,
              "#0d0887"
             ],
             [
              0.1111111111111111,
              "#46039f"
             ],
             [
              0.2222222222222222,
              "#7201a8"
             ],
             [
              0.3333333333333333,
              "#9c179e"
             ],
             [
              0.4444444444444444,
              "#bd3786"
             ],
             [
              0.5555555555555556,
              "#d8576b"
             ],
             [
              0.6666666666666666,
              "#ed7953"
             ],
             [
              0.7777777777777778,
              "#fb9f3a"
             ],
             [
              0.8888888888888888,
              "#fdca26"
             ],
             [
              1,
              "#f0f921"
             ]
            ],
            "type": "contour"
           }
          ],
          "contourcarpet": [
           {
            "colorbar": {
             "outlinewidth": 0,
             "ticks": ""
            },
            "type": "contourcarpet"
           }
          ],
          "heatmap": [
           {
            "colorbar": {
             "outlinewidth": 0,
             "ticks": ""
            },
            "colorscale": [
             [
              0,
              "#0d0887"
             ],
             [
              0.1111111111111111,
              "#46039f"
             ],
             [
              0.2222222222222222,
              "#7201a8"
             ],
             [
              0.3333333333333333,
              "#9c179e"
             ],
             [
              0.4444444444444444,
              "#bd3786"
             ],
             [
              0.5555555555555556,
              "#d8576b"
             ],
             [
              0.6666666666666666,
              "#ed7953"
             ],
             [
              0.7777777777777778,
              "#fb9f3a"
             ],
             [
              0.8888888888888888,
              "#fdca26"
             ],
             [
              1,
              "#f0f921"
             ]
            ],
            "type": "heatmap"
           }
          ],
          "histogram": [
           {
            "marker": {
             "pattern": {
              "fillmode": "overlay",
              "size": 10,
              "solidity": 0.2
             }
            },
            "type": "histogram"
           }
          ],
          "histogram2d": [
           {
            "colorbar": {
             "outlinewidth": 0,
             "ticks": ""
            },
            "colorscale": [
             [
              0,
              "#0d0887"
             ],
             [
              0.1111111111111111,
              "#46039f"
             ],
             [
              0.2222222222222222,
              "#7201a8"
             ],
             [
              0.3333333333333333,
              "#9c179e"
             ],
             [
              0.4444444444444444,
              "#bd3786"
             ],
             [
              0.5555555555555556,
              "#d8576b"
             ],
             [
              0.6666666666666666,
              "#ed7953"
             ],
             [
              0.7777777777777778,
              "#fb9f3a"
             ],
             [
              0.8888888888888888,
              "#fdca26"
             ],
             [
              1,
              "#f0f921"
             ]
            ],
            "type": "histogram2d"
           }
          ],
          "histogram2dcontour": [
           {
            "colorbar": {
             "outlinewidth": 0,
             "ticks": ""
            },
            "colorscale": [
             [
              0,
              "#0d0887"
             ],
             [
              0.1111111111111111,
              "#46039f"
             ],
             [
              0.2222222222222222,
              "#7201a8"
             ],
             [
              0.3333333333333333,
              "#9c179e"
             ],
             [
              0.4444444444444444,
              "#bd3786"
             ],
             [
              0.5555555555555556,
              "#d8576b"
             ],
             [
              0.6666666666666666,
              "#ed7953"
             ],
             [
              0.7777777777777778,
              "#fb9f3a"
             ],
             [
              0.8888888888888888,
              "#fdca26"
             ],
             [
              1,
              "#f0f921"
             ]
            ],
            "type": "histogram2dcontour"
           }
          ],
          "mesh3d": [
           {
            "colorbar": {
             "outlinewidth": 0,
             "ticks": ""
            },
            "type": "mesh3d"
           }
          ],
          "parcoords": [
           {
            "line": {
             "colorbar": {
              "outlinewidth": 0,
              "ticks": ""
             }
            },
            "type": "parcoords"
           }
          ],
          "pie": [
           {
            "automargin": true,
            "type": "pie"
           }
          ],
          "scatter": [
           {
            "fillpattern": {
             "fillmode": "overlay",
             "size": 10,
             "solidity": 0.2
            },
            "type": "scatter"
           }
          ],
          "scatter3d": [
           {
            "line": {
             "colorbar": {
              "outlinewidth": 0,
              "ticks": ""
             }
            },
            "marker": {
             "colorbar": {
              "outlinewidth": 0,
              "ticks": ""
             }
            },
            "type": "scatter3d"
           }
          ],
          "scattercarpet": [
           {
            "marker": {
             "colorbar": {
              "outlinewidth": 0,
              "ticks": ""
             }
            },
            "type": "scattercarpet"
           }
          ],
          "scattergeo": [
           {
            "marker": {
             "colorbar": {
              "outlinewidth": 0,
              "ticks": ""
             }
            },
            "type": "scattergeo"
           }
          ],
          "scattergl": [
           {
            "marker": {
             "colorbar": {
              "outlinewidth": 0,
              "ticks": ""
             }
            },
            "type": "scattergl"
           }
          ],
          "scattermap": [
           {
            "marker": {
             "colorbar": {
              "outlinewidth": 0,
              "ticks": ""
             }
            },
            "type": "scattermap"
           }
          ],
          "scattermapbox": [
           {
            "marker": {
             "colorbar": {
              "outlinewidth": 0,
              "ticks": ""
             }
            },
            "type": "scattermapbox"
           }
          ],
          "scatterpolar": [
           {
            "marker": {
             "colorbar": {
              "outlinewidth": 0,
              "ticks": ""
             }
            },
            "type": "scatterpolar"
           }
          ],
          "scatterpolargl": [
           {
            "marker": {
             "colorbar": {
              "outlinewidth": 0,
              "ticks": ""
             }
            },
            "type": "scatterpolargl"
           }
          ],
          "scatterternary": [
           {
            "marker": {
             "colorbar": {
              "outlinewidth": 0,
              "ticks": ""
             }
            },
            "type": "scatterternary"
           }
          ],
          "surface": [
           {
            "colorbar": {
             "outlinewidth": 0,
             "ticks": ""
            },
            "colorscale": [
             [
              0,
              "#0d0887"
             ],
             [
              0.1111111111111111,
              "#46039f"
             ],
             [
              0.2222222222222222,
              "#7201a8"
             ],
             [
              0.3333333333333333,
              "#9c179e"
             ],
             [
              0.4444444444444444,
              "#bd3786"
             ],
             [
              0.5555555555555556,
              "#d8576b"
             ],
             [
              0.6666666666666666,
              "#ed7953"
             ],
             [
              0.7777777777777778,
              "#fb9f3a"
             ],
             [
              0.8888888888888888,
              "#fdca26"
             ],
             [
              1,
              "#f0f921"
             ]
            ],
            "type": "surface"
           }
          ],
          "table": [
           {
            "cells": {
             "fill": {
              "color": "#EBF0F8"
             },
             "line": {
              "color": "white"
             }
            },
            "header": {
             "fill": {
              "color": "#C8D4E3"
             },
             "line": {
              "color": "white"
             }
            },
            "type": "table"
           }
          ]
         },
         "layout": {
          "annotationdefaults": {
           "arrowcolor": "#2a3f5f",
           "arrowhead": 0,
           "arrowwidth": 1
          },
          "autotypenumbers": "strict",
          "coloraxis": {
           "colorbar": {
            "outlinewidth": 0,
            "ticks": ""
           }
          },
          "colorscale": {
           "diverging": [
            [
             0,
             "#8e0152"
            ],
            [
             0.1,
             "#c51b7d"
            ],
            [
             0.2,
             "#de77ae"
            ],
            [
             0.3,
             "#f1b6da"
            ],
            [
             0.4,
             "#fde0ef"
            ],
            [
             0.5,
             "#f7f7f7"
            ],
            [
             0.6,
             "#e6f5d0"
            ],
            [
             0.7,
             "#b8e186"
            ],
            [
             0.8,
             "#7fbc41"
            ],
            [
             0.9,
             "#4d9221"
            ],
            [
             1,
             "#276419"
            ]
           ],
           "sequential": [
            [
             0,
             "#0d0887"
            ],
            [
             0.1111111111111111,
             "#46039f"
            ],
            [
             0.2222222222222222,
             "#7201a8"
            ],
            [
             0.3333333333333333,
             "#9c179e"
            ],
            [
             0.4444444444444444,
             "#bd3786"
            ],
            [
             0.5555555555555556,
             "#d8576b"
            ],
            [
             0.6666666666666666,
             "#ed7953"
            ],
            [
             0.7777777777777778,
             "#fb9f3a"
            ],
            [
             0.8888888888888888,
             "#fdca26"
            ],
            [
             1,
             "#f0f921"
            ]
           ],
           "sequentialminus": [
            [
             0,
             "#0d0887"
            ],
            [
             0.1111111111111111,
             "#46039f"
            ],
            [
             0.2222222222222222,
             "#7201a8"
            ],
            [
             0.3333333333333333,
             "#9c179e"
            ],
            [
             0.4444444444444444,
             "#bd3786"
            ],
            [
             0.5555555555555556,
             "#d8576b"
            ],
            [
             0.6666666666666666,
             "#ed7953"
            ],
            [
             0.7777777777777778,
             "#fb9f3a"
            ],
            [
             0.8888888888888888,
             "#fdca26"
            ],
            [
             1,
             "#f0f921"
            ]
           ]
          },
          "colorway": [
           "#636efa",
           "#EF553B",
           "#00cc96",
           "#ab63fa",
           "#FFA15A",
           "#19d3f3",
           "#FF6692",
           "#B6E880",
           "#FF97FF",
           "#FECB52"
          ],
          "font": {
           "color": "#2a3f5f"
          },
          "geo": {
           "bgcolor": "white",
           "lakecolor": "white",
           "landcolor": "#E5ECF6",
           "showlakes": true,
           "showland": true,
           "subunitcolor": "white"
          },
          "hoverlabel": {
           "align": "left"
          },
          "hovermode": "closest",
          "mapbox": {
           "style": "light"
          },
          "paper_bgcolor": "white",
          "plot_bgcolor": "#E5ECF6",
          "polar": {
           "angularaxis": {
            "gridcolor": "white",
            "linecolor": "white",
            "ticks": ""
           },
           "bgcolor": "#E5ECF6",
           "radialaxis": {
            "gridcolor": "white",
            "linecolor": "white",
            "ticks": ""
           }
          },
          "scene": {
           "xaxis": {
            "backgroundcolor": "#E5ECF6",
            "gridcolor": "white",
            "gridwidth": 2,
            "linecolor": "white",
            "showbackground": true,
            "ticks": "",
            "zerolinecolor": "white"
           },
           "yaxis": {
            "backgroundcolor": "#E5ECF6",
            "gridcolor": "white",
            "gridwidth": 2,
            "linecolor": "white",
            "showbackground": true,
            "ticks": "",
            "zerolinecolor": "white"
           },
           "zaxis": {
            "backgroundcolor": "#E5ECF6",
            "gridcolor": "white",
            "gridwidth": 2,
            "linecolor": "white",
            "showbackground": true,
            "ticks": "",
            "zerolinecolor": "white"
           }
          },
          "shapedefaults": {
           "line": {
            "color": "#2a3f5f"
           }
          },
          "ternary": {
           "aaxis": {
            "gridcolor": "white",
            "linecolor": "white",
            "ticks": ""
           },
           "baxis": {
            "gridcolor": "white",
            "linecolor": "white",
            "ticks": ""
           },
           "bgcolor": "#E5ECF6",
           "caxis": {
            "gridcolor": "white",
            "linecolor": "white",
            "ticks": ""
           }
          },
          "title": {
           "x": 0.05
          },
          "xaxis": {
           "automargin": true,
           "gridcolor": "white",
           "linecolor": "white",
           "ticks": "",
           "title": {
            "standoff": 15
           },
           "zerolinecolor": "white",
           "zerolinewidth": 2
          },
          "yaxis": {
           "automargin": true,
           "gridcolor": "white",
           "linecolor": "white",
           "ticks": "",
           "title": {
            "standoff": 15
           },
           "zerolinecolor": "white",
           "zerolinewidth": 2
          }
         }
        },
        "title": {
         "text": "Average Weekly Sales by Different Time Periods"
        },
        "xaxis": {
         "anchor": "y",
         "domain": [
          0,
          0.45
         ]
        },
        "xaxis2": {
         "anchor": "y2",
         "domain": [
          0.55,
          1
         ]
        },
        "xaxis3": {
         "anchor": "y3",
         "domain": [
          0,
          0.45
         ]
        },
        "xaxis4": {
         "anchor": "y4",
         "domain": [
          0.55,
          1
         ]
        },
        "xaxis5": {
         "anchor": "y5",
         "domain": [
          0,
          0.45
         ]
        },
        "xaxis6": {
         "anchor": "y6",
         "domain": [
          0.55,
          1
         ]
        },
        "yaxis": {
         "anchor": "x",
         "domain": [
          0.7777777777777778,
          1
         ]
        },
        "yaxis2": {
         "anchor": "x2",
         "domain": [
          0.7777777777777778,
          1
         ]
        },
        "yaxis3": {
         "anchor": "x3",
         "domain": [
          0.3888888888888889,
          0.6111111111111112
         ]
        },
        "yaxis4": {
         "anchor": "x4",
         "domain": [
          0.3888888888888889,
          0.6111111111111112
         ]
        },
        "yaxis5": {
         "anchor": "x5",
         "domain": [
          0,
          0.22222222222222224
         ]
        },
        "yaxis6": {
         "anchor": "x6",
         "domain": [
          0,
          0.22222222222222224
         ]
        }
       }
      }
     },
     "metadata": {},
     "output_type": "display_data"
    }
   ],
   "source": [
    "# Calculate average sales for each time period\n",
    "average_sales_per_date = df1.groupby('Date')['Weekly_Sales'].mean().reset_index()\n",
    "average_sales_per_week = df1.groupby('week')['Weekly_Sales'].mean().reset_index()\n",
    "average_sales_per_month = df1.groupby('Month')['Weekly_Sales'].mean().reset_index()\n",
    "average_sales_per_year = df1.groupby('Year')['Weekly_Sales'].mean().reset_index()\n",
    "average_sales_per_week_of_year = df1.groupby('Week_of_year')['Weekly_Sales'].mean().reset_index()\n",
    "\n",
    "# Create a figure with a 2x2 grid of subplots\n",
    "fig = make_subplots(rows=3, cols=2, subplot_titles=(\n",
    "    'Average Weekly Sales per Date',\n",
    "    'Average Weekly Sales per week',\n",
    "    'Average Weekly Sales per Month',\n",
    "    'Average Weekly Sales per Year',\n",
    "    'Average Weekly Sales per Week_of_year'\n",
    "))\n",
    "\n",
    "# Plot : Average Weekly Sales per Date\n",
    "fig.add_trace(\n",
    "    px.bar(average_sales_per_date, x='Date', y='Weekly_Sales', color_discrete_sequence=['Plum']).data[0],\n",
    "    row=1, col=1\n",
    ")\n",
    "\n",
    "# Plot 1: Average Weekly Sales per week\n",
    "fig.add_trace(\n",
    "    px.bar(average_sales_per_week, x='week', y='Weekly_Sales', color_discrete_sequence=['skyblue']).data[0],\n",
    "    row=1, col=2\n",
    ")\n",
    "\n",
    "# Plot 2: Average Weekly Sales per Month\n",
    "fig.add_trace(\n",
    "    px.bar(average_sales_per_month, x='Month', y='Weekly_Sales', color_discrete_sequence=['lightgreen']).data[0],\n",
    "    row=2, col=1\n",
    ")\n",
    "\n",
    "# Plot 3: Average Weekly Sales per Year\n",
    "fig.add_trace(\n",
    "    px.bar(average_sales_per_year, x='Year', y='Weekly_Sales', color_discrete_sequence=['Khaki']).data[0],\n",
    "    row=2, col=2\n",
    ")\n",
    "\n",
    "# Plot 4: Average Weekly Sales per Week_of_year\n",
    "fig.add_trace(\n",
    "    px.bar(average_sales_per_week_of_year, x='Week_of_year', y='Weekly_Sales', color_discrete_sequence=['salmon']).data[0],\n",
    "    row=3, col=1\n",
    ")\n",
    "\n",
    "# Update layout to prevent overlap\n",
    "fig.update_layout(showlegend=False, title_text=\"Average Weekly Sales by Different Time Periods\")\n",
    "\n",
    "# Show the plot\n",
    "fig.show()\n"
   ]
  },
  {
   "cell_type": "code",
   "execution_count": 18,
   "metadata": {},
   "outputs": [
    {
     "data": {
      "application/vnd.plotly.v1+json": {
       "config": {
        "plotlyServerURL": "https://plot.ly"
       },
       "data": [
        {
         "hovertemplate": "Store=%{x}<br>Weekly_Sales=%{y}<extra></extra>",
         "legendgroup": "",
         "marker": {
          "color": "lightgreen",
          "pattern": {
           "shape": ""
          }
         },
         "name": "",
         "orientation": "v",
         "showlegend": false,
         "textposition": "auto",
         "type": "bar",
         "x": {
          "bdata": "AAAAAAAA8D8AAAAAAAAAQAAAAAAAAAhAAAAAAAAAEEAAAAAAAAAUQAAAAAAAABhAAAAAAAAAHEAAAAAAAAAgQAAAAAAAACJAAAAAAAAAJEAAAAAAAAAmQAAAAAAAAChAAAAAAAAAKkAAAAAAAAAsQAAAAAAAAC5AAAAAAAAAMEAAAAAAAAAxQAAAAAAAADJAAAAAAAAAM0AAAAAAAAA0QA==",
          "dtype": "f8"
         },
         "xaxis": "x",
         "y": {
          "bdata": "uB6F233SakH2KFyf+aVtQWZmZtZMc1JBzczMPG/gaEHD9Si8jnZCQfYoXK9OwGFBexSu5zMQUUEpXI8yi1dUQZqZmZkd8D5BmpmZIYBgYUHsUbgeGnBRQTMzM0Onm1NBrkfh6nQkcUF7FK4bnPZxQeF6FM7YVUNBcD0KF9dzP0G4HoVr9s5XQc3MzKyJwGVBcD0KNydfZUEfhetB+rZiQQ==",
          "dtype": "f8"
         },
         "yaxis": "y"
        },
        {
         "hovertemplate": "Store=%{x}<br>Weekly_Sales=%{y}<extra></extra>",
         "legendgroup": "",
         "marker": {
          "color": "skyblue",
          "pattern": {
           "shape": ""
          }
         },
         "name": "",
         "orientation": "v",
         "showlegend": false,
         "textposition": "auto",
         "type": "bar",
         "x": {
          "bdata": "AAAAAAAA8D8AAAAAAAAAQAAAAAAAAAhAAAAAAAAAEEAAAAAAAAAUQAAAAAAAABhAAAAAAAAAHEAAAAAAAAAgQAAAAAAAACJAAAAAAAAAJEAAAAAAAAAmQAAAAAAAAChAAAAAAAAAKkAAAAAAAAAsQAAAAAAAAC5AAAAAAAAAMEAAAAAAAAAxQAAAAAAAADJAAAAAAAAAM0AAAAAAAAA0QA==",
          "dtype": "f8"
         },
         "xaxis": "x2",
         "y": {
          "bdata": "a+JZUYzXN0H2KFyf+aU9QYiIiMi7mRhB3t3dfZ+VQEHD9Si8jnYSQUjhepQTqzdBexSu5zMQIUE30GlDZB8rQZqZmZkd8B5B9ihcz5nNO0E7baDTIkA3QVK4HgVyXy9BNfGsaLN5PkH3BxlqTu8/QeF6FM7YVSNBcD0KF9dzH0EbI5joqzUrQaRwPYrUZjFBcD0KNydfNUH+1HhpkPE9QQ==",
          "dtype": "f8"
         },
         "yaxis": "y2"
        },
        {
         "hovertemplate": "Store=%{x}<br>Weekly_Sales=%{y}<extra></extra>",
         "legendgroup": "",
         "marker": {
          "color": "salmon",
          "pattern": {
           "shape": ""
          }
         },
         "name": "",
         "orientation": "v",
         "showlegend": false,
         "textposition": "auto",
         "type": "bar",
         "x": {
          "bdata": "AAAAAAAA8D8AAAAAAAAAQAAAAAAAAAhAAAAAAAAAEEAAAAAAAAAUQAAAAAAAABhAAAAAAAAAHEAAAAAAAAAgQAAAAAAAACJAAAAAAAAAJEAAAAAAAAAmQAAAAAAAAChAAAAAAAAAKkAAAAAAAAAsQAAAAAAAAC5AAAAAAAAAMEAAAAAAAAAxQAAAAAAAADJAAAAAAAAAM0AAAAAAAAA0QA==",
          "dtype": "f8"
         },
         "xaxis": "x3",
         "y": {
          "bdata": "exSux6CYOUEpXI9CcI9CQRSuR+HYLBxBXI/CleIkRUFxPQrXmOwVQY/C9ai2FzlB7FG4nsncJUHNzMzM4lsuQTMzMzM9uh9BUrgeBeNePkEpXI+COtA6QZqZmVn1xDNBzczMLI7HQkEUrkehI9dDQRSuR2HIOCVBj8L1qNq+IkGkcD0K/fEvQVyPwrXOPDhB4XoUrtqiN0GamZmZwc9AQQ==",
          "dtype": "f8"
         },
         "yaxis": "y3"
        },
        {
         "hovertemplate": "Store=%{x}<br>Weekly_Sales=%{y}<extra></extra>",
         "legendgroup": "",
         "marker": {
          "color": "Khaki",
          "pattern": {
           "shape": ""
          }
         },
         "name": "",
         "orientation": "v",
         "showlegend": false,
         "textposition": "auto",
         "type": "bar",
         "x": {
          "bdata": "AAAAAAAA8D8AAAAAAAAAQAAAAAAAAAhAAAAAAAAAEEAAAAAAAAAUQAAAAAAAABhAAAAAAAAAHEAAAAAAAAAgQAAAAAAAACJAAAAAAAAAJEAAAAAAAAAmQAAAAAAAAChAAAAAAAAAKkAAAAAAAAAsQAAAAAAAAC5AAAAAAAAAMEAAAAAAAAAxQAAAAAAAADJAAAAAAAAAM0AAAAAAAAA0QA==",
          "dtype": "f8"
         },
         "xaxis": "x4",
         "y": {
          "bdata": "uB6F67YcNkGkcD3KYtM6QWZmZmazOBZBMzMzs/1XPEHsUbgeBGoQQY/C9Wh1rDVBMzMzMzhGGUEzMzOzx4gpQZqZmZk0oB1BZmZm5oUoOkF7FK4H5vwyQfYoXA+ejytB4XoUbrmUO0GamZkZKnQ8QVyPwnXmaSFBKVyPwhSTGkFSuB6F1R8nQVyPwnVEVS1BKVyPQq8mM0FmZmam9047QQ==",
          "dtype": "f8"
         },
         "yaxis": "y4"
        }
       ],
       "layout": {
        "annotations": [
         {
          "font": {
           "size": 16
          },
          "showarrow": false,
          "text": "Total Weekly Sales per Store",
          "x": 0.225,
          "xanchor": "center",
          "xref": "paper",
          "y": 1,
          "yanchor": "bottom",
          "yref": "paper"
         },
         {
          "font": {
           "size": 16
          },
          "showarrow": false,
          "text": "Average Weekly Sales per Store",
          "x": 0.775,
          "xanchor": "center",
          "xref": "paper",
          "y": 1,
          "yanchor": "bottom",
          "yref": "paper"
         },
         {
          "font": {
           "size": 16
          },
          "showarrow": false,
          "text": "Max Weekly Sales per Store",
          "x": 0.225,
          "xanchor": "center",
          "xref": "paper",
          "y": 0.375,
          "yanchor": "bottom",
          "yref": "paper"
         },
         {
          "font": {
           "size": 16
          },
          "showarrow": false,
          "text": "Min Weekly Sales per Store",
          "x": 0.775,
          "xanchor": "center",
          "xref": "paper",
          "y": 0.375,
          "yanchor": "bottom",
          "yref": "paper"
         }
        ],
        "showlegend": false,
        "template": {
         "data": {
          "bar": [
           {
            "error_x": {
             "color": "#2a3f5f"
            },
            "error_y": {
             "color": "#2a3f5f"
            },
            "marker": {
             "line": {
              "color": "#E5ECF6",
              "width": 0.5
             },
             "pattern": {
              "fillmode": "overlay",
              "size": 10,
              "solidity": 0.2
             }
            },
            "type": "bar"
           }
          ],
          "barpolar": [
           {
            "marker": {
             "line": {
              "color": "#E5ECF6",
              "width": 0.5
             },
             "pattern": {
              "fillmode": "overlay",
              "size": 10,
              "solidity": 0.2
             }
            },
            "type": "barpolar"
           }
          ],
          "carpet": [
           {
            "aaxis": {
             "endlinecolor": "#2a3f5f",
             "gridcolor": "white",
             "linecolor": "white",
             "minorgridcolor": "white",
             "startlinecolor": "#2a3f5f"
            },
            "baxis": {
             "endlinecolor": "#2a3f5f",
             "gridcolor": "white",
             "linecolor": "white",
             "minorgridcolor": "white",
             "startlinecolor": "#2a3f5f"
            },
            "type": "carpet"
           }
          ],
          "choropleth": [
           {
            "colorbar": {
             "outlinewidth": 0,
             "ticks": ""
            },
            "type": "choropleth"
           }
          ],
          "contour": [
           {
            "colorbar": {
             "outlinewidth": 0,
             "ticks": ""
            },
            "colorscale": [
             [
              0,
              "#0d0887"
             ],
             [
              0.1111111111111111,
              "#46039f"
             ],
             [
              0.2222222222222222,
              "#7201a8"
             ],
             [
              0.3333333333333333,
              "#9c179e"
             ],
             [
              0.4444444444444444,
              "#bd3786"
             ],
             [
              0.5555555555555556,
              "#d8576b"
             ],
             [
              0.6666666666666666,
              "#ed7953"
             ],
             [
              0.7777777777777778,
              "#fb9f3a"
             ],
             [
              0.8888888888888888,
              "#fdca26"
             ],
             [
              1,
              "#f0f921"
             ]
            ],
            "type": "contour"
           }
          ],
          "contourcarpet": [
           {
            "colorbar": {
             "outlinewidth": 0,
             "ticks": ""
            },
            "type": "contourcarpet"
           }
          ],
          "heatmap": [
           {
            "colorbar": {
             "outlinewidth": 0,
             "ticks": ""
            },
            "colorscale": [
             [
              0,
              "#0d0887"
             ],
             [
              0.1111111111111111,
              "#46039f"
             ],
             [
              0.2222222222222222,
              "#7201a8"
             ],
             [
              0.3333333333333333,
              "#9c179e"
             ],
             [
              0.4444444444444444,
              "#bd3786"
             ],
             [
              0.5555555555555556,
              "#d8576b"
             ],
             [
              0.6666666666666666,
              "#ed7953"
             ],
             [
              0.7777777777777778,
              "#fb9f3a"
             ],
             [
              0.8888888888888888,
              "#fdca26"
             ],
             [
              1,
              "#f0f921"
             ]
            ],
            "type": "heatmap"
           }
          ],
          "histogram": [
           {
            "marker": {
             "pattern": {
              "fillmode": "overlay",
              "size": 10,
              "solidity": 0.2
             }
            },
            "type": "histogram"
           }
          ],
          "histogram2d": [
           {
            "colorbar": {
             "outlinewidth": 0,
             "ticks": ""
            },
            "colorscale": [
             [
              0,
              "#0d0887"
             ],
             [
              0.1111111111111111,
              "#46039f"
             ],
             [
              0.2222222222222222,
              "#7201a8"
             ],
             [
              0.3333333333333333,
              "#9c179e"
             ],
             [
              0.4444444444444444,
              "#bd3786"
             ],
             [
              0.5555555555555556,
              "#d8576b"
             ],
             [
              0.6666666666666666,
              "#ed7953"
             ],
             [
              0.7777777777777778,
              "#fb9f3a"
             ],
             [
              0.8888888888888888,
              "#fdca26"
             ],
             [
              1,
              "#f0f921"
             ]
            ],
            "type": "histogram2d"
           }
          ],
          "histogram2dcontour": [
           {
            "colorbar": {
             "outlinewidth": 0,
             "ticks": ""
            },
            "colorscale": [
             [
              0,
              "#0d0887"
             ],
             [
              0.1111111111111111,
              "#46039f"
             ],
             [
              0.2222222222222222,
              "#7201a8"
             ],
             [
              0.3333333333333333,
              "#9c179e"
             ],
             [
              0.4444444444444444,
              "#bd3786"
             ],
             [
              0.5555555555555556,
              "#d8576b"
             ],
             [
              0.6666666666666666,
              "#ed7953"
             ],
             [
              0.7777777777777778,
              "#fb9f3a"
             ],
             [
              0.8888888888888888,
              "#fdca26"
             ],
             [
              1,
              "#f0f921"
             ]
            ],
            "type": "histogram2dcontour"
           }
          ],
          "mesh3d": [
           {
            "colorbar": {
             "outlinewidth": 0,
             "ticks": ""
            },
            "type": "mesh3d"
           }
          ],
          "parcoords": [
           {
            "line": {
             "colorbar": {
              "outlinewidth": 0,
              "ticks": ""
             }
            },
            "type": "parcoords"
           }
          ],
          "pie": [
           {
            "automargin": true,
            "type": "pie"
           }
          ],
          "scatter": [
           {
            "fillpattern": {
             "fillmode": "overlay",
             "size": 10,
             "solidity": 0.2
            },
            "type": "scatter"
           }
          ],
          "scatter3d": [
           {
            "line": {
             "colorbar": {
              "outlinewidth": 0,
              "ticks": ""
             }
            },
            "marker": {
             "colorbar": {
              "outlinewidth": 0,
              "ticks": ""
             }
            },
            "type": "scatter3d"
           }
          ],
          "scattercarpet": [
           {
            "marker": {
             "colorbar": {
              "outlinewidth": 0,
              "ticks": ""
             }
            },
            "type": "scattercarpet"
           }
          ],
          "scattergeo": [
           {
            "marker": {
             "colorbar": {
              "outlinewidth": 0,
              "ticks": ""
             }
            },
            "type": "scattergeo"
           }
          ],
          "scattergl": [
           {
            "marker": {
             "colorbar": {
              "outlinewidth": 0,
              "ticks": ""
             }
            },
            "type": "scattergl"
           }
          ],
          "scattermap": [
           {
            "marker": {
             "colorbar": {
              "outlinewidth": 0,
              "ticks": ""
             }
            },
            "type": "scattermap"
           }
          ],
          "scattermapbox": [
           {
            "marker": {
             "colorbar": {
              "outlinewidth": 0,
              "ticks": ""
             }
            },
            "type": "scattermapbox"
           }
          ],
          "scatterpolar": [
           {
            "marker": {
             "colorbar": {
              "outlinewidth": 0,
              "ticks": ""
             }
            },
            "type": "scatterpolar"
           }
          ],
          "scatterpolargl": [
           {
            "marker": {
             "colorbar": {
              "outlinewidth": 0,
              "ticks": ""
             }
            },
            "type": "scatterpolargl"
           }
          ],
          "scatterternary": [
           {
            "marker": {
             "colorbar": {
              "outlinewidth": 0,
              "ticks": ""
             }
            },
            "type": "scatterternary"
           }
          ],
          "surface": [
           {
            "colorbar": {
             "outlinewidth": 0,
             "ticks": ""
            },
            "colorscale": [
             [
              0,
              "#0d0887"
             ],
             [
              0.1111111111111111,
              "#46039f"
             ],
             [
              0.2222222222222222,
              "#7201a8"
             ],
             [
              0.3333333333333333,
              "#9c179e"
             ],
             [
              0.4444444444444444,
              "#bd3786"
             ],
             [
              0.5555555555555556,
              "#d8576b"
             ],
             [
              0.6666666666666666,
              "#ed7953"
             ],
             [
              0.7777777777777778,
              "#fb9f3a"
             ],
             [
              0.8888888888888888,
              "#fdca26"
             ],
             [
              1,
              "#f0f921"
             ]
            ],
            "type": "surface"
           }
          ],
          "table": [
           {
            "cells": {
             "fill": {
              "color": "#EBF0F8"
             },
             "line": {
              "color": "white"
             }
            },
            "header": {
             "fill": {
              "color": "#C8D4E3"
             },
             "line": {
              "color": "white"
             }
            },
            "type": "table"
           }
          ]
         },
         "layout": {
          "annotationdefaults": {
           "arrowcolor": "#2a3f5f",
           "arrowhead": 0,
           "arrowwidth": 1
          },
          "autotypenumbers": "strict",
          "coloraxis": {
           "colorbar": {
            "outlinewidth": 0,
            "ticks": ""
           }
          },
          "colorscale": {
           "diverging": [
            [
             0,
             "#8e0152"
            ],
            [
             0.1,
             "#c51b7d"
            ],
            [
             0.2,
             "#de77ae"
            ],
            [
             0.3,
             "#f1b6da"
            ],
            [
             0.4,
             "#fde0ef"
            ],
            [
             0.5,
             "#f7f7f7"
            ],
            [
             0.6,
             "#e6f5d0"
            ],
            [
             0.7,
             "#b8e186"
            ],
            [
             0.8,
             "#7fbc41"
            ],
            [
             0.9,
             "#4d9221"
            ],
            [
             1,
             "#276419"
            ]
           ],
           "sequential": [
            [
             0,
             "#0d0887"
            ],
            [
             0.1111111111111111,
             "#46039f"
            ],
            [
             0.2222222222222222,
             "#7201a8"
            ],
            [
             0.3333333333333333,
             "#9c179e"
            ],
            [
             0.4444444444444444,
             "#bd3786"
            ],
            [
             0.5555555555555556,
             "#d8576b"
            ],
            [
             0.6666666666666666,
             "#ed7953"
            ],
            [
             0.7777777777777778,
             "#fb9f3a"
            ],
            [
             0.8888888888888888,
             "#fdca26"
            ],
            [
             1,
             "#f0f921"
            ]
           ],
           "sequentialminus": [
            [
             0,
             "#0d0887"
            ],
            [
             0.1111111111111111,
             "#46039f"
            ],
            [
             0.2222222222222222,
             "#7201a8"
            ],
            [
             0.3333333333333333,
             "#9c179e"
            ],
            [
             0.4444444444444444,
             "#bd3786"
            ],
            [
             0.5555555555555556,
             "#d8576b"
            ],
            [
             0.6666666666666666,
             "#ed7953"
            ],
            [
             0.7777777777777778,
             "#fb9f3a"
            ],
            [
             0.8888888888888888,
             "#fdca26"
            ],
            [
             1,
             "#f0f921"
            ]
           ]
          },
          "colorway": [
           "#636efa",
           "#EF553B",
           "#00cc96",
           "#ab63fa",
           "#FFA15A",
           "#19d3f3",
           "#FF6692",
           "#B6E880",
           "#FF97FF",
           "#FECB52"
          ],
          "font": {
           "color": "#2a3f5f"
          },
          "geo": {
           "bgcolor": "white",
           "lakecolor": "white",
           "landcolor": "#E5ECF6",
           "showlakes": true,
           "showland": true,
           "subunitcolor": "white"
          },
          "hoverlabel": {
           "align": "left"
          },
          "hovermode": "closest",
          "mapbox": {
           "style": "light"
          },
          "paper_bgcolor": "white",
          "plot_bgcolor": "#E5ECF6",
          "polar": {
           "angularaxis": {
            "gridcolor": "white",
            "linecolor": "white",
            "ticks": ""
           },
           "bgcolor": "#E5ECF6",
           "radialaxis": {
            "gridcolor": "white",
            "linecolor": "white",
            "ticks": ""
           }
          },
          "scene": {
           "xaxis": {
            "backgroundcolor": "#E5ECF6",
            "gridcolor": "white",
            "gridwidth": 2,
            "linecolor": "white",
            "showbackground": true,
            "ticks": "",
            "zerolinecolor": "white"
           },
           "yaxis": {
            "backgroundcolor": "#E5ECF6",
            "gridcolor": "white",
            "gridwidth": 2,
            "linecolor": "white",
            "showbackground": true,
            "ticks": "",
            "zerolinecolor": "white"
           },
           "zaxis": {
            "backgroundcolor": "#E5ECF6",
            "gridcolor": "white",
            "gridwidth": 2,
            "linecolor": "white",
            "showbackground": true,
            "ticks": "",
            "zerolinecolor": "white"
           }
          },
          "shapedefaults": {
           "line": {
            "color": "#2a3f5f"
           }
          },
          "ternary": {
           "aaxis": {
            "gridcolor": "white",
            "linecolor": "white",
            "ticks": ""
           },
           "baxis": {
            "gridcolor": "white",
            "linecolor": "white",
            "ticks": ""
           },
           "bgcolor": "#E5ECF6",
           "caxis": {
            "gridcolor": "white",
            "linecolor": "white",
            "ticks": ""
           }
          },
          "title": {
           "x": 0.05
          },
          "xaxis": {
           "automargin": true,
           "gridcolor": "white",
           "linecolor": "white",
           "ticks": "",
           "title": {
            "standoff": 15
           },
           "zerolinecolor": "white",
           "zerolinewidth": 2
          },
          "yaxis": {
           "automargin": true,
           "gridcolor": "white",
           "linecolor": "white",
           "ticks": "",
           "title": {
            "standoff": 15
           },
           "zerolinecolor": "white",
           "zerolinewidth": 2
          }
         }
        },
        "title": {
         "text": "weekly Sales per store"
        },
        "xaxis": {
         "anchor": "y",
         "domain": [
          0,
          0.45
         ]
        },
        "xaxis2": {
         "anchor": "y2",
         "domain": [
          0.55,
          1
         ]
        },
        "xaxis3": {
         "anchor": "y3",
         "domain": [
          0,
          0.45
         ]
        },
        "xaxis4": {
         "anchor": "y4",
         "domain": [
          0.55,
          1
         ]
        },
        "yaxis": {
         "anchor": "x",
         "domain": [
          0.625,
          1
         ]
        },
        "yaxis2": {
         "anchor": "x2",
         "domain": [
          0.625,
          1
         ]
        },
        "yaxis3": {
         "anchor": "x3",
         "domain": [
          0,
          0.375
         ]
        },
        "yaxis4": {
         "anchor": "x4",
         "domain": [
          0,
          0.375
         ]
        }
       }
      }
     },
     "metadata": {},
     "output_type": "display_data"
    }
   ],
   "source": [
    "average_sales_per_store = df1.groupby('Store')['Weekly_Sales'].mean().reset_index()\n",
    "total_sales_per_store = df1.groupby('Store')['Weekly_Sales'].sum().reset_index()\n",
    "max_sales_per_store = df1.groupby('Store')['Weekly_Sales'].max().reset_index()\n",
    "min_sales_per_store = df1.groupby('Store')['Weekly_Sales'].min().reset_index()\n",
    "\n",
    "\n",
    "# Create a figure with a 1x2 grid of subplots\n",
    "fig = make_subplots(rows=2, cols=2, subplot_titles=(\n",
    "    'Total Weekly Sales per Store',\n",
    "    'Average Weekly Sales per Store',\n",
    "    'Max Weekly Sales per Store',\n",
    "    'Min Weekly Sales per Store',\n",
    "))\n",
    "\n",
    "# Plot 1: Total Weekly Sales per Store\n",
    "fig.add_trace(\n",
    "    px.bar(total_sales_per_store, x='Store', y='Weekly_Sales', color_discrete_sequence=['lightgreen']).data[0],\n",
    "    row=1, col=1\n",
    ")\n",
    "\n",
    "# Plot 2: Average Weekly Sales per Store\n",
    "fig.add_trace(\n",
    "    px.bar(average_sales_per_store, x='Store', y='Weekly_Sales', color_discrete_sequence=['skyblue']).data[0],\n",
    "    row=1, col=2\n",
    ")\n",
    "\n",
    "# Plot 3: Max Weekly Sales per Store\n",
    "fig.add_trace(\n",
    "    px.bar(max_sales_per_store, x='Store', y='Weekly_Sales', color_discrete_sequence=['salmon']).data[0],\n",
    "    row=2, col=1\n",
    ")\n",
    "\n",
    "# Plot 4: Min Weekly Sales per Store\n",
    "fig.add_trace(\n",
    "    px.bar(min_sales_per_store, x='Store', y='Weekly_Sales', color_discrete_sequence=['Khaki']).data[0],\n",
    "    row=2, col=2\n",
    ")\n",
    "# Update layout to prevent overlap\n",
    "fig.update_layout(showlegend=False, title_text=\"weekly Sales per store\")\n",
    "\n",
    "# Show the plot\n",
    "fig.show()"
   ]
  },
  {
   "cell_type": "code",
   "execution_count": 19,
   "metadata": {},
   "outputs": [
    {
     "data": {
      "text/plain": [
       "Store\n",
       "1.0     11\n",
       "2.0      8\n",
       "3.0     15\n",
       "4.0      7\n",
       "5.0      9\n",
       "6.0      7\n",
       "7.0      8\n",
       "8.0      8\n",
       "9.0      4\n",
       "10.0     5\n",
       "11.0     3\n",
       "12.0     5\n",
       "13.0     9\n",
       "14.0     9\n",
       "15.0     4\n",
       "16.0     4\n",
       "17.0     8\n",
       "18.0    10\n",
       "19.0     9\n",
       "20.0     7\n",
       "Name: count, dtype: int64"
      ]
     },
     "execution_count": 19,
     "metadata": {},
     "output_type": "execute_result"
    }
   ],
   "source": [
    "df1[\"Store\"].value_counts().sort_index(ascending=True)"
   ]
  },
  {
   "cell_type": "code",
   "execution_count": 20,
   "metadata": {},
   "outputs": [
    {
     "data": {
      "application/vnd.plotly.v1+json": {
       "config": {
        "plotlyServerURL": "https://plot.ly"
       },
       "data": [
        {
         "alignmentgroup": "True",
         "hovertemplate": "Weekly_Sales=%{y}<extra></extra>",
         "legendgroup": "",
         "marker": {
          "color": "#636efa"
         },
         "name": "",
         "notched": false,
         "offsetgroup": "",
         "orientation": "v",
         "showlegend": false,
         "type": "box",
         "x0": " ",
         "xaxis": "x",
         "y": {
          "bdata": "pHA9ihX9N0HhehRuuZQ7QQAAAAAAAPh/exSuB+b8MkGPwvWothc5QTMzM7P9VzxBFK5HYcg4JUGamZmZwc9AQRSuR6Ej10NBFK5H4bWRGUEAAAAAtVArQTMzMzPkay9BMzMzMzhGGUF7FK7HoJg5QaRwPYouTilBj8L1KODbNkEUrkehVXo+QQAAAIA7ZDJBKVyPQnCPQkEAAAAAAAD4f3sUrkfyHyFBpHA9CsjBEUEAAAAAn2MwQTMzM3NPxjVBCtejcE9wNUHhehSujBIsQa5H4Xo6bRZBKVyPwhSTGkFSuB6F1R8nQY/C9Wh1rDVBXI/C9cQpL0EAAAAAAAD4f6RwPYoJMiFB16NwPUiyP0HXo3D96UY8QQrXo/CEUzNBKVyPwgNLFkEK16Nw+ycuQbgehesYpT5BzczMzIoJE0Fcj8J1RFUtQR+F61F6ESBBSOF6VEdbOUEK16Pw1DkjQQrXo3DlDTlBMzMzs6poPEHsUbgeBGoQQeF6FK7aojdBAAAAwD/JOEE9CtejnZsdQT0K12PnDj9B16NwvYw/PUHsUbgePRUfQa5H4TqbrTxBpHA9yq+OO0Fcj8L1hjA8QfYoXI/hHytBAAAAAAAA+H97FK7HlGE3QdejcP3G1D5B4XoU7u/5P0FSuB4F414+QZqZmVn1xDNBmpmZmTggE0Fcj8KV4iRFQWZmZuaFKDpBmpmZ2SXLMUEUrkfh2CwcQcP1KFwTLC1BAAAAAAAA+H9cj8K1zjw4QQAAAAAAAPh/zczMLI7HQkG4HoXrthw2QVK4HsXkAjdB7FG43o8bPkFcj8J15mkhQQAAAAAAAPh/MzMzs5t9N0FmZmam9047QTMzMzM9uh9BcT0K15jsFUEK16PwR/M3QRSuR+HmiSJBAAAAAAAA+H+kcD3KYtM6QdejcD1VHi5BCtejcMVdGkHNzMyMjTc/QfYoXI9kbjtBmpmZmTSgHUGkcD0K/fEvQSlcj8IicxdBUrgeBdltLUEpXI/CCM89QQAAAIDrzDZBH4XrUWBBKkHD9ShcJzsSQfYoXE/s+jpBXI/CtQrMPkFmZmZmszgWQT0K1yNgdTtBKVyPQkuWMEHhehRuFJFBQc3MzMynmhlBXI/C9XvZNEEUrkeh5/k/Qc3MzMziWy5BpHA9ylorM0EAAAAAAAD4f6RwPco5djtBw/UoXL5nNkFSuB7FUTVAQVyPwjWWpDtBKVyPgjrQOkEAAACAzSokQdejcD3w6RtBAAAAAAAA+H+uR+F6x1AfQZqZmRkqdDxBMzMzs8eIKUHhehSuGMsQQZqZmRnpPiJBuB6Fq75eNkEUrkehUWQ2QRSuR+HbVxhBAAAAAAAA+H+PwvWo2r4iQRSuR2GlED5Brkfheoz8L0HsUbiebug+QbgehetHGypBPQrXYwcSP0EAAAAAAAD4fwAAAAAAAPh/9ihcD56PK0HD9SjcbYg/QXsUrgf88jtB4XoU7r4DOUGkcD2KB0IgQQAAAAAAAPh/CtejcA1sEkGamZmZOZ4YQTMzMzOjOhhBH4XrUQTpGUG4HoXL4idBQexRuJ7J3CVBuB6Fa4jLKUEzMzMzuCUqQSlcj0KvJjNB",
          "dtype": "f8"
         },
         "y0": " ",
         "yaxis": "y"
        },
        {
         "hovertemplate": "Mean: 1249535.83<extra></extra>",
         "marker": {
          "color": "red",
          "size": 8,
          "symbol": "diamond"
         },
         "mode": "markers",
         "showlegend": false,
         "type": "scatter",
         "x": [
          0
         ],
         "xaxis": "x",
         "y": [
          1249535.8279411762
         ],
         "yaxis": "y"
        },
        {
         "alignmentgroup": "True",
         "hovertemplate": "Temperature=%{y}<extra></extra>",
         "legendgroup": "",
         "marker": {
          "color": "#636efa"
         },
         "name": "",
         "notched": false,
         "offsetgroup": "",
         "orientation": "v",
         "showlegend": false,
         "type": "box",
         "x0": " ",
         "xaxis": "x2",
         "y": {
          "bdata": "rkfhehTOTUBxPQrXozBFQAAAAAAAAPh/FK5H4XokVUApXI/C9bhTQAAAAAAAAPh/MzMzMzNzUUDXo3A9CvdDQArXo3A9ij5Aj8L1KFwPTkB7FK5H4bpUQMP1KFyPAkpArkfhehROQkCPwvUoXC9QQClcj8L1CE5ACtejcD06UUD2KFyPwhVTQBSuR+F6VDVAcT0K16MQSUC4HoXrURhSQOF6FK5HIUNAuB6F61FYU0Bcj8L1KHxJQClcj8L1iENA4XoUrkdhSUApXI/C9WhGQK5H4XoU7klAmpmZmZn5RUBcj8L1KJxGQAAAAAAAAPh/mpmZmZkZUUAAAAAAAAD4fwrXo3A9yjJAAAAAAACAQkDNzMzMzOxVQOF6FK5HoUBAXI/C9SgMVEAAAAAAAAD4f2ZmZmZmdlRAexSuR+FaTkDXo3A9CjdJQAAAAAAAAPh/AAAAAAAA+H/NzMzMzMxMQOF6FK5HQUNAcT0K16NQS0A9CtejcJ1UQAAAAAAAkFBAmpmZmZnpVkCF61G4HiVIQK5H4XoUjk5AuB6F61HYTUDhehSuR0FVQOF6FK5H4URASOF6FK63VUDNzMzMzMxPQHsUrkfhulJAAAAAAAAA+H8AAAAAAAD4f83MzMzMbEJAAAAAAAAA+H+PwvUoXM9MQMP1KFyPYkpAexSuR+FKUUC4HoXrUThCQNejcD0Kt0VAexSuR+FqUkB7FK5H4dpGQMP1KFyPwlZAH4XrUbg+SUBmZmZmZmY7QNejcD0KF1NApHA9CtdjQkCuR+F6FE5VQK5H4XoU/lBAexSuR+HKUkD2KFyPwrVHQBSuR+F6BFZAAAAAAAAgT0BI4XoUrldRQHsUrkfh+khAAAAAAAAA+H/D9Shcj2JKQK5H4XoU/lNAKVyPwvUIU0C4HoXrUVhGQAAAAAAAAPh/XI/C9SjMUkCF61G4HuVDQHsUrkfhGlNAcT0K16OgU0AK16NwPTpRQAAAAAAAAPh/AAAAAAAA+H+uR+F6FJ5TQFK4HoXrsVJA4XoUrkfhSEBSuB6F6+FQQBSuR+F6lFZAFK5H4Xq0U0DhehSuR+FUQAAAAAAAYEdAAAAAAABwUUAzMzMzMzNFQM3MzMzMrFRAhetRuB41UkBSuB6F63FBQOxRuB6Fq0BASOF6FK5HUUDXo3A9CvdFQJqZmZmZ2TxAAAAAAAAA+H+4HoXrUdhDQHsUrkfhWkBAmpmZmZl5UUAAAAAAAAD4f2ZmZmZmpkNA9ihcj8I1RkCPwvUoXL9UQClcj8L1KEFAFK5H4XrUUkB7FK5H4VpWQOxRuB6F60xAAAAAAAAA+H9xPQrXoxBRQBSuR+F69E9APQrXo3BdVUCF61G4HuVOQM3MzMzM/FJAAAAAAABQUkAAAAAAAEBKQAAAAAAAAPh/9ihcj8K1VEBcj8L1KDxUQOxRuB6Fa1FAuB6F61HoVED2KFyPwiVVQFyPwvUoHFZAj8L1KFyPUkDNzMzMzExJQM3MzMzMrEpAj8L1KFwvT0DD9Shcj+JSQFK4HoXroVNAXI/C9ShcUkBI4XoUridSQD0K16NwvTRAUrgeheuRTEAzMzMzM4NVQJqZmZmZmUtA",
          "dtype": "f8"
         },
         "y0": " ",
         "yaxis": "y2"
        },
        {
         "hovertemplate": "Mean: 61.40<extra></extra>",
         "marker": {
          "color": "red",
          "size": 8,
          "symbol": "diamond"
         },
         "mode": "markers",
         "showlegend": false,
         "type": "scatter",
         "x": [
          0
         ],
         "xaxis": "x2",
         "y": [
          61.398106060606054
         ],
         "yaxis": "y2"
        },
        {
         "alignmentgroup": "True",
         "hovertemplate": "Fuel_Price=%{y}<extra></extra>",
         "legendgroup": "",
         "marker": {
          "color": "#636efa"
         },
         "name": "",
         "notched": false,
         "offsetgroup": "",
         "orientation": "v",
         "showlegend": false,
         "type": "box",
         "x0": " ",
         "xaxis": "x3",
         "y": {
          "bdata": "XI/C9ShcCEB7FK5H4XoLQAAAAAAAAPh/AAAAAAAA+H/fT42XbhIGQD81XrpJDAZALbKd76dGEEBWDi2yne8MQKwcWmQ73whAcT0K16NwDEA730+Nl24MQKAaL90kBgdAiUFg5dAiDkCsHFpkO98NQG3n+6nx0gZAPQrXo3A9BkDNzMzMzMwGQOj7qfHSTQZAAAAAAAAA+H8K16NwPQoNQM3MzMzMzAVA/tR46SYxD0AEVg4tsh0QQE5iEFg5tAdA5dAi2/l+EEDHSzeJQWAOQEoMAiuHFgpAObTIdr6fDkBSuB6F61EHQMl2vp8aLwxAE4PAyqHFEEDVeOkmMQgJQG3n+6nx0ghAAAAAAAAA+H/Xo3A9CtcLQB1aZDvfTw5AI9v5fmq8C0Av3SQGgZUOQI/C9ShcjwxAx0s3iUFgCkBkO99PjRcQQBKDwMqhRQ1A16NwPQrXDUDhehSuR+ELQPyp8dJNYgRAcT0K16NwDEAfhetRuB4FQESLbOf7qQdARrbz/dR4DUAAAAAAAAAOQOf7qfHSTQ5Abef7qfHSBUDTTWIQWDkFQAAAAAAAAA1AhxbZzvdTDUDJdr6fGi8NQMHKoUW28wRA16NwPQrXB0AfhetRuB4FQI/C9Shcjw1AyXa+nxovEEB1kxgEVg4PQBfZzvdT4wlAjZduEoPADED+1HjpJjEJQLKd76fGSwpAvHSTGARWBkD6fmq8dJMEQM/3U+Olmw1AokW28/3UBkDpJjEIrBwJQH0/NV66SQ9A8KfGSzeJBkDByqFFtvMEQI2XbhKDwAxAEVg5tMh2BkAv3SQGgRUQQNv5fmq8dA1AEVg5tMh2CkAAAAAAAAD4f1+6SQwCKwZACtejcD0KDUAUrkfhehQMQC2yne+nxg9ABFYOLbKdBEADK4cW2c4HQPLSTWIQWA5AGy/dJAaBDUC28/3UeOkNQH0/NV66SQ5AiUFg5dAiBUAK16NwPQoNQLx0kxgEVgVADAIrhxZZEEAUrkfhehQOQKJFtvP91AZAAAAAAAAA+H8AAAAAAAD4fwAAAAAAAPh/UI2XbhKDBkB/arx0kxgFQAAAAAAAAPh/hetRuB6FDkDhehSuR+EGQPhT46WbxApA2/l+arx0B0AAAAAAAAD4f/yp8dJNYgRAc2iR7Xw/B0DdJAaBlUMJQDvfT42XbglALbKd76fGDUDpJjEIrBwEQAAAAAAAAPh/4XoUrkfhBUASg8DKoUUHQLByaJHtfA9Ac2iR7Xy/EEB/arx0kxgFQCUGgZVDiwlADi2yne+nBEDb+X5qvHQNQPhT46WbxAxAfT81XrpJDkAAAAAAAAD4fxFYObTIdgpAaJHtfD81DUDkpZvEILAFQAwCK4cW2QxAuB6F61G4DkAIrBxaZDsMQNrO91PjpQZAarx0kxgEDUAAAAAAAAD4f42XbhKDwAxAJzEIrBxaCECNl24Sg8ALQEw3iUFg5QhA2/l+arx0DkA730+Nl24OQAMrhxbZzgdAAAAAAAAA+H9I4XoUrkcKQKRwPQrXowVAjZduEoPADEA9CtejcD0GQNNNYhBYOQZA7nw/NV66BkC0yHa+nxoNQK5H4XoUrhBA",
          "dtype": "f8"
         },
         "y0": " ",
         "yaxis": "y3"
        },
        {
         "hovertemplate": "Mean: 3.32<extra></extra>",
         "marker": {
          "color": "red",
          "size": 8,
          "symbol": "diamond"
         },
         "mode": "markers",
         "showlegend": false,
         "type": "scatter",
         "x": [
          0
         ],
         "xaxis": "x3",
         "y": [
          3.320852941176471
         ],
         "yaxis": "y3"
        },
        {
         "alignmentgroup": "True",
         "hovertemplate": "CPI=%{y}<extra></extra>",
         "legendgroup": "",
         "marker": {
          "color": "#636efa"
         },
         "name": "",
         "notched": false,
         "offsetgroup": "",
         "orientation": "v",
         "showlegend": false,
         "type": "box",
         "x0": " ",
         "xaxis": "x4",
         "y": {
          "bdata": "TswfeOHYakBA9+XMthNgQMH65M0GV2BAhopg0s7RakAmHeVgNo1qQG6+tiNBil9Awgk7e13bYEBkHvmDwaBqQAAAAAAAAPh/eh3MgTkEbEAXCVwNP2JrQNSnC2dtmGBAqWdBKG8aaECO23ksx6ZrQBDpt68Dj19AyqZc4Z18akAAAAAAAAD4f4duQJXkcGBAAAAAAAAA+H+olZ3ZCShsQJGA0eWNtmdAJhhzfBkRa0BseHqlLF1hQFVntcCee2BARUdy+Q9BYUArkmV3d2NgQAAAAAAAAPh/fPMbJpoaaEA5RUdy+aNfQLLgNDOpKGtATkti/2shYEBat+YzxYNrQKUPApdsnWhAAAAAAAAA+H+D4bd8v91qQMI5fgOuvmBAfSgsTLp3a0DNMP8y6chgQDJ3LSEfImBAtG4oIT1Sa0Ad1DTeTD9hQKX5vhMOxGhAMn7QaQzOa0DVKlX9JUxoQIdi4dq/Z2pA4fCCiNSIa0Driyn9qX1qQOMryyGzkGBABFq6gm3xakDf4jz3Oa1oQFcPTvqxXmBAQ5CDEiZ1akCIDFC/sNxqQCZWodzRH2dAmhNqPAdXYECwfbcvljBgQH+tAQD23WpA3E1LB0bMX0DS+Cqen5xqQIhNv5/1umdAGKGOff89Z0Bwj0pWqlRgQPL21nZJuF9ATVdmAJ4AbEBbJsPxvDxgQNxNSwdGzF9ATn0geaeTYEDtVXWgmM1qQEKQKFlzJmBAvtnmxnSGaUAAAAAAAAD4fw9XvbIB52pAXynLEMeyX0DO2hJeJ3JqQKVUeIaf7WtAU+8EVimSaUCJVpNMszJhQAAAAAAAAPh/Xo94aA5Ha0AAAAAAAAD4f5eA8z3+7WpAQ04EFuWta0DQbXgwWP1rQFXPk3z2+2BAK/nYXaDcakDJbDWQE2JqQI3As5gzYWBAXDV0WIYnbEBhn6XQHq9qQA2ap4Tx5GpAhXOyeQHVakAAAAAAAAD4fyu5Lwx91mpA9Vd+z/4hYEAswgO5ekRnQCMK0jHMSmpAPMZw0PnXakAoSGx3D15qQBzr4jYaiF9Am+Ydp+iIX0Axm1t8JdlqQKGgFK1ca2tASnuDL0zuYEBfKcsQx7JfQNlcNc/RKWxAJRu0/CWTYEAAAAAAAAD4f7qT46ni02pARfRr62eJYECmeWxwx15rQEANKVCVlGlAl5APejZFYUASnzvBPl5qQGHm8WrvSGBAkSxgAvfhakCq8dJNYnRgQOyhfawgt2hAsp3vp8Y7YUD8sDliiOBqQDqANFIl02ZAVlbkIR3cakACazBofAFrQDAx8aIKw2hA9qOXBx/wakC2HENbKd5gQAcA2MqVtGtAxuHMr6Zaa0BStBd2vbBnQEKQKFlzJmBAmQF4VfFFYUBf1VktcFpgQNB1hk70ol9AlEJqJNMkYEC8q8N2HHNqQJafCm6aIWxAYnDeSVWHX0CamZmZmSNgQDcSDfc2iF9AN97CX3gga0DOaFDZ1bJoQOTABp9B1mpA4rmt4+6RakAAAAAAAAD4f3GjEujdz2pAaz2NxQBfbEAwM8dNKM5mQAAAAAAAAPh/VhQKbCmHX0D77NukPWBrQNoQLcOJPWFA",
          "dtype": "f8"
         },
         "y0": " ",
         "yaxis": "y4"
        },
        {
         "hovertemplate": "Mean: 179.90<extra></extra>",
         "marker": {
          "color": "red",
          "size": 8,
          "symbol": "diamond"
         },
         "mode": "markers",
         "showlegend": false,
         "type": "scatter",
         "x": [
          0
         ],
         "xaxis": "x4",
         "y": [
          179.8985087173913
         ],
         "yaxis": "y4"
        },
        {
         "alignmentgroup": "True",
         "hovertemplate": "Unemployment=%{y}<extra></extra>",
         "legendgroup": "",
         "marker": {
          "color": "#636efa"
         },
         "name": "",
         "notched": false,
         "offsetgroup": "",
         "orientation": "v",
         "showlegend": false,
         "type": "box",
         "x0": " ",
         "xaxis": "x5",
         "y": {
          "bdata": "O99PjZduG0DhehSuR+EdQFg5tMh2vhdA/Knx0k1iHUCS7Xw/NV4cQC/dJAaBlR9AbRKDwMqhHkDy0k1iENgbQAAAAAAAAPh/oEW28/1UG0AzMzMzM7MZQLbz/dR4qSJAcT0K16MwIUAxCKwcWmQdQArXo3A9ihtAku18PzVeHEDn+6nx0s0fQIGVQ4tsZyJA3SQGgZXDHUAOLbKd76caQJMYBFYO7SFA2/l+arz0GUAj2/l+anwgQDMzMzMzsyBAzczMzMxMIEDP91PjpRsWQKBFtvP9VBtAQmDl0CJbGUAK16NwPYoaQDMzMzMzsxtARrbz/dR4K0AzMzMzMzMZQFCNl24SgyBADAIrhxbZIEAAAAAAAAD4fy/dJAaBFR9A+FPjpZtEHkAzMzMzM/MhQGQQWDm0yBdAMzMzMzMzGUDP91PjpZsgQFg5tMh2PhhAbxKDwMqhG0BYObTIdj4hQIPAyqFFNiBA7nw/NV46HECWQ4ts5/sZQKabxCCwMiBADgIrhxbZH0DazvdT46UYQFyPwvUo3BdA+n5qvHRTIEAAAAAAAAD4fwwCK4cWGSFArkfhehSuHEA3XrpJDIIbQMP1KFyPQhlACtejcD0KGkAxCKwcWuQbQAwCK4cW2SBAmG4Sg8AKIUCuR+F6FC4eQMdLN4lBoCxA5aWbxCCwFUDfT42XbpIUQLByaJHtfCFAyXa+nxqvIkBEtvP91HgdQKjGSzeJAStAOrTIdr5fIEC28/3UeKkiQAAAAAAAAPh/rkfhehQuH0DazvdT4yUfQAAAAAAAAPh/BoGVQ4tsH0ASg8DKocUfQPhT46WbRB5AEFg5tMh2H0DP91PjpRseQD0K16NwPRpAEoPAyqHFF0CgRbbz/VQbQNNNYhBYOR9Aw/UoXI9CGUB0kxgEVg4gQHE9Ctej8BhADi2yne+nGkDy0k1iENgbQNNNYhBYuR9A+FPjpZvEGUBYObTIdr4XQAAAAAAAAPh/Rrbz/dR4K0AAAAAAAEAhQAisHFpkOx9AGQRWDi0yGUAAAAAAAAD4fz81XrpJDCNA5/up8dLNH0CsHFpkO18dQO58PzVeOhxASOF6FK7HIUA3XrpJDIIcQA4tsp3vpxpAppvEILAyIECWQ4ts5/shQBkEVg4tMhlAAAAAAAAA+H8QWDm0yHYfQFYOLbKd7x1AzczMzMxMIEAAAAAAAAD4f9Ei2/l+ahhAqMZLN4lBHkAAAAAAAAD4f65H4XoULiBAzczMzMxMIEDwp8ZLN4kZQAAAAAAAAPh/w/UoXI9CGUAEVg4tsh0aQLFyaJHtfB9A7nw/NV66HkBtEoPAyqEeQH0/NV66yRxAMzMzMzOzGUBFtvP91HgbQDdeukkMghtAUrgehesRIUDRItv5fmoYQAAAAAAAAPh/+n5qvHSTFkDazvdT4yUfQDeJQWDlUBVAXI/C9ShcLED6fmq8dJMWQNnO91PjZSJA7FG4HoVrG0CuR+F6FC4gQE5iEFg5NB5A30+Nl24SG0B9PzVeuskcQKwcWmQ7Xx1AiUFg5dAiGEA/NV66ScwhQAAAAAAAAPh/AAAAAAAA+H8AAAAAAAD4f83MzMzMTCBA",
          "dtype": "f8"
         },
         "y0": " ",
         "yaxis": "y5"
        },
        {
         "hovertemplate": "Mean: 7.60<extra></extra>",
         "marker": {
          "color": "red",
          "size": 8,
          "symbol": "diamond"
         },
         "mode": "markers",
         "showlegend": false,
         "type": "scatter",
         "x": [
          0
         ],
         "xaxis": "x5",
         "y": [
          7.59842962962963
         ],
         "yaxis": "y5"
        }
       ],
       "layout": {
        "annotations": [
         {
          "font": {
           "size": 16
          },
          "showarrow": false,
          "text": "Weekly_Sales",
          "x": 0.08399999999999999,
          "xanchor": "center",
          "xref": "paper",
          "y": 1,
          "yanchor": "bottom",
          "yref": "paper"
         },
         {
          "font": {
           "size": 16
          },
          "showarrow": false,
          "text": "Temperature",
          "x": 0.292,
          "xanchor": "center",
          "xref": "paper",
          "y": 1,
          "yanchor": "bottom",
          "yref": "paper"
         },
         {
          "font": {
           "size": 16
          },
          "showarrow": false,
          "text": "Fuel_Price",
          "x": 0.5,
          "xanchor": "center",
          "xref": "paper",
          "y": 1,
          "yanchor": "bottom",
          "yref": "paper"
         },
         {
          "font": {
           "size": 16
          },
          "showarrow": false,
          "text": "CPI",
          "x": 0.708,
          "xanchor": "center",
          "xref": "paper",
          "y": 1,
          "yanchor": "bottom",
          "yref": "paper"
         },
         {
          "font": {
           "size": 16
          },
          "showarrow": false,
          "text": "Unemployment",
          "x": 0.9159999999999999,
          "xanchor": "center",
          "xref": "paper",
          "y": 1,
          "yanchor": "bottom",
          "yref": "paper"
         }
        ],
        "height": 500,
        "showlegend": false,
        "template": {
         "data": {
          "bar": [
           {
            "error_x": {
             "color": "#2a3f5f"
            },
            "error_y": {
             "color": "#2a3f5f"
            },
            "marker": {
             "line": {
              "color": "#E5ECF6",
              "width": 0.5
             },
             "pattern": {
              "fillmode": "overlay",
              "size": 10,
              "solidity": 0.2
             }
            },
            "type": "bar"
           }
          ],
          "barpolar": [
           {
            "marker": {
             "line": {
              "color": "#E5ECF6",
              "width": 0.5
             },
             "pattern": {
              "fillmode": "overlay",
              "size": 10,
              "solidity": 0.2
             }
            },
            "type": "barpolar"
           }
          ],
          "carpet": [
           {
            "aaxis": {
             "endlinecolor": "#2a3f5f",
             "gridcolor": "white",
             "linecolor": "white",
             "minorgridcolor": "white",
             "startlinecolor": "#2a3f5f"
            },
            "baxis": {
             "endlinecolor": "#2a3f5f",
             "gridcolor": "white",
             "linecolor": "white",
             "minorgridcolor": "white",
             "startlinecolor": "#2a3f5f"
            },
            "type": "carpet"
           }
          ],
          "choropleth": [
           {
            "colorbar": {
             "outlinewidth": 0,
             "ticks": ""
            },
            "type": "choropleth"
           }
          ],
          "contour": [
           {
            "colorbar": {
             "outlinewidth": 0,
             "ticks": ""
            },
            "colorscale": [
             [
              0,
              "#0d0887"
             ],
             [
              0.1111111111111111,
              "#46039f"
             ],
             [
              0.2222222222222222,
              "#7201a8"
             ],
             [
              0.3333333333333333,
              "#9c179e"
             ],
             [
              0.4444444444444444,
              "#bd3786"
             ],
             [
              0.5555555555555556,
              "#d8576b"
             ],
             [
              0.6666666666666666,
              "#ed7953"
             ],
             [
              0.7777777777777778,
              "#fb9f3a"
             ],
             [
              0.8888888888888888,
              "#fdca26"
             ],
             [
              1,
              "#f0f921"
             ]
            ],
            "type": "contour"
           }
          ],
          "contourcarpet": [
           {
            "colorbar": {
             "outlinewidth": 0,
             "ticks": ""
            },
            "type": "contourcarpet"
           }
          ],
          "heatmap": [
           {
            "colorbar": {
             "outlinewidth": 0,
             "ticks": ""
            },
            "colorscale": [
             [
              0,
              "#0d0887"
             ],
             [
              0.1111111111111111,
              "#46039f"
             ],
             [
              0.2222222222222222,
              "#7201a8"
             ],
             [
              0.3333333333333333,
              "#9c179e"
             ],
             [
              0.4444444444444444,
              "#bd3786"
             ],
             [
              0.5555555555555556,
              "#d8576b"
             ],
             [
              0.6666666666666666,
              "#ed7953"
             ],
             [
              0.7777777777777778,
              "#fb9f3a"
             ],
             [
              0.8888888888888888,
              "#fdca26"
             ],
             [
              1,
              "#f0f921"
             ]
            ],
            "type": "heatmap"
           }
          ],
          "histogram": [
           {
            "marker": {
             "pattern": {
              "fillmode": "overlay",
              "size": 10,
              "solidity": 0.2
             }
            },
            "type": "histogram"
           }
          ],
          "histogram2d": [
           {
            "colorbar": {
             "outlinewidth": 0,
             "ticks": ""
            },
            "colorscale": [
             [
              0,
              "#0d0887"
             ],
             [
              0.1111111111111111,
              "#46039f"
             ],
             [
              0.2222222222222222,
              "#7201a8"
             ],
             [
              0.3333333333333333,
              "#9c179e"
             ],
             [
              0.4444444444444444,
              "#bd3786"
             ],
             [
              0.5555555555555556,
              "#d8576b"
             ],
             [
              0.6666666666666666,
              "#ed7953"
             ],
             [
              0.7777777777777778,
              "#fb9f3a"
             ],
             [
              0.8888888888888888,
              "#fdca26"
             ],
             [
              1,
              "#f0f921"
             ]
            ],
            "type": "histogram2d"
           }
          ],
          "histogram2dcontour": [
           {
            "colorbar": {
             "outlinewidth": 0,
             "ticks": ""
            },
            "colorscale": [
             [
              0,
              "#0d0887"
             ],
             [
              0.1111111111111111,
              "#46039f"
             ],
             [
              0.2222222222222222,
              "#7201a8"
             ],
             [
              0.3333333333333333,
              "#9c179e"
             ],
             [
              0.4444444444444444,
              "#bd3786"
             ],
             [
              0.5555555555555556,
              "#d8576b"
             ],
             [
              0.6666666666666666,
              "#ed7953"
             ],
             [
              0.7777777777777778,
              "#fb9f3a"
             ],
             [
              0.8888888888888888,
              "#fdca26"
             ],
             [
              1,
              "#f0f921"
             ]
            ],
            "type": "histogram2dcontour"
           }
          ],
          "mesh3d": [
           {
            "colorbar": {
             "outlinewidth": 0,
             "ticks": ""
            },
            "type": "mesh3d"
           }
          ],
          "parcoords": [
           {
            "line": {
             "colorbar": {
              "outlinewidth": 0,
              "ticks": ""
             }
            },
            "type": "parcoords"
           }
          ],
          "pie": [
           {
            "automargin": true,
            "type": "pie"
           }
          ],
          "scatter": [
           {
            "fillpattern": {
             "fillmode": "overlay",
             "size": 10,
             "solidity": 0.2
            },
            "type": "scatter"
           }
          ],
          "scatter3d": [
           {
            "line": {
             "colorbar": {
              "outlinewidth": 0,
              "ticks": ""
             }
            },
            "marker": {
             "colorbar": {
              "outlinewidth": 0,
              "ticks": ""
             }
            },
            "type": "scatter3d"
           }
          ],
          "scattercarpet": [
           {
            "marker": {
             "colorbar": {
              "outlinewidth": 0,
              "ticks": ""
             }
            },
            "type": "scattercarpet"
           }
          ],
          "scattergeo": [
           {
            "marker": {
             "colorbar": {
              "outlinewidth": 0,
              "ticks": ""
             }
            },
            "type": "scattergeo"
           }
          ],
          "scattergl": [
           {
            "marker": {
             "colorbar": {
              "outlinewidth": 0,
              "ticks": ""
             }
            },
            "type": "scattergl"
           }
          ],
          "scattermap": [
           {
            "marker": {
             "colorbar": {
              "outlinewidth": 0,
              "ticks": ""
             }
            },
            "type": "scattermap"
           }
          ],
          "scattermapbox": [
           {
            "marker": {
             "colorbar": {
              "outlinewidth": 0,
              "ticks": ""
             }
            },
            "type": "scattermapbox"
           }
          ],
          "scatterpolar": [
           {
            "marker": {
             "colorbar": {
              "outlinewidth": 0,
              "ticks": ""
             }
            },
            "type": "scatterpolar"
           }
          ],
          "scatterpolargl": [
           {
            "marker": {
             "colorbar": {
              "outlinewidth": 0,
              "ticks": ""
             }
            },
            "type": "scatterpolargl"
           }
          ],
          "scatterternary": [
           {
            "marker": {
             "colorbar": {
              "outlinewidth": 0,
              "ticks": ""
             }
            },
            "type": "scatterternary"
           }
          ],
          "surface": [
           {
            "colorbar": {
             "outlinewidth": 0,
             "ticks": ""
            },
            "colorscale": [
             [
              0,
              "#0d0887"
             ],
             [
              0.1111111111111111,
              "#46039f"
             ],
             [
              0.2222222222222222,
              "#7201a8"
             ],
             [
              0.3333333333333333,
              "#9c179e"
             ],
             [
              0.4444444444444444,
              "#bd3786"
             ],
             [
              0.5555555555555556,
              "#d8576b"
             ],
             [
              0.6666666666666666,
              "#ed7953"
             ],
             [
              0.7777777777777778,
              "#fb9f3a"
             ],
             [
              0.8888888888888888,
              "#fdca26"
             ],
             [
              1,
              "#f0f921"
             ]
            ],
            "type": "surface"
           }
          ],
          "table": [
           {
            "cells": {
             "fill": {
              "color": "#EBF0F8"
             },
             "line": {
              "color": "white"
             }
            },
            "header": {
             "fill": {
              "color": "#C8D4E3"
             },
             "line": {
              "color": "white"
             }
            },
            "type": "table"
           }
          ]
         },
         "layout": {
          "annotationdefaults": {
           "arrowcolor": "#2a3f5f",
           "arrowhead": 0,
           "arrowwidth": 1
          },
          "autotypenumbers": "strict",
          "coloraxis": {
           "colorbar": {
            "outlinewidth": 0,
            "ticks": ""
           }
          },
          "colorscale": {
           "diverging": [
            [
             0,
             "#8e0152"
            ],
            [
             0.1,
             "#c51b7d"
            ],
            [
             0.2,
             "#de77ae"
            ],
            [
             0.3,
             "#f1b6da"
            ],
            [
             0.4,
             "#fde0ef"
            ],
            [
             0.5,
             "#f7f7f7"
            ],
            [
             0.6,
             "#e6f5d0"
            ],
            [
             0.7,
             "#b8e186"
            ],
            [
             0.8,
             "#7fbc41"
            ],
            [
             0.9,
             "#4d9221"
            ],
            [
             1,
             "#276419"
            ]
           ],
           "sequential": [
            [
             0,
             "#0d0887"
            ],
            [
             0.1111111111111111,
             "#46039f"
            ],
            [
             0.2222222222222222,
             "#7201a8"
            ],
            [
             0.3333333333333333,
             "#9c179e"
            ],
            [
             0.4444444444444444,
             "#bd3786"
            ],
            [
             0.5555555555555556,
             "#d8576b"
            ],
            [
             0.6666666666666666,
             "#ed7953"
            ],
            [
             0.7777777777777778,
             "#fb9f3a"
            ],
            [
             0.8888888888888888,
             "#fdca26"
            ],
            [
             1,
             "#f0f921"
            ]
           ],
           "sequentialminus": [
            [
             0,
             "#0d0887"
            ],
            [
             0.1111111111111111,
             "#46039f"
            ],
            [
             0.2222222222222222,
             "#7201a8"
            ],
            [
             0.3333333333333333,
             "#9c179e"
            ],
            [
             0.4444444444444444,
             "#bd3786"
            ],
            [
             0.5555555555555556,
             "#d8576b"
            ],
            [
             0.6666666666666666,
             "#ed7953"
            ],
            [
             0.7777777777777778,
             "#fb9f3a"
            ],
            [
             0.8888888888888888,
             "#fdca26"
            ],
            [
             1,
             "#f0f921"
            ]
           ]
          },
          "colorway": [
           "#636efa",
           "#EF553B",
           "#00cc96",
           "#ab63fa",
           "#FFA15A",
           "#19d3f3",
           "#FF6692",
           "#B6E880",
           "#FF97FF",
           "#FECB52"
          ],
          "font": {
           "color": "#2a3f5f"
          },
          "geo": {
           "bgcolor": "white",
           "lakecolor": "white",
           "landcolor": "#E5ECF6",
           "showlakes": true,
           "showland": true,
           "subunitcolor": "white"
          },
          "hoverlabel": {
           "align": "left"
          },
          "hovermode": "closest",
          "mapbox": {
           "style": "light"
          },
          "paper_bgcolor": "white",
          "plot_bgcolor": "#E5ECF6",
          "polar": {
           "angularaxis": {
            "gridcolor": "white",
            "linecolor": "white",
            "ticks": ""
           },
           "bgcolor": "#E5ECF6",
           "radialaxis": {
            "gridcolor": "white",
            "linecolor": "white",
            "ticks": ""
           }
          },
          "scene": {
           "xaxis": {
            "backgroundcolor": "#E5ECF6",
            "gridcolor": "white",
            "gridwidth": 2,
            "linecolor": "white",
            "showbackground": true,
            "ticks": "",
            "zerolinecolor": "white"
           },
           "yaxis": {
            "backgroundcolor": "#E5ECF6",
            "gridcolor": "white",
            "gridwidth": 2,
            "linecolor": "white",
            "showbackground": true,
            "ticks": "",
            "zerolinecolor": "white"
           },
           "zaxis": {
            "backgroundcolor": "#E5ECF6",
            "gridcolor": "white",
            "gridwidth": 2,
            "linecolor": "white",
            "showbackground": true,
            "ticks": "",
            "zerolinecolor": "white"
           }
          },
          "shapedefaults": {
           "line": {
            "color": "#2a3f5f"
           }
          },
          "ternary": {
           "aaxis": {
            "gridcolor": "white",
            "linecolor": "white",
            "ticks": ""
           },
           "baxis": {
            "gridcolor": "white",
            "linecolor": "white",
            "ticks": ""
           },
           "bgcolor": "#E5ECF6",
           "caxis": {
            "gridcolor": "white",
            "linecolor": "white",
            "ticks": ""
           }
          },
          "title": {
           "x": 0.05
          },
          "xaxis": {
           "automargin": true,
           "gridcolor": "white",
           "linecolor": "white",
           "ticks": "",
           "title": {
            "standoff": 15
           },
           "zerolinecolor": "white",
           "zerolinewidth": 2
          },
          "yaxis": {
           "automargin": true,
           "gridcolor": "white",
           "linecolor": "white",
           "ticks": "",
           "title": {
            "standoff": 15
           },
           "zerolinecolor": "white",
           "zerolinewidth": 2
          }
         }
        },
        "title": {
         "text": "Box Plots with Mean Overlay (Red Diamond)"
        },
        "width": 1000,
        "xaxis": {
         "anchor": "y",
         "domain": [
          0,
          0.16799999999999998
         ]
        },
        "xaxis2": {
         "anchor": "y2",
         "domain": [
          0.208,
          0.376
         ]
        },
        "xaxis3": {
         "anchor": "y3",
         "domain": [
          0.416,
          0.584
         ]
        },
        "xaxis4": {
         "anchor": "y4",
         "domain": [
          0.624,
          0.792
         ]
        },
        "xaxis5": {
         "anchor": "y5",
         "domain": [
          0.832,
          1
         ]
        },
        "yaxis": {
         "anchor": "x",
         "domain": [
          0,
          1
         ]
        },
        "yaxis2": {
         "anchor": "x2",
         "domain": [
          0,
          1
         ]
        },
        "yaxis3": {
         "anchor": "x3",
         "domain": [
          0,
          1
         ]
        },
        "yaxis4": {
         "anchor": "x4",
         "domain": [
          0,
          1
         ]
        },
        "yaxis5": {
         "anchor": "x5",
         "domain": [
          0,
          1
         ]
        }
       }
      }
     },
     "metadata": {},
     "output_type": "display_data"
    }
   ],
   "source": [
    "# List of columns to plot\n",
    "columns_to_plot = ['Weekly_Sales', 'Temperature', 'Fuel_Price', 'CPI', 'Unemployment']\n",
    "\n",
    "# Create a subplot grid\n",
    "fig = make_subplots(rows=1, cols=len(columns_to_plot), subplot_titles=columns_to_plot)\n",
    "\n",
    "# Plot a box plot and add mean marker for each column\n",
    "for i, col in enumerate(columns_to_plot, start=1):\n",
    "    # Box plot trace\n",
    "    box_plot = px.box(df1, y=col).data[0]\n",
    "    fig.add_trace(box_plot, row=1, col=i)\n",
    "\n",
    "    # Compute and add mean marker\n",
    "    mean_val = df1[col].mean()\n",
    "    fig.add_trace(\n",
    "        go.Scatter(\n",
    "            x=[0],  # dummy x because subplot is vertical\n",
    "            y=[mean_val],\n",
    "            mode='markers',\n",
    "            marker=dict(color='red', size=8, symbol='diamond'),\n",
    "            showlegend=False,\n",
    "            hovertemplate=f\"Mean: {mean_val:.2f}<extra></extra>\"\n",
    "        ),\n",
    "        row=1,\n",
    "        col=i\n",
    "    )\n",
    "\n",
    "# Update layout\n",
    "fig.update_layout(\n",
    "    title_text=\"Box Plots with Mean Overlay (Red Diamond)\",\n",
    "    showlegend=False,\n",
    "    height=500,\n",
    "    width=200 * len(columns_to_plot)\n",
    ")\n",
    "\n",
    "# Show the plot\n",
    "fig.show()\n"
   ]
  },
  {
   "cell_type": "code",
   "execution_count": 21,
   "metadata": {},
   "outputs": [
    {
     "data": {
      "text/html": [
       "<div>\n",
       "<style scoped>\n",
       "    .dataframe tbody tr th:only-of-type {\n",
       "        vertical-align: middle;\n",
       "    }\n",
       "\n",
       "    .dataframe tbody tr th {\n",
       "        vertical-align: top;\n",
       "    }\n",
       "\n",
       "    .dataframe thead th {\n",
       "        text-align: right;\n",
       "    }\n",
       "</style>\n",
       "<table border=\"1\" class=\"dataframe\">\n",
       "  <thead>\n",
       "    <tr style=\"text-align: right;\">\n",
       "      <th></th>\n",
       "      <th>Store</th>\n",
       "      <th>Date</th>\n",
       "      <th>Weekly_Sales</th>\n",
       "      <th>Holiday_Flag</th>\n",
       "      <th>Temperature</th>\n",
       "      <th>Fuel_Price</th>\n",
       "      <th>CPI</th>\n",
       "      <th>Unemployment</th>\n",
       "      <th>Month</th>\n",
       "      <th>Year</th>\n",
       "      <th>Week_of_year</th>\n",
       "      <th>week</th>\n",
       "    </tr>\n",
       "  </thead>\n",
       "  <tbody>\n",
       "    <tr>\n",
       "      <th>30</th>\n",
       "      <td>12.0</td>\n",
       "      <td>2011-05-06</td>\n",
       "      <td>1021154.48</td>\n",
       "      <td>0.0</td>\n",
       "      <td>68.40</td>\n",
       "      <td>4.193</td>\n",
       "      <td>129.044433</td>\n",
       "      <td>13.736</td>\n",
       "      <td>5.0</td>\n",
       "      <td>2011.0</td>\n",
       "      <td>18</td>\n",
       "      <td>1.0</td>\n",
       "    </tr>\n",
       "    <tr>\n",
       "      <th>62</th>\n",
       "      <td>12.0</td>\n",
       "      <td>2010-12-17</td>\n",
       "      <td>1295605.35</td>\n",
       "      <td>0.0</td>\n",
       "      <td>52.77</td>\n",
       "      <td>3.236</td>\n",
       "      <td>126.879484</td>\n",
       "      <td>14.313</td>\n",
       "      <td>12.0</td>\n",
       "      <td>2010.0</td>\n",
       "      <td>50</td>\n",
       "      <td>3.0</td>\n",
       "    </tr>\n",
       "    <tr>\n",
       "      <th>68</th>\n",
       "      <td>12.0</td>\n",
       "      <td>2011-08-12</td>\n",
       "      <td>955913.68</td>\n",
       "      <td>0.0</td>\n",
       "      <td>91.04</td>\n",
       "      <td>3.701</td>\n",
       "      <td>129.201581</td>\n",
       "      <td>13.503</td>\n",
       "      <td>8.0</td>\n",
       "      <td>2011.0</td>\n",
       "      <td>32</td>\n",
       "      <td>2.0</td>\n",
       "    </tr>\n",
       "    <tr>\n",
       "      <th>93</th>\n",
       "      <td>12.0</td>\n",
       "      <td>2011-05-27</td>\n",
       "      <td>964332.51</td>\n",
       "      <td>0.0</td>\n",
       "      <td>NaN</td>\n",
       "      <td>4.087</td>\n",
       "      <td>129.062355</td>\n",
       "      <td>13.736</td>\n",
       "      <td>5.0</td>\n",
       "      <td>2011.0</td>\n",
       "      <td>21</td>\n",
       "      <td>4.0</td>\n",
       "    </tr>\n",
       "    <tr>\n",
       "      <th>135</th>\n",
       "      <td>12.0</td>\n",
       "      <td>2010-09-10</td>\n",
       "      <td>903119.03</td>\n",
       "      <td>1.0</td>\n",
       "      <td>83.63</td>\n",
       "      <td>3.044</td>\n",
       "      <td>126.114581</td>\n",
       "      <td>14.180</td>\n",
       "      <td>9.0</td>\n",
       "      <td>2010.0</td>\n",
       "      <td>36</td>\n",
       "      <td>2.0</td>\n",
       "    </tr>\n",
       "  </tbody>\n",
       "</table>\n",
       "</div>"
      ],
      "text/plain": [
       "     Store       Date  Weekly_Sales  Holiday_Flag  Temperature  Fuel_Price  \\\n",
       "30    12.0 2011-05-06    1021154.48           0.0        68.40       4.193   \n",
       "62    12.0 2010-12-17    1295605.35           0.0        52.77       3.236   \n",
       "68    12.0 2011-08-12     955913.68           0.0        91.04       3.701   \n",
       "93    12.0 2011-05-27     964332.51           0.0          NaN       4.087   \n",
       "135   12.0 2010-09-10     903119.03           1.0        83.63       3.044   \n",
       "\n",
       "            CPI  Unemployment  Month    Year  Week_of_year  week  \n",
       "30   129.044433        13.736    5.0  2011.0            18   1.0  \n",
       "62   126.879484        14.313   12.0  2010.0            50   3.0  \n",
       "68   129.201581        13.503    8.0  2011.0            32   2.0  \n",
       "93   129.062355        13.736    5.0  2011.0            21   4.0  \n",
       "135  126.114581        14.180    9.0  2010.0            36   2.0  "
      ]
     },
     "execution_count": 21,
     "metadata": {},
     "output_type": "execute_result"
    }
   ],
   "source": [
    "df1[df1[\"Unemployment\"]>10]"
   ]
  },
  {
   "cell_type": "code",
   "execution_count": 22,
   "metadata": {},
   "outputs": [
    {
     "data": {
      "text/html": [
       "<div>\n",
       "<style scoped>\n",
       "    .dataframe tbody tr th:only-of-type {\n",
       "        vertical-align: middle;\n",
       "    }\n",
       "\n",
       "    .dataframe tbody tr th {\n",
       "        vertical-align: top;\n",
       "    }\n",
       "\n",
       "    .dataframe thead th {\n",
       "        text-align: right;\n",
       "    }\n",
       "</style>\n",
       "<table border=\"1\" class=\"dataframe\">\n",
       "  <thead>\n",
       "    <tr style=\"text-align: right;\">\n",
       "      <th></th>\n",
       "      <th>Store</th>\n",
       "      <th>Date</th>\n",
       "      <th>Weekly_Sales</th>\n",
       "      <th>Holiday_Flag</th>\n",
       "      <th>Temperature</th>\n",
       "      <th>Fuel_Price</th>\n",
       "      <th>CPI</th>\n",
       "      <th>Unemployment</th>\n",
       "      <th>Month</th>\n",
       "      <th>Year</th>\n",
       "      <th>Week_of_year</th>\n",
       "      <th>week</th>\n",
       "    </tr>\n",
       "  </thead>\n",
       "  <tbody>\n",
       "    <tr>\n",
       "      <th>30</th>\n",
       "      <td>12.0</td>\n",
       "      <td>2011-05-06</td>\n",
       "      <td>1021154.48</td>\n",
       "      <td>0.0</td>\n",
       "      <td>68.40</td>\n",
       "      <td>4.193</td>\n",
       "      <td>129.044433</td>\n",
       "      <td>13.736</td>\n",
       "      <td>5.0</td>\n",
       "      <td>2011.0</td>\n",
       "      <td>18</td>\n",
       "      <td>1.0</td>\n",
       "    </tr>\n",
       "    <tr>\n",
       "      <th>62</th>\n",
       "      <td>12.0</td>\n",
       "      <td>2010-12-17</td>\n",
       "      <td>1295605.35</td>\n",
       "      <td>0.0</td>\n",
       "      <td>52.77</td>\n",
       "      <td>3.236</td>\n",
       "      <td>126.879484</td>\n",
       "      <td>14.313</td>\n",
       "      <td>12.0</td>\n",
       "      <td>2010.0</td>\n",
       "      <td>50</td>\n",
       "      <td>3.0</td>\n",
       "    </tr>\n",
       "    <tr>\n",
       "      <th>68</th>\n",
       "      <td>12.0</td>\n",
       "      <td>2011-08-12</td>\n",
       "      <td>955913.68</td>\n",
       "      <td>0.0</td>\n",
       "      <td>91.04</td>\n",
       "      <td>3.701</td>\n",
       "      <td>129.201581</td>\n",
       "      <td>13.503</td>\n",
       "      <td>8.0</td>\n",
       "      <td>2011.0</td>\n",
       "      <td>32</td>\n",
       "      <td>2.0</td>\n",
       "    </tr>\n",
       "    <tr>\n",
       "      <th>93</th>\n",
       "      <td>12.0</td>\n",
       "      <td>2011-05-27</td>\n",
       "      <td>964332.51</td>\n",
       "      <td>0.0</td>\n",
       "      <td>NaN</td>\n",
       "      <td>4.087</td>\n",
       "      <td>129.062355</td>\n",
       "      <td>13.736</td>\n",
       "      <td>5.0</td>\n",
       "      <td>2011.0</td>\n",
       "      <td>21</td>\n",
       "      <td>4.0</td>\n",
       "    </tr>\n",
       "    <tr>\n",
       "      <th>135</th>\n",
       "      <td>12.0</td>\n",
       "      <td>2010-09-10</td>\n",
       "      <td>903119.03</td>\n",
       "      <td>1.0</td>\n",
       "      <td>83.63</td>\n",
       "      <td>3.044</td>\n",
       "      <td>126.114581</td>\n",
       "      <td>14.180</td>\n",
       "      <td>9.0</td>\n",
       "      <td>2010.0</td>\n",
       "      <td>36</td>\n",
       "      <td>2.0</td>\n",
       "    </tr>\n",
       "  </tbody>\n",
       "</table>\n",
       "</div>"
      ],
      "text/plain": [
       "     Store       Date  Weekly_Sales  Holiday_Flag  Temperature  Fuel_Price  \\\n",
       "30    12.0 2011-05-06    1021154.48           0.0        68.40       4.193   \n",
       "62    12.0 2010-12-17    1295605.35           0.0        52.77       3.236   \n",
       "68    12.0 2011-08-12     955913.68           0.0        91.04       3.701   \n",
       "93    12.0 2011-05-27     964332.51           0.0          NaN       4.087   \n",
       "135   12.0 2010-09-10     903119.03           1.0        83.63       3.044   \n",
       "\n",
       "            CPI  Unemployment  Month    Year  Week_of_year  week  \n",
       "30   129.044433        13.736    5.0  2011.0            18   1.0  \n",
       "62   126.879484        14.313   12.0  2010.0            50   3.0  \n",
       "68   129.201581        13.503    8.0  2011.0            32   2.0  \n",
       "93   129.062355        13.736    5.0  2011.0            21   4.0  \n",
       "135  126.114581        14.180    9.0  2010.0            36   2.0  "
      ]
     },
     "execution_count": 22,
     "metadata": {},
     "output_type": "execute_result"
    }
   ],
   "source": [
    "df1[df1[\"Store\"]==12]"
   ]
  },
  {
   "cell_type": "markdown",
   "metadata": {},
   "source": [
    "The unemployement rate looks particularly high in 5 entries. All of these entries being from the same store 12, we can suppose that store 12 is located in an area with higher unemployment rate. However, we will need to remove these outliers to prevent bias in the predictions. \n",
    "\n",
    "There is no outliers in the other columns."
   ]
  },
  {
   "cell_type": "code",
   "execution_count": 23,
   "metadata": {},
   "outputs": [
    {
     "data": {
      "application/vnd.plotly.v1+json": {
       "config": {
        "plotlyServerURL": "https://plot.ly"
       },
       "data": [
        {
         "marker": {
          "opacity": 0.6,
          "size": 4
         },
         "mode": "markers",
         "name": "Store",
         "type": "scatter",
         "x": {
          "bdata": "AAAAAAAAGEAAAAAAAAAqQAAAAAAAADFAAAAAAAAAJkAAAAAAAAAYQAAAAAAAABBAAAAAAAAALkAAAAAAAAA0QAAAAAAAACxAAAAAAAAACEAAAAAAAAAgQAAAAAAAADJAAAAAAAAAHEAAAAAAAADwPwAAAAAAADFAAAAAAAAAGEAAAAAAAAAqQAAAAAAAADJAAAAAAAAAAEAAAAAAAAAIQAAAAAAAABxAAAAAAAAAFEAAAAAAAAAyQAAAAAAAADNAAAAAAAAAM0AAAAAAAAAxQAAAAAAAAAhAAAAAAAAAMEAAAAAAAAAxQAAAAAAAABhAAAAAAAAAKEAAAAAAAAAUQAAAAAAAABxAAAAAAAAALEAAAAAAAAAAQAAAAAAAADNAAAAAAAAACEAAAAAAAAAyQAAAAAAAABBAAAAAAAAAFEAAAAAAAAAyQAAAAAAAADBAAAAAAAAA8D8AAAAAAAAcQAAAAAAAAPA/AAAAAAAAAEAAAAAAAAAUQAAAAAAAADNAAAAAAAAA8D8AAAAAAAAwQAAAAAAAACpAAAAAAAAAAEAAAAAAAAAiQAAAAAAAACxAAAAAAAAAJEAAAAAAAAAqQAAAAAAAACBAAAAAAAAAEEAAAAAAAAAYQAAAAAAAACxAAAAAAAAALEAAAAAAAAAkQAAAAAAAAChAAAAAAAAAFEAAAAAAAAAQQAAAAAAAACRAAAAAAAAAMkAAAAAAAAAIQAAAAAAAAChAAAAAAAAANEAAAAAAAAAyQAAAAAAAADRAAAAAAAAAKkAAAAAAAADwPwAAAAAAAPA/AAAAAAAANEAAAAAAAAAuQAAAAAAAAAhAAAAAAAAA8D8AAAAAAAA0QAAAAAAAACJAAAAAAAAAFEAAAAAAAAAmQAAAAAAAAC5AAAAAAAAAIEAAAAAAAAAAQAAAAAAAADFAAAAAAAAACEAAAAAAAAA0QAAAAAAAAABAAAAAAAAAIkAAAAAAAAAxQAAAAAAAAAhAAAAAAAAAKEAAAAAAAAAsQAAAAAAAAPA/AAAAAAAAIEAAAAAAAAAUQAAAAAAAACRAAAAAAAAAKkAAAAAAAAAIQAAAAAAAAABAAAAAAAAAMkAAAAAAAAAQQAAAAAAAAAhAAAAAAAAAM0AAAAAAAAAsQAAAAAAAACBAAAAAAAAAMkAAAAAAAADwPwAAAAAAADRAAAAAAAAAM0AAAAAAAAAAQAAAAAAAACpAAAAAAAAAJkAAAAAAAAAuQAAAAAAAABxAAAAAAAAAM0AAAAAAAAAiQAAAAAAAACxAAAAAAAAAIEAAAAAAAAAUQAAAAAAAABxAAAAAAAAA8D8AAAAAAAAzQAAAAAAAAAhAAAAAAAAAIEAAAAAAAAAwQAAAAAAAACpAAAAAAAAAMkAAAAAAAAAqQAAAAAAAADFAAAAAAAAAEEAAAAAAAADwPwAAAAAAABhAAAAAAAAAKEAAAAAAAAAQQAAAAAAAACRAAAAAAAAAGEAAAAAAAAAcQAAAAAAAAAhAAAAAAAAAFEAAAAAAAAAIQAAAAAAAAAhAAAAAAAAACEAAAAAAAAAsQAAAAAAAABxAAAAAAAAAMUAAAAAAAAAgQAAAAAAAADNA",
          "dtype": "f8"
         },
         "xaxis": "x",
         "y": {
          "bdata": "pHA9ihX9N0HhehRuuZQ7QQAAAAAAAPh/exSuB+b8MkGPwvWothc5QTMzM7P9VzxBFK5HYcg4JUGamZmZwc9AQRSuR6Ej10NBFK5H4bWRGUEAAAAAtVArQTMzMzPkay9BMzMzMzhGGUF7FK7HoJg5QaRwPYouTilBj8L1KODbNkEUrkehVXo+QQAAAIA7ZDJBKVyPQnCPQkEAAAAAAAD4f3sUrkfyHyFBpHA9CsjBEUEAAAAAn2MwQTMzM3NPxjVBCtejcE9wNUHhehSujBIsQa5H4Xo6bRZBKVyPwhSTGkFSuB6F1R8nQY/C9Wh1rDVBXI/C9cQpL0EAAAAAAAD4f6RwPYoJMiFB16NwPUiyP0HXo3D96UY8QQrXo/CEUzNBKVyPwgNLFkEK16Nw+ycuQbgehesYpT5BzczMzIoJE0Fcj8J1RFUtQR+F61F6ESBBSOF6VEdbOUEK16Pw1DkjQQrXo3DlDTlBMzMzs6poPEHsUbgeBGoQQeF6FK7aojdBAAAAwD/JOEE9CtejnZsdQT0K12PnDj9B16NwvYw/PUHsUbgePRUfQa5H4TqbrTxBpHA9yq+OO0Fcj8L1hjA8QfYoXI/hHytBAAAAAAAA+H97FK7HlGE3QdejcP3G1D5B4XoU7u/5P0FSuB4F414+QZqZmVn1xDNBmpmZmTggE0Fcj8KV4iRFQWZmZuaFKDpBmpmZ2SXLMUEUrkfh2CwcQcP1KFwTLC1BAAAAAAAA+H9cj8K1zjw4QQAAAAAAAPh/zczMLI7HQkG4HoXrthw2QVK4HsXkAjdB7FG43o8bPkFcj8J15mkhQQAAAAAAAPh/MzMzs5t9N0FmZmam9047QTMzMzM9uh9BcT0K15jsFUEK16PwR/M3QRSuR+HmiSJBAAAAAAAA+H+kcD3KYtM6QdejcD1VHi5BCtejcMVdGkHNzMyMjTc/QfYoXI9kbjtBmpmZmTSgHUGkcD0K/fEvQSlcj8IicxdBUrgeBdltLUEpXI/CCM89QQAAAIDrzDZBH4XrUWBBKkHD9ShcJzsSQfYoXE/s+jpBXI/CtQrMPkFmZmZmszgWQT0K1yNgdTtBKVyPQkuWMEHhehRuFJFBQc3MzMynmhlBXI/C9XvZNEEUrkeh5/k/Qc3MzMziWy5BpHA9ylorM0EAAAAAAAD4f6RwPco5djtBw/UoXL5nNkFSuB7FUTVAQVyPwjWWpDtBKVyPgjrQOkEAAACAzSokQdejcD3w6RtBAAAAAAAA+H+uR+F6x1AfQZqZmRkqdDxBMzMzs8eIKUHhehSuGMsQQZqZmRnpPiJBuB6Fq75eNkEUrkehUWQ2QRSuR+HbVxhBAAAAAAAA+H+PwvWo2r4iQRSuR2GlED5Brkfheoz8L0HsUbiebug+QbgehetHGypBPQrXYwcSP0EAAAAAAAD4fwAAAAAAAPh/9ihcD56PK0HD9SjcbYg/QXsUrgf88jtB4XoU7r4DOUGkcD2KB0IgQQAAAAAAAPh/CtejcA1sEkGamZmZOZ4YQTMzMzOjOhhBH4XrUQTpGUG4HoXL4idBQexRuJ7J3CVBuB6Fa4jLKUEzMzMzuCUqQSlcj0KvJjNB",
          "dtype": "f8"
         },
         "yaxis": "y"
        },
        {
         "marker": {
          "opacity": 0.6,
          "size": 4
         },
         "mode": "markers",
         "name": "Holiday_Flag",
         "type": "scatter",
         "x": {
          "bdata": "AAAAAAAA+H8AAAAAAAAAAAAAAAAAAAAAAAAAAAAAAAAAAAAAAAAAAAAAAAAAAAAAAAAAAAAAAAAAAAAAAAAAAAAAAAAAAAAAAAAAAAAAAAAAAAAAAAAAAAAAAAAAAAAAAAAAAAAAAAAAAAAAAAAAAAAAAAAAAAAAAAAAAAAA+H8AAAAAAAAAAAAAAAAAAAAAAAAAAAAAAAAAAAAAAAAAAAAAAAAAAAAAAAAAAAAAAAAAAAAAAAAAAAAAAAAAAAAAAAAAAAAAAAAAAAAAAAAAAAAAAAAAAAAAAAAAAAAAAAAAAAAAAAAAAAAAAAAAAAAAAAAAAAAAAAAAAAAAAADwPwAAAAAAAPA/AAAAAAAA8D8AAAAAAAAAAAAAAAAAAAAAAAAAAAAAAAAAAAAAAAAAAAAAAAAAAAAAAAAAAAAAAAAAAAAAAAAAAAAAAAAAAAAAAAAAAAAA8D8AAAAAAAD4fwAAAAAAAPA/AAAAAAAAAAAAAAAAAAAAAAAAAAAAAAAAAAAAAAAA+H8AAAAAAAAAAAAAAAAAAAAAAAAAAAAAAAAAAAAAAAAAAAAAAAAAAPh/AAAAAAAAAAAAAAAAAAAAAAAAAAAAAAAAAAAAAAAAAAAAAAAAAAAAAAAAAAAAAAAAAAAAAAAAAAAAAAAAAAAAAAAAAAAAAAAAAAAAAAAAAAAAAAAAAAAAAAAAAAAAAPh/AAAAAAAAAAAAAAAAAAAAAAAAAAAAAAAAAAAAAAAAAAAAAAAAAAAAAAAAAAAAAPA/AAAAAAAAAAAAAAAAAAD4fwAAAAAAAAAAAAAAAAAAAAAAAAAAAAAAAAAAAAAAAAAAAAAAAAAAAAAAAAAAAAAAAAAAAAAAAAAAAAAAAAAAAAAAAAAAAAAAAAAAAAAAAAAAAAAAAAAAAAAAAAAAAAAAAAAAAAAAAAAAAAAAAAAAAAAAAAAAAAAAAAAAAAAAAAAAAAAAAAAA+H8AAAAAAAAAAAAAAAAAAAAAAAAAAAAAAAAAAAAAAAAAAAAAAAAAAAAAAAAAAAAAAAAAAAAAAAAAAAAAAAAAAAAAAAAAAAAAAAAAAAAAAAAAAAAAAAAAAAAAAAAAAAAAAAAAAAAAAAAAAAAAAAAAAAAAAAAAAAAAAAAAAAAAAAAAAAAAAAAAAPA/AAAAAAAAAAAAAAAAAAD4fwAAAAAAAPA/AAAAAAAAAAAAAAAAAAAAAAAAAAAAAAAAAAAAAAAA8D8AAAAAAAAAAAAAAAAAAAAAAAAAAAAAAAAAAAAAAAD4fwAAAAAAAAAAAAAAAAAAAAAAAAAAAAAAAAAAAAAAAPA/AAAAAAAAAAAAAAAAAAAAAAAAAAAAAAAAAAAAAAAAAAAAAAAAAAAAAAAAAAAAAAAAAAAAAAAAAAAAAAAAAAAAAAAAAAAAAAAAAAAAAAAAAAAAAAAAAAAAAAAAAAAAAAAAAAAAAAAA8D8AAAAAAAD4fwAAAAAAAAAAAAAAAAAAAAAAAAAAAAAAAAAAAAAAAAAAAAAAAAAAAAAAAAAAAAAAAAAAAAAAAAAAAAAAAAAAAAAAAAAAAAAAAAAAAAAAAPh/AAAAAAAAAAAAAAAAAAAAAAAAAAAAAAAA",
          "dtype": "f8"
         },
         "xaxis": "x2",
         "y": {
          "bdata": "pHA9ihX9N0HhehRuuZQ7QQAAAAAAAPh/exSuB+b8MkGPwvWothc5QTMzM7P9VzxBFK5HYcg4JUGamZmZwc9AQRSuR6Ej10NBFK5H4bWRGUEAAAAAtVArQTMzMzPkay9BMzMzMzhGGUF7FK7HoJg5QaRwPYouTilBj8L1KODbNkEUrkehVXo+QQAAAIA7ZDJBKVyPQnCPQkEAAAAAAAD4f3sUrkfyHyFBpHA9CsjBEUEAAAAAn2MwQTMzM3NPxjVBCtejcE9wNUHhehSujBIsQa5H4Xo6bRZBKVyPwhSTGkFSuB6F1R8nQY/C9Wh1rDVBXI/C9cQpL0EAAAAAAAD4f6RwPYoJMiFB16NwPUiyP0HXo3D96UY8QQrXo/CEUzNBKVyPwgNLFkEK16Nw+ycuQbgehesYpT5BzczMzIoJE0Fcj8J1RFUtQR+F61F6ESBBSOF6VEdbOUEK16Pw1DkjQQrXo3DlDTlBMzMzs6poPEHsUbgeBGoQQeF6FK7aojdBAAAAwD/JOEE9CtejnZsdQT0K12PnDj9B16NwvYw/PUHsUbgePRUfQa5H4TqbrTxBpHA9yq+OO0Fcj8L1hjA8QfYoXI/hHytBAAAAAAAA+H97FK7HlGE3QdejcP3G1D5B4XoU7u/5P0FSuB4F414+QZqZmVn1xDNBmpmZmTggE0Fcj8KV4iRFQWZmZuaFKDpBmpmZ2SXLMUEUrkfh2CwcQcP1KFwTLC1BAAAAAAAA+H9cj8K1zjw4QQAAAAAAAPh/zczMLI7HQkG4HoXrthw2QVK4HsXkAjdB7FG43o8bPkFcj8J15mkhQQAAAAAAAPh/MzMzs5t9N0FmZmam9047QTMzMzM9uh9BcT0K15jsFUEK16PwR/M3QRSuR+HmiSJBAAAAAAAA+H+kcD3KYtM6QdejcD1VHi5BCtejcMVdGkHNzMyMjTc/QfYoXI9kbjtBmpmZmTSgHUGkcD0K/fEvQSlcj8IicxdBUrgeBdltLUEpXI/CCM89QQAAAIDrzDZBH4XrUWBBKkHD9ShcJzsSQfYoXE/s+jpBXI/CtQrMPkFmZmZmszgWQT0K1yNgdTtBKVyPQkuWMEHhehRuFJFBQc3MzMynmhlBXI/C9XvZNEEUrkeh5/k/Qc3MzMziWy5BpHA9ylorM0EAAAAAAAD4f6RwPco5djtBw/UoXL5nNkFSuB7FUTVAQVyPwjWWpDtBKVyPgjrQOkEAAACAzSokQdejcD3w6RtBAAAAAAAA+H+uR+F6x1AfQZqZmRkqdDxBMzMzs8eIKUHhehSuGMsQQZqZmRnpPiJBuB6Fq75eNkEUrkehUWQ2QRSuR+HbVxhBAAAAAAAA+H+PwvWo2r4iQRSuR2GlED5Brkfheoz8L0HsUbiebug+QbgehetHGypBPQrXYwcSP0EAAAAAAAD4fwAAAAAAAPh/9ihcD56PK0HD9SjcbYg/QXsUrgf88jtB4XoU7r4DOUGkcD2KB0IgQQAAAAAAAPh/CtejcA1sEkGamZmZOZ4YQTMzMzOjOhhBH4XrUQTpGUG4HoXL4idBQexRuJ7J3CVBuB6Fa4jLKUEzMzMzuCUqQSlcj0KvJjNB",
          "dtype": "f8"
         },
         "yaxis": "y2"
        },
        {
         "marker": {
          "opacity": 0.6,
          "size": 4
         },
         "mode": "markers",
         "name": "Temperature",
         "type": "scatter",
         "x": {
          "bdata": "rkfhehTOTUBxPQrXozBFQAAAAAAAAPh/FK5H4XokVUApXI/C9bhTQAAAAAAAAPh/MzMzMzNzUUDXo3A9CvdDQArXo3A9ij5Aj8L1KFwPTkB7FK5H4bpUQMP1KFyPAkpArkfhehROQkCPwvUoXC9QQClcj8L1CE5ACtejcD06UUD2KFyPwhVTQBSuR+F6VDVAcT0K16MQSUC4HoXrURhSQOF6FK5HIUNAuB6F61FYU0Bcj8L1KHxJQClcj8L1iENA4XoUrkdhSUApXI/C9WhGQK5H4XoU7klAmpmZmZn5RUBcj8L1KJxGQAAAAAAAAPh/mpmZmZkZUUAAAAAAAAD4fwrXo3A9yjJAAAAAAACAQkDNzMzMzOxVQOF6FK5HoUBAXI/C9SgMVEAAAAAAAAD4f2ZmZmZmdlRAexSuR+FaTkDXo3A9CjdJQAAAAAAAAPh/AAAAAAAA+H/NzMzMzMxMQOF6FK5HQUNAcT0K16NQS0A9CtejcJ1UQAAAAAAAkFBAmpmZmZnpVkCF61G4HiVIQK5H4XoUjk5AuB6F61HYTUDhehSuR0FVQOF6FK5H4URASOF6FK63VUDNzMzMzMxPQHsUrkfhulJAAAAAAAAA+H8AAAAAAAD4f83MzMzMbEJAAAAAAAAA+H+PwvUoXM9MQMP1KFyPYkpAexSuR+FKUUC4HoXrUThCQNejcD0Kt0VAexSuR+FqUkB7FK5H4dpGQMP1KFyPwlZAH4XrUbg+SUBmZmZmZmY7QNejcD0KF1NApHA9CtdjQkCuR+F6FE5VQK5H4XoU/lBAexSuR+HKUkD2KFyPwrVHQBSuR+F6BFZAAAAAAAAgT0BI4XoUrldRQHsUrkfh+khAAAAAAAAA+H/D9Shcj2JKQK5H4XoU/lNAKVyPwvUIU0C4HoXrUVhGQAAAAAAAAPh/XI/C9SjMUkCF61G4HuVDQHsUrkfhGlNAcT0K16OgU0AK16NwPTpRQAAAAAAAAPh/AAAAAAAA+H+uR+F6FJ5TQFK4HoXrsVJA4XoUrkfhSEBSuB6F6+FQQBSuR+F6lFZAFK5H4Xq0U0DhehSuR+FUQAAAAAAAYEdAAAAAAABwUUAzMzMzMzNFQM3MzMzMrFRAhetRuB41UkBSuB6F63FBQOxRuB6Fq0BASOF6FK5HUUDXo3A9CvdFQJqZmZmZ2TxAAAAAAAAA+H+4HoXrUdhDQHsUrkfhWkBAmpmZmZl5UUAAAAAAAAD4f2ZmZmZmpkNA9ihcj8I1RkCPwvUoXL9UQClcj8L1KEFAFK5H4XrUUkB7FK5H4VpWQOxRuB6F60xAAAAAAAAA+H9xPQrXoxBRQBSuR+F69E9APQrXo3BdVUCF61G4HuVOQM3MzMzM/FJAAAAAAABQUkAAAAAAAEBKQAAAAAAAAPh/9ihcj8K1VEBcj8L1KDxUQOxRuB6Fa1FAuB6F61HoVED2KFyPwiVVQFyPwvUoHFZAj8L1KFyPUkDNzMzMzExJQM3MzMzMrEpAj8L1KFwvT0DD9Shcj+JSQFK4HoXroVNAXI/C9ShcUkBI4XoUridSQD0K16NwvTRAUrgeheuRTEAzMzMzM4NVQJqZmZmZmUtA",
          "dtype": "f8"
         },
         "xaxis": "x3",
         "y": {
          "bdata": "pHA9ihX9N0HhehRuuZQ7QQAAAAAAAPh/exSuB+b8MkGPwvWothc5QTMzM7P9VzxBFK5HYcg4JUGamZmZwc9AQRSuR6Ej10NBFK5H4bWRGUEAAAAAtVArQTMzMzPkay9BMzMzMzhGGUF7FK7HoJg5QaRwPYouTilBj8L1KODbNkEUrkehVXo+QQAAAIA7ZDJBKVyPQnCPQkEAAAAAAAD4f3sUrkfyHyFBpHA9CsjBEUEAAAAAn2MwQTMzM3NPxjVBCtejcE9wNUHhehSujBIsQa5H4Xo6bRZBKVyPwhSTGkFSuB6F1R8nQY/C9Wh1rDVBXI/C9cQpL0EAAAAAAAD4f6RwPYoJMiFB16NwPUiyP0HXo3D96UY8QQrXo/CEUzNBKVyPwgNLFkEK16Nw+ycuQbgehesYpT5BzczMzIoJE0Fcj8J1RFUtQR+F61F6ESBBSOF6VEdbOUEK16Pw1DkjQQrXo3DlDTlBMzMzs6poPEHsUbgeBGoQQeF6FK7aojdBAAAAwD/JOEE9CtejnZsdQT0K12PnDj9B16NwvYw/PUHsUbgePRUfQa5H4TqbrTxBpHA9yq+OO0Fcj8L1hjA8QfYoXI/hHytBAAAAAAAA+H97FK7HlGE3QdejcP3G1D5B4XoU7u/5P0FSuB4F414+QZqZmVn1xDNBmpmZmTggE0Fcj8KV4iRFQWZmZuaFKDpBmpmZ2SXLMUEUrkfh2CwcQcP1KFwTLC1BAAAAAAAA+H9cj8K1zjw4QQAAAAAAAPh/zczMLI7HQkG4HoXrthw2QVK4HsXkAjdB7FG43o8bPkFcj8J15mkhQQAAAAAAAPh/MzMzs5t9N0FmZmam9047QTMzMzM9uh9BcT0K15jsFUEK16PwR/M3QRSuR+HmiSJBAAAAAAAA+H+kcD3KYtM6QdejcD1VHi5BCtejcMVdGkHNzMyMjTc/QfYoXI9kbjtBmpmZmTSgHUGkcD0K/fEvQSlcj8IicxdBUrgeBdltLUEpXI/CCM89QQAAAIDrzDZBH4XrUWBBKkHD9ShcJzsSQfYoXE/s+jpBXI/CtQrMPkFmZmZmszgWQT0K1yNgdTtBKVyPQkuWMEHhehRuFJFBQc3MzMynmhlBXI/C9XvZNEEUrkeh5/k/Qc3MzMziWy5BpHA9ylorM0EAAAAAAAD4f6RwPco5djtBw/UoXL5nNkFSuB7FUTVAQVyPwjWWpDtBKVyPgjrQOkEAAACAzSokQdejcD3w6RtBAAAAAAAA+H+uR+F6x1AfQZqZmRkqdDxBMzMzs8eIKUHhehSuGMsQQZqZmRnpPiJBuB6Fq75eNkEUrkehUWQ2QRSuR+HbVxhBAAAAAAAA+H+PwvWo2r4iQRSuR2GlED5Brkfheoz8L0HsUbiebug+QbgehetHGypBPQrXYwcSP0EAAAAAAAD4fwAAAAAAAPh/9ihcD56PK0HD9SjcbYg/QXsUrgf88jtB4XoU7r4DOUGkcD2KB0IgQQAAAAAAAPh/CtejcA1sEkGamZmZOZ4YQTMzMzOjOhhBH4XrUQTpGUG4HoXL4idBQexRuJ7J3CVBuB6Fa4jLKUEzMzMzuCUqQSlcj0KvJjNB",
          "dtype": "f8"
         },
         "yaxis": "y3"
        },
        {
         "marker": {
          "opacity": 0.6,
          "size": 4
         },
         "mode": "markers",
         "name": "Fuel_Price",
         "type": "scatter",
         "x": {
          "bdata": "XI/C9ShcCEB7FK5H4XoLQAAAAAAAAPh/AAAAAAAA+H/fT42XbhIGQD81XrpJDAZALbKd76dGEEBWDi2yne8MQKwcWmQ73whAcT0K16NwDEA730+Nl24MQKAaL90kBgdAiUFg5dAiDkCsHFpkO98NQG3n+6nx0gZAPQrXo3A9BkDNzMzMzMwGQOj7qfHSTQZAAAAAAAAA+H8K16NwPQoNQM3MzMzMzAVA/tR46SYxD0AEVg4tsh0QQE5iEFg5tAdA5dAi2/l+EEDHSzeJQWAOQEoMAiuHFgpAObTIdr6fDkBSuB6F61EHQMl2vp8aLwxAE4PAyqHFEEDVeOkmMQgJQG3n+6nx0ghAAAAAAAAA+H/Xo3A9CtcLQB1aZDvfTw5AI9v5fmq8C0Av3SQGgZUOQI/C9ShcjwxAx0s3iUFgCkBkO99PjRcQQBKDwMqhRQ1A16NwPQrXDUDhehSuR+ELQPyp8dJNYgRAcT0K16NwDEAfhetRuB4FQESLbOf7qQdARrbz/dR4DUAAAAAAAAAOQOf7qfHSTQ5Abef7qfHSBUDTTWIQWDkFQAAAAAAAAA1AhxbZzvdTDUDJdr6fGi8NQMHKoUW28wRA16NwPQrXB0AfhetRuB4FQI/C9Shcjw1AyXa+nxovEEB1kxgEVg4PQBfZzvdT4wlAjZduEoPADED+1HjpJjEJQLKd76fGSwpAvHSTGARWBkD6fmq8dJMEQM/3U+Olmw1AokW28/3UBkDpJjEIrBwJQH0/NV66SQ9A8KfGSzeJBkDByqFFtvMEQI2XbhKDwAxAEVg5tMh2BkAv3SQGgRUQQNv5fmq8dA1AEVg5tMh2CkAAAAAAAAD4f1+6SQwCKwZACtejcD0KDUAUrkfhehQMQC2yne+nxg9ABFYOLbKdBEADK4cW2c4HQPLSTWIQWA5AGy/dJAaBDUC28/3UeOkNQH0/NV66SQ5AiUFg5dAiBUAK16NwPQoNQLx0kxgEVgVADAIrhxZZEEAUrkfhehQOQKJFtvP91AZAAAAAAAAA+H8AAAAAAAD4fwAAAAAAAPh/UI2XbhKDBkB/arx0kxgFQAAAAAAAAPh/hetRuB6FDkDhehSuR+EGQPhT46WbxApA2/l+arx0B0AAAAAAAAD4f/yp8dJNYgRAc2iR7Xw/B0DdJAaBlUMJQDvfT42XbglALbKd76fGDUDpJjEIrBwEQAAAAAAAAPh/4XoUrkfhBUASg8DKoUUHQLByaJHtfA9Ac2iR7Xy/EEB/arx0kxgFQCUGgZVDiwlADi2yne+nBEDb+X5qvHQNQPhT46WbxAxAfT81XrpJDkAAAAAAAAD4fxFYObTIdgpAaJHtfD81DUDkpZvEILAFQAwCK4cW2QxAuB6F61G4DkAIrBxaZDsMQNrO91PjpQZAarx0kxgEDUAAAAAAAAD4f42XbhKDwAxAJzEIrBxaCECNl24Sg8ALQEw3iUFg5QhA2/l+arx0DkA730+Nl24OQAMrhxbZzgdAAAAAAAAA+H9I4XoUrkcKQKRwPQrXowVAjZduEoPADEA9CtejcD0GQNNNYhBYOQZA7nw/NV66BkC0yHa+nxoNQK5H4XoUrhBA",
          "dtype": "f8"
         },
         "xaxis": "x4",
         "y": {
          "bdata": "pHA9ihX9N0HhehRuuZQ7QQAAAAAAAPh/exSuB+b8MkGPwvWothc5QTMzM7P9VzxBFK5HYcg4JUGamZmZwc9AQRSuR6Ej10NBFK5H4bWRGUEAAAAAtVArQTMzMzPkay9BMzMzMzhGGUF7FK7HoJg5QaRwPYouTilBj8L1KODbNkEUrkehVXo+QQAAAIA7ZDJBKVyPQnCPQkEAAAAAAAD4f3sUrkfyHyFBpHA9CsjBEUEAAAAAn2MwQTMzM3NPxjVBCtejcE9wNUHhehSujBIsQa5H4Xo6bRZBKVyPwhSTGkFSuB6F1R8nQY/C9Wh1rDVBXI/C9cQpL0EAAAAAAAD4f6RwPYoJMiFB16NwPUiyP0HXo3D96UY8QQrXo/CEUzNBKVyPwgNLFkEK16Nw+ycuQbgehesYpT5BzczMzIoJE0Fcj8J1RFUtQR+F61F6ESBBSOF6VEdbOUEK16Pw1DkjQQrXo3DlDTlBMzMzs6poPEHsUbgeBGoQQeF6FK7aojdBAAAAwD/JOEE9CtejnZsdQT0K12PnDj9B16NwvYw/PUHsUbgePRUfQa5H4TqbrTxBpHA9yq+OO0Fcj8L1hjA8QfYoXI/hHytBAAAAAAAA+H97FK7HlGE3QdejcP3G1D5B4XoU7u/5P0FSuB4F414+QZqZmVn1xDNBmpmZmTggE0Fcj8KV4iRFQWZmZuaFKDpBmpmZ2SXLMUEUrkfh2CwcQcP1KFwTLC1BAAAAAAAA+H9cj8K1zjw4QQAAAAAAAPh/zczMLI7HQkG4HoXrthw2QVK4HsXkAjdB7FG43o8bPkFcj8J15mkhQQAAAAAAAPh/MzMzs5t9N0FmZmam9047QTMzMzM9uh9BcT0K15jsFUEK16PwR/M3QRSuR+HmiSJBAAAAAAAA+H+kcD3KYtM6QdejcD1VHi5BCtejcMVdGkHNzMyMjTc/QfYoXI9kbjtBmpmZmTSgHUGkcD0K/fEvQSlcj8IicxdBUrgeBdltLUEpXI/CCM89QQAAAIDrzDZBH4XrUWBBKkHD9ShcJzsSQfYoXE/s+jpBXI/CtQrMPkFmZmZmszgWQT0K1yNgdTtBKVyPQkuWMEHhehRuFJFBQc3MzMynmhlBXI/C9XvZNEEUrkeh5/k/Qc3MzMziWy5BpHA9ylorM0EAAAAAAAD4f6RwPco5djtBw/UoXL5nNkFSuB7FUTVAQVyPwjWWpDtBKVyPgjrQOkEAAACAzSokQdejcD3w6RtBAAAAAAAA+H+uR+F6x1AfQZqZmRkqdDxBMzMzs8eIKUHhehSuGMsQQZqZmRnpPiJBuB6Fq75eNkEUrkehUWQ2QRSuR+HbVxhBAAAAAAAA+H+PwvWo2r4iQRSuR2GlED5Brkfheoz8L0HsUbiebug+QbgehetHGypBPQrXYwcSP0EAAAAAAAD4fwAAAAAAAPh/9ihcD56PK0HD9SjcbYg/QXsUrgf88jtB4XoU7r4DOUGkcD2KB0IgQQAAAAAAAPh/CtejcA1sEkGamZmZOZ4YQTMzMzOjOhhBH4XrUQTpGUG4HoXL4idBQexRuJ7J3CVBuB6Fa4jLKUEzMzMzuCUqQSlcj0KvJjNB",
          "dtype": "f8"
         },
         "yaxis": "y4"
        },
        {
         "marker": {
          "opacity": 0.6,
          "size": 4
         },
         "mode": "markers",
         "name": "CPI",
         "type": "scatter",
         "x": {
          "bdata": "TswfeOHYakBA9+XMthNgQMH65M0GV2BAhopg0s7RakAmHeVgNo1qQG6+tiNBil9Awgk7e13bYEBkHvmDwaBqQAAAAAAAAPh/eh3MgTkEbEAXCVwNP2JrQNSnC2dtmGBAqWdBKG8aaECO23ksx6ZrQBDpt68Dj19AyqZc4Z18akAAAAAAAAD4f4duQJXkcGBAAAAAAAAA+H+olZ3ZCShsQJGA0eWNtmdAJhhzfBkRa0BseHqlLF1hQFVntcCee2BARUdy+Q9BYUArkmV3d2NgQAAAAAAAAPh/fPMbJpoaaEA5RUdy+aNfQLLgNDOpKGtATkti/2shYEBat+YzxYNrQKUPApdsnWhAAAAAAAAA+H+D4bd8v91qQMI5fgOuvmBAfSgsTLp3a0DNMP8y6chgQDJ3LSEfImBAtG4oIT1Sa0Ad1DTeTD9hQKX5vhMOxGhAMn7QaQzOa0DVKlX9JUxoQIdi4dq/Z2pA4fCCiNSIa0Driyn9qX1qQOMryyGzkGBABFq6gm3xakDf4jz3Oa1oQFcPTvqxXmBAQ5CDEiZ1akCIDFC/sNxqQCZWodzRH2dAmhNqPAdXYECwfbcvljBgQH+tAQD23WpA3E1LB0bMX0DS+Cqen5xqQIhNv5/1umdAGKGOff89Z0Bwj0pWqlRgQPL21nZJuF9ATVdmAJ4AbEBbJsPxvDxgQNxNSwdGzF9ATn0geaeTYEDtVXWgmM1qQEKQKFlzJmBAvtnmxnSGaUAAAAAAAAD4fw9XvbIB52pAXynLEMeyX0DO2hJeJ3JqQKVUeIaf7WtAU+8EVimSaUCJVpNMszJhQAAAAAAAAPh/Xo94aA5Ha0AAAAAAAAD4f5eA8z3+7WpAQ04EFuWta0DQbXgwWP1rQFXPk3z2+2BAK/nYXaDcakDJbDWQE2JqQI3As5gzYWBAXDV0WIYnbEBhn6XQHq9qQA2ap4Tx5GpAhXOyeQHVakAAAAAAAAD4fyu5Lwx91mpA9Vd+z/4hYEAswgO5ekRnQCMK0jHMSmpAPMZw0PnXakAoSGx3D15qQBzr4jYaiF9Am+Ydp+iIX0Axm1t8JdlqQKGgFK1ca2tASnuDL0zuYEBfKcsQx7JfQNlcNc/RKWxAJRu0/CWTYEAAAAAAAAD4f7qT46ni02pARfRr62eJYECmeWxwx15rQEANKVCVlGlAl5APejZFYUASnzvBPl5qQGHm8WrvSGBAkSxgAvfhakCq8dJNYnRgQOyhfawgt2hAsp3vp8Y7YUD8sDliiOBqQDqANFIl02ZAVlbkIR3cakACazBofAFrQDAx8aIKw2hA9qOXBx/wakC2HENbKd5gQAcA2MqVtGtAxuHMr6Zaa0BStBd2vbBnQEKQKFlzJmBAmQF4VfFFYUBf1VktcFpgQNB1hk70ol9AlEJqJNMkYEC8q8N2HHNqQJafCm6aIWxAYnDeSVWHX0CamZmZmSNgQDcSDfc2iF9AN97CX3gga0DOaFDZ1bJoQOTABp9B1mpA4rmt4+6RakAAAAAAAAD4f3GjEujdz2pAaz2NxQBfbEAwM8dNKM5mQAAAAAAAAPh/VhQKbCmHX0D77NukPWBrQNoQLcOJPWFA",
          "dtype": "f8"
         },
         "xaxis": "x5",
         "y": {
          "bdata": "pHA9ihX9N0HhehRuuZQ7QQAAAAAAAPh/exSuB+b8MkGPwvWothc5QTMzM7P9VzxBFK5HYcg4JUGamZmZwc9AQRSuR6Ej10NBFK5H4bWRGUEAAAAAtVArQTMzMzPkay9BMzMzMzhGGUF7FK7HoJg5QaRwPYouTilBj8L1KODbNkEUrkehVXo+QQAAAIA7ZDJBKVyPQnCPQkEAAAAAAAD4f3sUrkfyHyFBpHA9CsjBEUEAAAAAn2MwQTMzM3NPxjVBCtejcE9wNUHhehSujBIsQa5H4Xo6bRZBKVyPwhSTGkFSuB6F1R8nQY/C9Wh1rDVBXI/C9cQpL0EAAAAAAAD4f6RwPYoJMiFB16NwPUiyP0HXo3D96UY8QQrXo/CEUzNBKVyPwgNLFkEK16Nw+ycuQbgehesYpT5BzczMzIoJE0Fcj8J1RFUtQR+F61F6ESBBSOF6VEdbOUEK16Pw1DkjQQrXo3DlDTlBMzMzs6poPEHsUbgeBGoQQeF6FK7aojdBAAAAwD/JOEE9CtejnZsdQT0K12PnDj9B16NwvYw/PUHsUbgePRUfQa5H4TqbrTxBpHA9yq+OO0Fcj8L1hjA8QfYoXI/hHytBAAAAAAAA+H97FK7HlGE3QdejcP3G1D5B4XoU7u/5P0FSuB4F414+QZqZmVn1xDNBmpmZmTggE0Fcj8KV4iRFQWZmZuaFKDpBmpmZ2SXLMUEUrkfh2CwcQcP1KFwTLC1BAAAAAAAA+H9cj8K1zjw4QQAAAAAAAPh/zczMLI7HQkG4HoXrthw2QVK4HsXkAjdB7FG43o8bPkFcj8J15mkhQQAAAAAAAPh/MzMzs5t9N0FmZmam9047QTMzMzM9uh9BcT0K15jsFUEK16PwR/M3QRSuR+HmiSJBAAAAAAAA+H+kcD3KYtM6QdejcD1VHi5BCtejcMVdGkHNzMyMjTc/QfYoXI9kbjtBmpmZmTSgHUGkcD0K/fEvQSlcj8IicxdBUrgeBdltLUEpXI/CCM89QQAAAIDrzDZBH4XrUWBBKkHD9ShcJzsSQfYoXE/s+jpBXI/CtQrMPkFmZmZmszgWQT0K1yNgdTtBKVyPQkuWMEHhehRuFJFBQc3MzMynmhlBXI/C9XvZNEEUrkeh5/k/Qc3MzMziWy5BpHA9ylorM0EAAAAAAAD4f6RwPco5djtBw/UoXL5nNkFSuB7FUTVAQVyPwjWWpDtBKVyPgjrQOkEAAACAzSokQdejcD3w6RtBAAAAAAAA+H+uR+F6x1AfQZqZmRkqdDxBMzMzs8eIKUHhehSuGMsQQZqZmRnpPiJBuB6Fq75eNkEUrkehUWQ2QRSuR+HbVxhBAAAAAAAA+H+PwvWo2r4iQRSuR2GlED5Brkfheoz8L0HsUbiebug+QbgehetHGypBPQrXYwcSP0EAAAAAAAD4fwAAAAAAAPh/9ihcD56PK0HD9SjcbYg/QXsUrgf88jtB4XoU7r4DOUGkcD2KB0IgQQAAAAAAAPh/CtejcA1sEkGamZmZOZ4YQTMzMzOjOhhBH4XrUQTpGUG4HoXL4idBQexRuJ7J3CVBuB6Fa4jLKUEzMzMzuCUqQSlcj0KvJjNB",
          "dtype": "f8"
         },
         "yaxis": "y5"
        },
        {
         "marker": {
          "opacity": 0.6,
          "size": 4
         },
         "mode": "markers",
         "name": "Unemployment",
         "type": "scatter",
         "x": {
          "bdata": "O99PjZduG0DhehSuR+EdQFg5tMh2vhdA/Knx0k1iHUCS7Xw/NV4cQC/dJAaBlR9AbRKDwMqhHkDy0k1iENgbQAAAAAAAAPh/oEW28/1UG0AzMzMzM7MZQLbz/dR4qSJAcT0K16MwIUAxCKwcWmQdQArXo3A9ihtAku18PzVeHEDn+6nx0s0fQIGVQ4tsZyJA3SQGgZXDHUAOLbKd76caQJMYBFYO7SFA2/l+arz0GUAj2/l+anwgQDMzMzMzsyBAzczMzMxMIEDP91PjpRsWQKBFtvP9VBtAQmDl0CJbGUAK16NwPYoaQDMzMzMzsxtARrbz/dR4K0AzMzMzMzMZQFCNl24SgyBADAIrhxbZIEAAAAAAAAD4fy/dJAaBFR9A+FPjpZtEHkAzMzMzM/MhQGQQWDm0yBdAMzMzMzMzGUDP91PjpZsgQFg5tMh2PhhAbxKDwMqhG0BYObTIdj4hQIPAyqFFNiBA7nw/NV46HECWQ4ts5/sZQKabxCCwMiBADgIrhxbZH0DazvdT46UYQFyPwvUo3BdA+n5qvHRTIEAAAAAAAAD4fwwCK4cWGSFArkfhehSuHEA3XrpJDIIbQMP1KFyPQhlACtejcD0KGkAxCKwcWuQbQAwCK4cW2SBAmG4Sg8AKIUCuR+F6FC4eQMdLN4lBoCxA5aWbxCCwFUDfT42XbpIUQLByaJHtfCFAyXa+nxqvIkBEtvP91HgdQKjGSzeJAStAOrTIdr5fIEC28/3UeKkiQAAAAAAAAPh/rkfhehQuH0DazvdT4yUfQAAAAAAAAPh/BoGVQ4tsH0ASg8DKocUfQPhT46WbRB5AEFg5tMh2H0DP91PjpRseQD0K16NwPRpAEoPAyqHFF0CgRbbz/VQbQNNNYhBYOR9Aw/UoXI9CGUB0kxgEVg4gQHE9Ctej8BhADi2yne+nGkDy0k1iENgbQNNNYhBYuR9A+FPjpZvEGUBYObTIdr4XQAAAAAAAAPh/Rrbz/dR4K0AAAAAAAEAhQAisHFpkOx9AGQRWDi0yGUAAAAAAAAD4fz81XrpJDCNA5/up8dLNH0CsHFpkO18dQO58PzVeOhxASOF6FK7HIUA3XrpJDIIcQA4tsp3vpxpAppvEILAyIECWQ4ts5/shQBkEVg4tMhlAAAAAAAAA+H8QWDm0yHYfQFYOLbKd7x1AzczMzMxMIEAAAAAAAAD4f9Ei2/l+ahhAqMZLN4lBHkAAAAAAAAD4f65H4XoULiBAzczMzMxMIEDwp8ZLN4kZQAAAAAAAAPh/w/UoXI9CGUAEVg4tsh0aQLFyaJHtfB9A7nw/NV66HkBtEoPAyqEeQH0/NV66yRxAMzMzMzOzGUBFtvP91HgbQDdeukkMghtAUrgehesRIUDRItv5fmoYQAAAAAAAAPh/+n5qvHSTFkDazvdT4yUfQDeJQWDlUBVAXI/C9ShcLED6fmq8dJMWQNnO91PjZSJA7FG4HoVrG0CuR+F6FC4gQE5iEFg5NB5A30+Nl24SG0B9PzVeuskcQKwcWmQ7Xx1AiUFg5dAiGEA/NV66ScwhQAAAAAAAAPh/AAAAAAAA+H8AAAAAAAD4f83MzMzMTCBA",
          "dtype": "f8"
         },
         "xaxis": "x6",
         "y": {
          "bdata": "pHA9ihX9N0HhehRuuZQ7QQAAAAAAAPh/exSuB+b8MkGPwvWothc5QTMzM7P9VzxBFK5HYcg4JUGamZmZwc9AQRSuR6Ej10NBFK5H4bWRGUEAAAAAtVArQTMzMzPkay9BMzMzMzhGGUF7FK7HoJg5QaRwPYouTilBj8L1KODbNkEUrkehVXo+QQAAAIA7ZDJBKVyPQnCPQkEAAAAAAAD4f3sUrkfyHyFBpHA9CsjBEUEAAAAAn2MwQTMzM3NPxjVBCtejcE9wNUHhehSujBIsQa5H4Xo6bRZBKVyPwhSTGkFSuB6F1R8nQY/C9Wh1rDVBXI/C9cQpL0EAAAAAAAD4f6RwPYoJMiFB16NwPUiyP0HXo3D96UY8QQrXo/CEUzNBKVyPwgNLFkEK16Nw+ycuQbgehesYpT5BzczMzIoJE0Fcj8J1RFUtQR+F61F6ESBBSOF6VEdbOUEK16Pw1DkjQQrXo3DlDTlBMzMzs6poPEHsUbgeBGoQQeF6FK7aojdBAAAAwD/JOEE9CtejnZsdQT0K12PnDj9B16NwvYw/PUHsUbgePRUfQa5H4TqbrTxBpHA9yq+OO0Fcj8L1hjA8QfYoXI/hHytBAAAAAAAA+H97FK7HlGE3QdejcP3G1D5B4XoU7u/5P0FSuB4F414+QZqZmVn1xDNBmpmZmTggE0Fcj8KV4iRFQWZmZuaFKDpBmpmZ2SXLMUEUrkfh2CwcQcP1KFwTLC1BAAAAAAAA+H9cj8K1zjw4QQAAAAAAAPh/zczMLI7HQkG4HoXrthw2QVK4HsXkAjdB7FG43o8bPkFcj8J15mkhQQAAAAAAAPh/MzMzs5t9N0FmZmam9047QTMzMzM9uh9BcT0K15jsFUEK16PwR/M3QRSuR+HmiSJBAAAAAAAA+H+kcD3KYtM6QdejcD1VHi5BCtejcMVdGkHNzMyMjTc/QfYoXI9kbjtBmpmZmTSgHUGkcD0K/fEvQSlcj8IicxdBUrgeBdltLUEpXI/CCM89QQAAAIDrzDZBH4XrUWBBKkHD9ShcJzsSQfYoXE/s+jpBXI/CtQrMPkFmZmZmszgWQT0K1yNgdTtBKVyPQkuWMEHhehRuFJFBQc3MzMynmhlBXI/C9XvZNEEUrkeh5/k/Qc3MzMziWy5BpHA9ylorM0EAAAAAAAD4f6RwPco5djtBw/UoXL5nNkFSuB7FUTVAQVyPwjWWpDtBKVyPgjrQOkEAAACAzSokQdejcD3w6RtBAAAAAAAA+H+uR+F6x1AfQZqZmRkqdDxBMzMzs8eIKUHhehSuGMsQQZqZmRnpPiJBuB6Fq75eNkEUrkehUWQ2QRSuR+HbVxhBAAAAAAAA+H+PwvWo2r4iQRSuR2GlED5Brkfheoz8L0HsUbiebug+QbgehetHGypBPQrXYwcSP0EAAAAAAAD4fwAAAAAAAPh/9ihcD56PK0HD9SjcbYg/QXsUrgf88jtB4XoU7r4DOUGkcD2KB0IgQQAAAAAAAPh/CtejcA1sEkGamZmZOZ4YQTMzMzOjOhhBH4XrUQTpGUG4HoXL4idBQexRuJ7J3CVBuB6Fa4jLKUEzMzMzuCUqQSlcj0KvJjNB",
          "dtype": "f8"
         },
         "yaxis": "y6"
        },
        {
         "marker": {
          "opacity": 0.6,
          "size": 4
         },
         "mode": "markers",
         "name": "Month",
         "type": "scatter",
         "x": {
          "bdata": "AAAAAAAAAEAAAAAAAAAIQAAAAAAAABxAAAAAAAAA+H8AAAAAAAAUQAAAAAAAABRAAAAAAAAAGEAAAAAAAAAAQAAAAAAAAChAAAAAAAAA+H8AAAAAAAAgQAAAAAAAACRAAAAAAAAAFEAAAAAAAAAIQAAAAAAAACRAAAAAAAAAEEAAAAAAAAAgQAAAAAAAAPh/AAAAAAAAKEAAAAAAAAAUQAAAAAAAABBAAAAAAAAAFEAAAAAAAAAkQAAAAAAAAAhAAAAAAAAAFEAAAAAAAAAkQAAAAAAAAPA/AAAAAAAAFEAAAAAAAAAQQAAAAAAAACBAAAAAAAAAFEAAAAAAAAAoQAAAAAAAAABAAAAAAAAAAEAAAAAAAAD4fwAAAAAAAAhAAAAAAAAAIkAAAAAAAAAQQAAAAAAAABhAAAAAAAAAJkAAAAAAAAAQQAAAAAAAACJAAAAAAAAA+H8AAAAAAAAgQAAAAAAAAABAAAAAAAAAAEAAAAAAAAAcQAAAAAAAABxAAAAAAAAAIEAAAAAAAAAIQAAAAAAAABhAAAAAAAAAJkAAAAAAAAAYQAAAAAAAAAhAAAAAAAAAHEAAAAAAAAAiQAAAAAAAACBAAAAAAAAA8D8AAAAAAAAcQAAAAAAAAABAAAAAAAAAFEAAAAAAAAAIQAAAAAAAAChAAAAAAAAAJEAAAAAAAAAoQAAAAAAAAPh/AAAAAAAAIEAAAAAAAAAAQAAAAAAAACBAAAAAAAAACEAAAAAAAAAoQAAAAAAAACJAAAAAAAAAKEAAAAAAAAAgQAAAAAAAACRAAAAAAAAAGEAAAAAAAAAIQAAAAAAAABxAAAAAAAAAJkAAAAAAAAAiQAAAAAAAACZAAAAAAAAA+H8AAAAAAAD4fwAAAAAAAPh/AAAAAAAAIkAAAAAAAADwPwAAAAAAAPh/AAAAAAAAFEAAAAAAAAD4fwAAAAAAAPh/AAAAAAAAHEAAAAAAAAD4fwAAAAAAAPh/AAAAAAAAFEAAAAAAAAAcQAAAAAAAABRAAAAAAAAACEAAAAAAAAAQQAAAAAAAABhAAAAAAAAAHEAAAAAAAAAYQAAAAAAAAPA/AAAAAAAA+H8AAAAAAAAoQAAAAAAAABhAAAAAAAAAHEAAAAAAAAAAQAAAAAAAAABAAAAAAAAAFEAAAAAAAAAoQAAAAAAAAChAAAAAAAAAGEAAAAAAAAAAQAAAAAAAAPA/AAAAAAAAJkAAAAAAAAAAQAAAAAAAABBAAAAAAAAAEEAAAAAAAAAYQAAAAAAAAPA/AAAAAAAAIkAAAAAAAAAcQAAAAAAAACJAAAAAAAAAFEAAAAAAAAAYQAAAAAAAACZAAAAAAAAAHEAAAAAAAAAcQAAAAAAAACBAAAAAAAAA+H8AAAAAAAAIQAAAAAAAACZAAAAAAAAAHEAAAAAAAAAiQAAAAAAAACRAAAAAAAAAIkAAAAAAAAAcQAAAAAAAAPh/AAAAAAAAEEAAAAAAAAAUQAAAAAAAAPA/AAAAAAAAJkAAAAAAAAAkQAAAAAAAABhAAAAAAAAAJEAAAAAAAAAYQAAAAAAAAPh/AAAAAAAAGEAAAAAAAAAgQAAAAAAAABBA",
          "dtype": "f8"
         },
         "xaxis": "x7",
         "y": {
          "bdata": "pHA9ihX9N0HhehRuuZQ7QQAAAAAAAPh/exSuB+b8MkGPwvWothc5QTMzM7P9VzxBFK5HYcg4JUGamZmZwc9AQRSuR6Ej10NBFK5H4bWRGUEAAAAAtVArQTMzMzPkay9BMzMzMzhGGUF7FK7HoJg5QaRwPYouTilBj8L1KODbNkEUrkehVXo+QQAAAIA7ZDJBKVyPQnCPQkEAAAAAAAD4f3sUrkfyHyFBpHA9CsjBEUEAAAAAn2MwQTMzM3NPxjVBCtejcE9wNUHhehSujBIsQa5H4Xo6bRZBKVyPwhSTGkFSuB6F1R8nQY/C9Wh1rDVBXI/C9cQpL0EAAAAAAAD4f6RwPYoJMiFB16NwPUiyP0HXo3D96UY8QQrXo/CEUzNBKVyPwgNLFkEK16Nw+ycuQbgehesYpT5BzczMzIoJE0Fcj8J1RFUtQR+F61F6ESBBSOF6VEdbOUEK16Pw1DkjQQrXo3DlDTlBMzMzs6poPEHsUbgeBGoQQeF6FK7aojdBAAAAwD/JOEE9CtejnZsdQT0K12PnDj9B16NwvYw/PUHsUbgePRUfQa5H4TqbrTxBpHA9yq+OO0Fcj8L1hjA8QfYoXI/hHytBAAAAAAAA+H97FK7HlGE3QdejcP3G1D5B4XoU7u/5P0FSuB4F414+QZqZmVn1xDNBmpmZmTggE0Fcj8KV4iRFQWZmZuaFKDpBmpmZ2SXLMUEUrkfh2CwcQcP1KFwTLC1BAAAAAAAA+H9cj8K1zjw4QQAAAAAAAPh/zczMLI7HQkG4HoXrthw2QVK4HsXkAjdB7FG43o8bPkFcj8J15mkhQQAAAAAAAPh/MzMzs5t9N0FmZmam9047QTMzMzM9uh9BcT0K15jsFUEK16PwR/M3QRSuR+HmiSJBAAAAAAAA+H+kcD3KYtM6QdejcD1VHi5BCtejcMVdGkHNzMyMjTc/QfYoXI9kbjtBmpmZmTSgHUGkcD0K/fEvQSlcj8IicxdBUrgeBdltLUEpXI/CCM89QQAAAIDrzDZBH4XrUWBBKkHD9ShcJzsSQfYoXE/s+jpBXI/CtQrMPkFmZmZmszgWQT0K1yNgdTtBKVyPQkuWMEHhehRuFJFBQc3MzMynmhlBXI/C9XvZNEEUrkeh5/k/Qc3MzMziWy5BpHA9ylorM0EAAAAAAAD4f6RwPco5djtBw/UoXL5nNkFSuB7FUTVAQVyPwjWWpDtBKVyPgjrQOkEAAACAzSokQdejcD3w6RtBAAAAAAAA+H+uR+F6x1AfQZqZmRkqdDxBMzMzs8eIKUHhehSuGMsQQZqZmRnpPiJBuB6Fq75eNkEUrkehUWQ2QRSuR+HbVxhBAAAAAAAA+H+PwvWo2r4iQRSuR2GlED5Brkfheoz8L0HsUbiebug+QbgehetHGypBPQrXYwcSP0EAAAAAAAD4fwAAAAAAAPh/9ihcD56PK0HD9SjcbYg/QXsUrgf88jtB4XoU7r4DOUGkcD2KB0IgQQAAAAAAAPh/CtejcA1sEkGamZmZOZ4YQTMzMzOjOhhBH4XrUQTpGUG4HoXL4idBQexRuJ7J3CVBuB6Fa4jLKUEzMzMzuCUqQSlcj0KvJjNB",
          "dtype": "f8"
         },
         "yaxis": "y7"
        },
        {
         "marker": {
          "opacity": 0.6,
          "size": 4
         },
         "mode": "markers",
         "name": "Year",
         "type": "scatter",
         "x": {
          "bdata": "AAAAAABsn0AAAAAAAGyfQAAAAAAAcJ9AAAAAAAAA+H8AAAAAAGifQAAAAAAAaJ9AAAAAAABsn0AAAAAAAHCfQAAAAAAAaJ9AAAAAAAAA+H8AAAAAAGyfQAAAAAAAaJ9AAAAAAABsn0AAAAAAAHCfQAAAAAAAaJ9AAAAAAABon0AAAAAAAGifQAAAAAAAAPh/AAAAAABsn0AAAAAAAHCfQAAAAAAAaJ9AAAAAAABsn0AAAAAAAHCfQAAAAAAAaJ9AAAAAAABwn0AAAAAAAHCfQAAAAAAAcJ9AAAAAAABsn0AAAAAAAGifQAAAAAAAbJ9AAAAAAABsn0AAAAAAAGyfQAAAAAAAcJ9AAAAAAABwn0AAAAAAAAD4fwAAAAAAbJ9AAAAAAABsn0AAAAAAAGyfQAAAAAAAbJ9AAAAAAABsn0AAAAAAAHCfQAAAAAAAcJ9AAAAAAAAA+H8AAAAAAGyfQAAAAAAAaJ9AAAAAAABwn0AAAAAAAGifQAAAAAAAaJ9AAAAAAABsn0AAAAAAAHCfQAAAAAAAcJ9AAAAAAABon0AAAAAAAGifQAAAAAAAbJ9AAAAAAABwn0AAAAAAAGyfQAAAAAAAaJ9AAAAAAABsn0AAAAAAAGifQAAAAAAAcJ9AAAAAAABsn0AAAAAAAHCfQAAAAAAAaJ9AAAAAAABwn0AAAAAAAGyfQAAAAAAAAPh/AAAAAABon0AAAAAAAGifQAAAAAAAbJ9AAAAAAABon0AAAAAAAGifQAAAAAAAcJ9AAAAAAABon0AAAAAAAGifQAAAAAAAcJ9AAAAAAABon0AAAAAAAHCfQAAAAAAAbJ9AAAAAAABsn0AAAAAAAGifQAAAAAAAaJ9AAAAAAAAA+H8AAAAAAAD4fwAAAAAAAPh/AAAAAABon0AAAAAAAGyfQAAAAAAAAPh/AAAAAABwn0AAAAAAAAD4fwAAAAAAAPh/AAAAAABon0AAAAAAAAD4fwAAAAAAAPh/AAAAAABsn0AAAAAAAGyfQAAAAAAAaJ9AAAAAAABon0AAAAAAAGifQAAAAAAAaJ9AAAAAAABon0AAAAAAAGifQAAAAAAAcJ9AAAAAAAAA+H8AAAAAAGifQAAAAAAAcJ9AAAAAAABon0AAAAAAAGifQAAAAAAAaJ9AAAAAAABon0AAAAAAAGyfQAAAAAAAaJ9AAAAAAABwn0AAAAAAAGifQAAAAAAAcJ9AAAAAAABon0AAAAAAAGifQAAAAAAAcJ9AAAAAAABwn0AAAAAAAGifQAAAAAAAbJ9AAAAAAABon0AAAAAAAGyfQAAAAAAAcJ9AAAAAAABsn0AAAAAAAGyfQAAAAAAAbJ9AAAAAAABsn0AAAAAAAGifQAAAAAAAbJ9AAAAAAAAA+H8AAAAAAHCfQAAAAAAAaJ9AAAAAAABsn0AAAAAAAGifQAAAAAAAcJ9AAAAAAABon0AAAAAAAGyfQAAAAAAAAPh/AAAAAABsn0AAAAAAAHCfQAAAAAAAbJ9AAAAAAABon0AAAAAAAGyfQAAAAAAAaJ9AAAAAAABwn0AAAAAAAGifQAAAAAAAAPh/AAAAAABon0AAAAAAAGyfQAAAAAAAcJ9A",
          "dtype": "f8"
         },
         "xaxis": "x8",
         "y": {
          "bdata": "pHA9ihX9N0HhehRuuZQ7QQAAAAAAAPh/exSuB+b8MkGPwvWothc5QTMzM7P9VzxBFK5HYcg4JUGamZmZwc9AQRSuR6Ej10NBFK5H4bWRGUEAAAAAtVArQTMzMzPkay9BMzMzMzhGGUF7FK7HoJg5QaRwPYouTilBj8L1KODbNkEUrkehVXo+QQAAAIA7ZDJBKVyPQnCPQkEAAAAAAAD4f3sUrkfyHyFBpHA9CsjBEUEAAAAAn2MwQTMzM3NPxjVBCtejcE9wNUHhehSujBIsQa5H4Xo6bRZBKVyPwhSTGkFSuB6F1R8nQY/C9Wh1rDVBXI/C9cQpL0EAAAAAAAD4f6RwPYoJMiFB16NwPUiyP0HXo3D96UY8QQrXo/CEUzNBKVyPwgNLFkEK16Nw+ycuQbgehesYpT5BzczMzIoJE0Fcj8J1RFUtQR+F61F6ESBBSOF6VEdbOUEK16Pw1DkjQQrXo3DlDTlBMzMzs6poPEHsUbgeBGoQQeF6FK7aojdBAAAAwD/JOEE9CtejnZsdQT0K12PnDj9B16NwvYw/PUHsUbgePRUfQa5H4TqbrTxBpHA9yq+OO0Fcj8L1hjA8QfYoXI/hHytBAAAAAAAA+H97FK7HlGE3QdejcP3G1D5B4XoU7u/5P0FSuB4F414+QZqZmVn1xDNBmpmZmTggE0Fcj8KV4iRFQWZmZuaFKDpBmpmZ2SXLMUEUrkfh2CwcQcP1KFwTLC1BAAAAAAAA+H9cj8K1zjw4QQAAAAAAAPh/zczMLI7HQkG4HoXrthw2QVK4HsXkAjdB7FG43o8bPkFcj8J15mkhQQAAAAAAAPh/MzMzs5t9N0FmZmam9047QTMzMzM9uh9BcT0K15jsFUEK16PwR/M3QRSuR+HmiSJBAAAAAAAA+H+kcD3KYtM6QdejcD1VHi5BCtejcMVdGkHNzMyMjTc/QfYoXI9kbjtBmpmZmTSgHUGkcD0K/fEvQSlcj8IicxdBUrgeBdltLUEpXI/CCM89QQAAAIDrzDZBH4XrUWBBKkHD9ShcJzsSQfYoXE/s+jpBXI/CtQrMPkFmZmZmszgWQT0K1yNgdTtBKVyPQkuWMEHhehRuFJFBQc3MzMynmhlBXI/C9XvZNEEUrkeh5/k/Qc3MzMziWy5BpHA9ylorM0EAAAAAAAD4f6RwPco5djtBw/UoXL5nNkFSuB7FUTVAQVyPwjWWpDtBKVyPgjrQOkEAAACAzSokQdejcD3w6RtBAAAAAAAA+H+uR+F6x1AfQZqZmRkqdDxBMzMzs8eIKUHhehSuGMsQQZqZmRnpPiJBuB6Fq75eNkEUrkehUWQ2QRSuR+HbVxhBAAAAAAAA+H+PwvWo2r4iQRSuR2GlED5Brkfheoz8L0HsUbiebug+QbgehetHGypBPQrXYwcSP0EAAAAAAAD4fwAAAAAAAPh/9ihcD56PK0HD9SjcbYg/QXsUrgf88jtB4XoU7r4DOUGkcD2KB0IgQQAAAAAAAPh/CtejcA1sEkGamZmZOZ4YQTMzMzOjOhhBH4XrUQTpGUG4HoXL4idBQexRuJ7J3CVBuB6Fa4jLKUEzMzMzuCUqQSlcj0KvJjNB",
          "dtype": "f8"
         },
         "yaxis": "y8"
        },
        {
         "marker": {
          "opacity": 0.6,
          "size": 4
         },
         "mode": "markers",
         "name": "week",
         "type": "scatter",
         "x": {
          "bdata": "AAAAAAAACEAAAAAAAAAQQAAAAAAAABBAAAAAAAAA+H8AAAAAAAAQQAAAAAAAABBAAAAAAAAA8D8AAAAAAADwPwAAAAAAAABAAAAAAAAA+H8AAAAAAAAIQAAAAAAAAAhAAAAAAAAAAEAAAAAAAAAIQAAAAAAAAPA/AAAAAAAAFEAAAAAAAAAIQAAAAAAAAPh/AAAAAAAACEAAAAAAAAAIQAAAAAAAAPA/AAAAAAAAAEAAAAAAAAAAQAAAAAAAABBAAAAAAAAA8D8AAAAAAAAAQAAAAAAAAABAAAAAAAAACEAAAAAAAAAIQAAAAAAAABBAAAAAAAAA8D8AAAAAAAAUQAAAAAAAAABAAAAAAAAAAEAAAAAAAAD4fwAAAAAAABBAAAAAAAAAEEAAAAAAAAAIQAAAAAAAABBAAAAAAAAAAEAAAAAAAAAQQAAAAAAAAABAAAAAAAAA+H8AAAAAAAAQQAAAAAAAAABAAAAAAAAAEEAAAAAAAAAUQAAAAAAAAPA/AAAAAAAA8D8AAAAAAAAUQAAAAAAAAPA/AAAAAAAAAEAAAAAAAAAQQAAAAAAAABBAAAAAAAAA8D8AAAAAAAAQQAAAAAAAABBAAAAAAAAA8D8AAAAAAAAUQAAAAAAAAAhAAAAAAAAA8D8AAAAAAADwPwAAAAAAAAhAAAAAAAAACEAAAAAAAAAIQAAAAAAAAPh/AAAAAAAA8D8AAAAAAADwPwAAAAAAAABAAAAAAAAAEEAAAAAAAAAIQAAAAAAAAPA/AAAAAAAAAEAAAAAAAAAQQAAAAAAAAAhAAAAAAAAAEEAAAAAAAAAIQAAAAAAAABRAAAAAAAAACEAAAAAAAAAQQAAAAAAAAAhAAAAAAAAA+H8AAAAAAAD4fwAAAAAAAPh/AAAAAAAA8D8AAAAAAADwPwAAAAAAAPh/AAAAAAAAAEAAAAAAAAD4fwAAAAAAAPh/AAAAAAAAAEAAAAAAAAD4fwAAAAAAAPh/AAAAAAAAEEAAAAAAAAAIQAAAAAAAAABAAAAAAAAAAEAAAAAAAAAUQAAAAAAAABBAAAAAAAAA8D8AAAAAAAAIQAAAAAAAAPA/AAAAAAAA+H8AAAAAAAAAQAAAAAAAABBAAAAAAAAAFEAAAAAAAAAQQAAAAAAAAABAAAAAAAAAEEAAAAAAAAAAQAAAAAAAABRAAAAAAAAAEEAAAAAAAAAIQAAAAAAAAAhAAAAAAAAAEEAAAAAAAAAIQAAAAAAAAAhAAAAAAAAAAEAAAAAAAAAIQAAAAAAAAPA/AAAAAAAACEAAAAAAAAAUQAAAAAAAAPA/AAAAAAAAEEAAAAAAAAAAQAAAAAAAAAhAAAAAAAAAEEAAAAAAAAAAQAAAAAAAAABAAAAAAAAA+H8AAAAAAAAIQAAAAAAAAABAAAAAAAAAEEAAAAAAAAAQQAAAAAAAAAhAAAAAAAAAAEAAAAAAAAAAQAAAAAAAAPh/AAAAAAAAEEAAAAAAAAAQQAAAAAAAAPA/AAAAAAAAAEAAAAAAAADwPwAAAAAAAPA/AAAAAAAACEAAAAAAAAAIQAAAAAAAAPh/AAAAAAAAAEAAAAAAAAAAQAAAAAAAAAhA",
          "dtype": "f8"
         },
         "xaxis": "x9",
         "y": {
          "bdata": "pHA9ihX9N0HhehRuuZQ7QQAAAAAAAPh/exSuB+b8MkGPwvWothc5QTMzM7P9VzxBFK5HYcg4JUGamZmZwc9AQRSuR6Ej10NBFK5H4bWRGUEAAAAAtVArQTMzMzPkay9BMzMzMzhGGUF7FK7HoJg5QaRwPYouTilBj8L1KODbNkEUrkehVXo+QQAAAIA7ZDJBKVyPQnCPQkEAAAAAAAD4f3sUrkfyHyFBpHA9CsjBEUEAAAAAn2MwQTMzM3NPxjVBCtejcE9wNUHhehSujBIsQa5H4Xo6bRZBKVyPwhSTGkFSuB6F1R8nQY/C9Wh1rDVBXI/C9cQpL0EAAAAAAAD4f6RwPYoJMiFB16NwPUiyP0HXo3D96UY8QQrXo/CEUzNBKVyPwgNLFkEK16Nw+ycuQbgehesYpT5BzczMzIoJE0Fcj8J1RFUtQR+F61F6ESBBSOF6VEdbOUEK16Pw1DkjQQrXo3DlDTlBMzMzs6poPEHsUbgeBGoQQeF6FK7aojdBAAAAwD/JOEE9CtejnZsdQT0K12PnDj9B16NwvYw/PUHsUbgePRUfQa5H4TqbrTxBpHA9yq+OO0Fcj8L1hjA8QfYoXI/hHytBAAAAAAAA+H97FK7HlGE3QdejcP3G1D5B4XoU7u/5P0FSuB4F414+QZqZmVn1xDNBmpmZmTggE0Fcj8KV4iRFQWZmZuaFKDpBmpmZ2SXLMUEUrkfh2CwcQcP1KFwTLC1BAAAAAAAA+H9cj8K1zjw4QQAAAAAAAPh/zczMLI7HQkG4HoXrthw2QVK4HsXkAjdB7FG43o8bPkFcj8J15mkhQQAAAAAAAPh/MzMzs5t9N0FmZmam9047QTMzMzM9uh9BcT0K15jsFUEK16PwR/M3QRSuR+HmiSJBAAAAAAAA+H+kcD3KYtM6QdejcD1VHi5BCtejcMVdGkHNzMyMjTc/QfYoXI9kbjtBmpmZmTSgHUGkcD0K/fEvQSlcj8IicxdBUrgeBdltLUEpXI/CCM89QQAAAIDrzDZBH4XrUWBBKkHD9ShcJzsSQfYoXE/s+jpBXI/CtQrMPkFmZmZmszgWQT0K1yNgdTtBKVyPQkuWMEHhehRuFJFBQc3MzMynmhlBXI/C9XvZNEEUrkeh5/k/Qc3MzMziWy5BpHA9ylorM0EAAAAAAAD4f6RwPco5djtBw/UoXL5nNkFSuB7FUTVAQVyPwjWWpDtBKVyPgjrQOkEAAACAzSokQdejcD3w6RtBAAAAAAAA+H+uR+F6x1AfQZqZmRkqdDxBMzMzs8eIKUHhehSuGMsQQZqZmRnpPiJBuB6Fq75eNkEUrkehUWQ2QRSuR+HbVxhBAAAAAAAA+H+PwvWo2r4iQRSuR2GlED5Brkfheoz8L0HsUbiebug+QbgehetHGypBPQrXYwcSP0EAAAAAAAD4fwAAAAAAAPh/9ihcD56PK0HD9SjcbYg/QXsUrgf88jtB4XoU7r4DOUGkcD2KB0IgQQAAAAAAAPh/CtejcA1sEkGamZmZOZ4YQTMzMzOjOhhBH4XrUQTpGUG4HoXL4idBQexRuJ7J3CVBuB6Fa4jLKUEzMzMzuCUqQSlcj0KvJjNB",
          "dtype": "f8"
         },
         "yaxis": "y9"
        }
       ],
       "layout": {
        "annotations": [
         {
          "font": {
           "size": 16
          },
          "showarrow": false,
          "text": "Store vs Weekly_Sales",
          "x": 0.13333333333333333,
          "xanchor": "center",
          "xref": "paper",
          "y": 0.9999999999999999,
          "yanchor": "bottom",
          "yref": "paper"
         },
         {
          "font": {
           "size": 16
          },
          "showarrow": false,
          "text": "Holiday_Flag vs Weekly_Sales",
          "x": 0.5,
          "xanchor": "center",
          "xref": "paper",
          "y": 0.9999999999999999,
          "yanchor": "bottom",
          "yref": "paper"
         },
         {
          "font": {
           "size": 16
          },
          "showarrow": false,
          "text": "Temperature vs Weekly_Sales",
          "x": 0.8666666666666667,
          "xanchor": "center",
          "xref": "paper",
          "y": 0.9999999999999999,
          "yanchor": "bottom",
          "yref": "paper"
         },
         {
          "font": {
           "size": 16
          },
          "showarrow": false,
          "text": "Fuel_Price vs Weekly_Sales",
          "x": 0.13333333333333333,
          "xanchor": "center",
          "xref": "paper",
          "y": 0.6166666666666666,
          "yanchor": "bottom",
          "yref": "paper"
         },
         {
          "font": {
           "size": 16
          },
          "showarrow": false,
          "text": "CPI vs Weekly_Sales",
          "x": 0.5,
          "xanchor": "center",
          "xref": "paper",
          "y": 0.6166666666666666,
          "yanchor": "bottom",
          "yref": "paper"
         },
         {
          "font": {
           "size": 16
          },
          "showarrow": false,
          "text": "Unemployment vs Weekly_Sales",
          "x": 0.8666666666666667,
          "xanchor": "center",
          "xref": "paper",
          "y": 0.6166666666666666,
          "yanchor": "bottom",
          "yref": "paper"
         },
         {
          "font": {
           "size": 16
          },
          "showarrow": false,
          "text": "Month vs Weekly_Sales",
          "x": 0.13333333333333333,
          "xanchor": "center",
          "xref": "paper",
          "y": 0.2333333333333333,
          "yanchor": "bottom",
          "yref": "paper"
         },
         {
          "font": {
           "size": 16
          },
          "showarrow": false,
          "text": "Year vs Weekly_Sales",
          "x": 0.5,
          "xanchor": "center",
          "xref": "paper",
          "y": 0.2333333333333333,
          "yanchor": "bottom",
          "yref": "paper"
         },
         {
          "font": {
           "size": 16
          },
          "showarrow": false,
          "text": "week vs Weekly_Sales",
          "x": 0.8666666666666667,
          "xanchor": "center",
          "xref": "paper",
          "y": 0.2333333333333333,
          "yanchor": "bottom",
          "yref": "paper"
         }
        ],
        "height": 900,
        "showlegend": false,
        "template": {
         "data": {
          "bar": [
           {
            "error_x": {
             "color": "#2a3f5f"
            },
            "error_y": {
             "color": "#2a3f5f"
            },
            "marker": {
             "line": {
              "color": "#E5ECF6",
              "width": 0.5
             },
             "pattern": {
              "fillmode": "overlay",
              "size": 10,
              "solidity": 0.2
             }
            },
            "type": "bar"
           }
          ],
          "barpolar": [
           {
            "marker": {
             "line": {
              "color": "#E5ECF6",
              "width": 0.5
             },
             "pattern": {
              "fillmode": "overlay",
              "size": 10,
              "solidity": 0.2
             }
            },
            "type": "barpolar"
           }
          ],
          "carpet": [
           {
            "aaxis": {
             "endlinecolor": "#2a3f5f",
             "gridcolor": "white",
             "linecolor": "white",
             "minorgridcolor": "white",
             "startlinecolor": "#2a3f5f"
            },
            "baxis": {
             "endlinecolor": "#2a3f5f",
             "gridcolor": "white",
             "linecolor": "white",
             "minorgridcolor": "white",
             "startlinecolor": "#2a3f5f"
            },
            "type": "carpet"
           }
          ],
          "choropleth": [
           {
            "colorbar": {
             "outlinewidth": 0,
             "ticks": ""
            },
            "type": "choropleth"
           }
          ],
          "contour": [
           {
            "colorbar": {
             "outlinewidth": 0,
             "ticks": ""
            },
            "colorscale": [
             [
              0,
              "#0d0887"
             ],
             [
              0.1111111111111111,
              "#46039f"
             ],
             [
              0.2222222222222222,
              "#7201a8"
             ],
             [
              0.3333333333333333,
              "#9c179e"
             ],
             [
              0.4444444444444444,
              "#bd3786"
             ],
             [
              0.5555555555555556,
              "#d8576b"
             ],
             [
              0.6666666666666666,
              "#ed7953"
             ],
             [
              0.7777777777777778,
              "#fb9f3a"
             ],
             [
              0.8888888888888888,
              "#fdca26"
             ],
             [
              1,
              "#f0f921"
             ]
            ],
            "type": "contour"
           }
          ],
          "contourcarpet": [
           {
            "colorbar": {
             "outlinewidth": 0,
             "ticks": ""
            },
            "type": "contourcarpet"
           }
          ],
          "heatmap": [
           {
            "colorbar": {
             "outlinewidth": 0,
             "ticks": ""
            },
            "colorscale": [
             [
              0,
              "#0d0887"
             ],
             [
              0.1111111111111111,
              "#46039f"
             ],
             [
              0.2222222222222222,
              "#7201a8"
             ],
             [
              0.3333333333333333,
              "#9c179e"
             ],
             [
              0.4444444444444444,
              "#bd3786"
             ],
             [
              0.5555555555555556,
              "#d8576b"
             ],
             [
              0.6666666666666666,
              "#ed7953"
             ],
             [
              0.7777777777777778,
              "#fb9f3a"
             ],
             [
              0.8888888888888888,
              "#fdca26"
             ],
             [
              1,
              "#f0f921"
             ]
            ],
            "type": "heatmap"
           }
          ],
          "histogram": [
           {
            "marker": {
             "pattern": {
              "fillmode": "overlay",
              "size": 10,
              "solidity": 0.2
             }
            },
            "type": "histogram"
           }
          ],
          "histogram2d": [
           {
            "colorbar": {
             "outlinewidth": 0,
             "ticks": ""
            },
            "colorscale": [
             [
              0,
              "#0d0887"
             ],
             [
              0.1111111111111111,
              "#46039f"
             ],
             [
              0.2222222222222222,
              "#7201a8"
             ],
             [
              0.3333333333333333,
              "#9c179e"
             ],
             [
              0.4444444444444444,
              "#bd3786"
             ],
             [
              0.5555555555555556,
              "#d8576b"
             ],
             [
              0.6666666666666666,
              "#ed7953"
             ],
             [
              0.7777777777777778,
              "#fb9f3a"
             ],
             [
              0.8888888888888888,
              "#fdca26"
             ],
             [
              1,
              "#f0f921"
             ]
            ],
            "type": "histogram2d"
           }
          ],
          "histogram2dcontour": [
           {
            "colorbar": {
             "outlinewidth": 0,
             "ticks": ""
            },
            "colorscale": [
             [
              0,
              "#0d0887"
             ],
             [
              0.1111111111111111,
              "#46039f"
             ],
             [
              0.2222222222222222,
              "#7201a8"
             ],
             [
              0.3333333333333333,
              "#9c179e"
             ],
             [
              0.4444444444444444,
              "#bd3786"
             ],
             [
              0.5555555555555556,
              "#d8576b"
             ],
             [
              0.6666666666666666,
              "#ed7953"
             ],
             [
              0.7777777777777778,
              "#fb9f3a"
             ],
             [
              0.8888888888888888,
              "#fdca26"
             ],
             [
              1,
              "#f0f921"
             ]
            ],
            "type": "histogram2dcontour"
           }
          ],
          "mesh3d": [
           {
            "colorbar": {
             "outlinewidth": 0,
             "ticks": ""
            },
            "type": "mesh3d"
           }
          ],
          "parcoords": [
           {
            "line": {
             "colorbar": {
              "outlinewidth": 0,
              "ticks": ""
             }
            },
            "type": "parcoords"
           }
          ],
          "pie": [
           {
            "automargin": true,
            "type": "pie"
           }
          ],
          "scatter": [
           {
            "fillpattern": {
             "fillmode": "overlay",
             "size": 10,
             "solidity": 0.2
            },
            "type": "scatter"
           }
          ],
          "scatter3d": [
           {
            "line": {
             "colorbar": {
              "outlinewidth": 0,
              "ticks": ""
             }
            },
            "marker": {
             "colorbar": {
              "outlinewidth": 0,
              "ticks": ""
             }
            },
            "type": "scatter3d"
           }
          ],
          "scattercarpet": [
           {
            "marker": {
             "colorbar": {
              "outlinewidth": 0,
              "ticks": ""
             }
            },
            "type": "scattercarpet"
           }
          ],
          "scattergeo": [
           {
            "marker": {
             "colorbar": {
              "outlinewidth": 0,
              "ticks": ""
             }
            },
            "type": "scattergeo"
           }
          ],
          "scattergl": [
           {
            "marker": {
             "colorbar": {
              "outlinewidth": 0,
              "ticks": ""
             }
            },
            "type": "scattergl"
           }
          ],
          "scattermap": [
           {
            "marker": {
             "colorbar": {
              "outlinewidth": 0,
              "ticks": ""
             }
            },
            "type": "scattermap"
           }
          ],
          "scattermapbox": [
           {
            "marker": {
             "colorbar": {
              "outlinewidth": 0,
              "ticks": ""
             }
            },
            "type": "scattermapbox"
           }
          ],
          "scatterpolar": [
           {
            "marker": {
             "colorbar": {
              "outlinewidth": 0,
              "ticks": ""
             }
            },
            "type": "scatterpolar"
           }
          ],
          "scatterpolargl": [
           {
            "marker": {
             "colorbar": {
              "outlinewidth": 0,
              "ticks": ""
             }
            },
            "type": "scatterpolargl"
           }
          ],
          "scatterternary": [
           {
            "marker": {
             "colorbar": {
              "outlinewidth": 0,
              "ticks": ""
             }
            },
            "type": "scatterternary"
           }
          ],
          "surface": [
           {
            "colorbar": {
             "outlinewidth": 0,
             "ticks": ""
            },
            "colorscale": [
             [
              0,
              "#0d0887"
             ],
             [
              0.1111111111111111,
              "#46039f"
             ],
             [
              0.2222222222222222,
              "#7201a8"
             ],
             [
              0.3333333333333333,
              "#9c179e"
             ],
             [
              0.4444444444444444,
              "#bd3786"
             ],
             [
              0.5555555555555556,
              "#d8576b"
             ],
             [
              0.6666666666666666,
              "#ed7953"
             ],
             [
              0.7777777777777778,
              "#fb9f3a"
             ],
             [
              0.8888888888888888,
              "#fdca26"
             ],
             [
              1,
              "#f0f921"
             ]
            ],
            "type": "surface"
           }
          ],
          "table": [
           {
            "cells": {
             "fill": {
              "color": "#EBF0F8"
             },
             "line": {
              "color": "white"
             }
            },
            "header": {
             "fill": {
              "color": "#C8D4E3"
             },
             "line": {
              "color": "white"
             }
            },
            "type": "table"
           }
          ]
         },
         "layout": {
          "annotationdefaults": {
           "arrowcolor": "#2a3f5f",
           "arrowhead": 0,
           "arrowwidth": 1
          },
          "autotypenumbers": "strict",
          "coloraxis": {
           "colorbar": {
            "outlinewidth": 0,
            "ticks": ""
           }
          },
          "colorscale": {
           "diverging": [
            [
             0,
             "#8e0152"
            ],
            [
             0.1,
             "#c51b7d"
            ],
            [
             0.2,
             "#de77ae"
            ],
            [
             0.3,
             "#f1b6da"
            ],
            [
             0.4,
             "#fde0ef"
            ],
            [
             0.5,
             "#f7f7f7"
            ],
            [
             0.6,
             "#e6f5d0"
            ],
            [
             0.7,
             "#b8e186"
            ],
            [
             0.8,
             "#7fbc41"
            ],
            [
             0.9,
             "#4d9221"
            ],
            [
             1,
             "#276419"
            ]
           ],
           "sequential": [
            [
             0,
             "#0d0887"
            ],
            [
             0.1111111111111111,
             "#46039f"
            ],
            [
             0.2222222222222222,
             "#7201a8"
            ],
            [
             0.3333333333333333,
             "#9c179e"
            ],
            [
             0.4444444444444444,
             "#bd3786"
            ],
            [
             0.5555555555555556,
             "#d8576b"
            ],
            [
             0.6666666666666666,
             "#ed7953"
            ],
            [
             0.7777777777777778,
             "#fb9f3a"
            ],
            [
             0.8888888888888888,
             "#fdca26"
            ],
            [
             1,
             "#f0f921"
            ]
           ],
           "sequentialminus": [
            [
             0,
             "#0d0887"
            ],
            [
             0.1111111111111111,
             "#46039f"
            ],
            [
             0.2222222222222222,
             "#7201a8"
            ],
            [
             0.3333333333333333,
             "#9c179e"
            ],
            [
             0.4444444444444444,
             "#bd3786"
            ],
            [
             0.5555555555555556,
             "#d8576b"
            ],
            [
             0.6666666666666666,
             "#ed7953"
            ],
            [
             0.7777777777777778,
             "#fb9f3a"
            ],
            [
             0.8888888888888888,
             "#fdca26"
            ],
            [
             1,
             "#f0f921"
            ]
           ]
          },
          "colorway": [
           "#636efa",
           "#EF553B",
           "#00cc96",
           "#ab63fa",
           "#FFA15A",
           "#19d3f3",
           "#FF6692",
           "#B6E880",
           "#FF97FF",
           "#FECB52"
          ],
          "font": {
           "color": "#2a3f5f"
          },
          "geo": {
           "bgcolor": "white",
           "lakecolor": "white",
           "landcolor": "#E5ECF6",
           "showlakes": true,
           "showland": true,
           "subunitcolor": "white"
          },
          "hoverlabel": {
           "align": "left"
          },
          "hovermode": "closest",
          "mapbox": {
           "style": "light"
          },
          "paper_bgcolor": "white",
          "plot_bgcolor": "#E5ECF6",
          "polar": {
           "angularaxis": {
            "gridcolor": "white",
            "linecolor": "white",
            "ticks": ""
           },
           "bgcolor": "#E5ECF6",
           "radialaxis": {
            "gridcolor": "white",
            "linecolor": "white",
            "ticks": ""
           }
          },
          "scene": {
           "xaxis": {
            "backgroundcolor": "#E5ECF6",
            "gridcolor": "white",
            "gridwidth": 2,
            "linecolor": "white",
            "showbackground": true,
            "ticks": "",
            "zerolinecolor": "white"
           },
           "yaxis": {
            "backgroundcolor": "#E5ECF6",
            "gridcolor": "white",
            "gridwidth": 2,
            "linecolor": "white",
            "showbackground": true,
            "ticks": "",
            "zerolinecolor": "white"
           },
           "zaxis": {
            "backgroundcolor": "#E5ECF6",
            "gridcolor": "white",
            "gridwidth": 2,
            "linecolor": "white",
            "showbackground": true,
            "ticks": "",
            "zerolinecolor": "white"
           }
          },
          "shapedefaults": {
           "line": {
            "color": "#2a3f5f"
           }
          },
          "ternary": {
           "aaxis": {
            "gridcolor": "white",
            "linecolor": "white",
            "ticks": ""
           },
           "baxis": {
            "gridcolor": "white",
            "linecolor": "white",
            "ticks": ""
           },
           "bgcolor": "#E5ECF6",
           "caxis": {
            "gridcolor": "white",
            "linecolor": "white",
            "ticks": ""
           }
          },
          "title": {
           "x": 0.05
          },
          "xaxis": {
           "automargin": true,
           "gridcolor": "white",
           "linecolor": "white",
           "ticks": "",
           "title": {
            "standoff": 15
           },
           "zerolinecolor": "white",
           "zerolinewidth": 2
          },
          "yaxis": {
           "automargin": true,
           "gridcolor": "white",
           "linecolor": "white",
           "ticks": "",
           "title": {
            "standoff": 15
           },
           "zerolinecolor": "white",
           "zerolinewidth": 2
          }
         }
        },
        "title": {
         "text": "Bivariate Analysis: Weekly_Sales vs Other Variables"
        },
        "width": 1100,
        "xaxis": {
         "anchor": "y",
         "domain": [
          0,
          0.26666666666666666
         ]
        },
        "xaxis2": {
         "anchor": "y2",
         "domain": [
          0.3666666666666667,
          0.6333333333333333
         ]
        },
        "xaxis3": {
         "anchor": "y3",
         "domain": [
          0.7333333333333334,
          1
         ]
        },
        "xaxis4": {
         "anchor": "y4",
         "domain": [
          0,
          0.26666666666666666
         ]
        },
        "xaxis5": {
         "anchor": "y5",
         "domain": [
          0.3666666666666667,
          0.6333333333333333
         ]
        },
        "xaxis6": {
         "anchor": "y6",
         "domain": [
          0.7333333333333334,
          1
         ]
        },
        "xaxis7": {
         "anchor": "y7",
         "domain": [
          0,
          0.26666666666666666
         ]
        },
        "xaxis8": {
         "anchor": "y8",
         "domain": [
          0.3666666666666667,
          0.6333333333333333
         ]
        },
        "xaxis9": {
         "anchor": "y9",
         "domain": [
          0.7333333333333334,
          1
         ]
        },
        "yaxis": {
         "anchor": "x",
         "domain": [
          0.7666666666666666,
          0.9999999999999999
         ]
        },
        "yaxis2": {
         "anchor": "x2",
         "domain": [
          0.7666666666666666,
          0.9999999999999999
         ]
        },
        "yaxis3": {
         "anchor": "x3",
         "domain": [
          0.7666666666666666,
          0.9999999999999999
         ]
        },
        "yaxis4": {
         "anchor": "x4",
         "domain": [
          0.3833333333333333,
          0.6166666666666666
         ]
        },
        "yaxis5": {
         "anchor": "x5",
         "domain": [
          0.3833333333333333,
          0.6166666666666666
         ]
        },
        "yaxis6": {
         "anchor": "x6",
         "domain": [
          0.3833333333333333,
          0.6166666666666666
         ]
        },
        "yaxis7": {
         "anchor": "x7",
         "domain": [
          0,
          0.2333333333333333
         ]
        },
        "yaxis8": {
         "anchor": "x8",
         "domain": [
          0,
          0.2333333333333333
         ]
        },
        "yaxis9": {
         "anchor": "x9",
         "domain": [
          0,
          0.2333333333333333
         ]
        }
       }
      }
     },
     "metadata": {},
     "output_type": "display_data"
    }
   ],
   "source": [
    "columns_to_plot = ['Store', 'Holiday_Flag', 'Temperature',\n",
    "                   'Fuel_Price', 'CPI', 'Unemployment',\n",
    "                   'Month', 'Year','week']\n",
    "\n",
    "# Create subplot grid: 3 columns per row\n",
    "n_cols = 3\n",
    "n_rows = -(-len(columns_to_plot) // n_cols)  # ceiling division\n",
    "\n",
    "fig = make_subplots(rows=n_rows, cols=n_cols,\n",
    "                    subplot_titles=[f\"{col} vs Weekly_Sales\" for col in columns_to_plot],\n",
    "                    horizontal_spacing=0.1, vertical_spacing=0.15)\n",
    "\n",
    "# Add scatter plots to the grid\n",
    "for i, col in enumerate(columns_to_plot):\n",
    "    row = i // n_cols + 1\n",
    "    col_num = i % n_cols + 1\n",
    "    fig.add_trace(\n",
    "        go.Scatter(\n",
    "            x=df1[col],\n",
    "            y=df1['Weekly_Sales'],\n",
    "            mode='markers',\n",
    "            marker=dict(size=4, opacity=0.6),\n",
    "            name=col\n",
    "        ),\n",
    "        row=row,\n",
    "        col=col_num\n",
    "    )\n",
    "\n",
    "# Layout and appearance\n",
    "fig.update_layout(\n",
    "    height=300 * n_rows,\n",
    "    width=1100,\n",
    "    title_text=\"Bivariate Analysis: Weekly_Sales vs Other Variables\",\n",
    "    showlegend=False\n",
    ")\n",
    "\n",
    "fig.show()\n"
   ]
  },
  {
   "cell_type": "code",
   "execution_count": 24,
   "metadata": {},
   "outputs": [
    {
     "data": {
      "text/plain": [
       "Index(['Store', 'Date', 'Weekly_Sales', 'Holiday_Flag', 'Temperature',\n",
       "       'Fuel_Price', 'CPI', 'Unemployment', 'Month', 'Year', 'Week_of_year',\n",
       "       'week'],\n",
       "      dtype='object')"
      ]
     },
     "execution_count": 24,
     "metadata": {},
     "output_type": "execute_result"
    }
   ],
   "source": [
    "df1.columns"
   ]
  },
  {
   "cell_type": "code",
   "execution_count": 25,
   "metadata": {},
   "outputs": [
    {
     "data": {
      "text/plain": [
       "Store                  float64\n",
       "Date            datetime64[ns]\n",
       "Weekly_Sales           float64\n",
       "Holiday_Flag           float64\n",
       "Temperature            float64\n",
       "Fuel_Price             float64\n",
       "CPI                    float64\n",
       "Unemployment           float64\n",
       "Month                  float64\n",
       "Year                   float64\n",
       "Week_of_year            UInt32\n",
       "week                   float64\n",
       "dtype: object"
      ]
     },
     "execution_count": 25,
     "metadata": {},
     "output_type": "execute_result"
    }
   ],
   "source": [
    "df1.dtypes"
   ]
  },
  {
   "cell_type": "code",
   "execution_count": 26,
   "metadata": {},
   "outputs": [
    {
     "data": {
      "application/vnd.plotly.v1+json": {
       "config": {
        "plotlyServerURL": "https://plot.ly"
       },
       "data": [
        {
         "colorscale": [
          [
           0,
           "#0d0887"
          ],
          [
           0.1111111111111111,
           "#46039f"
          ],
          [
           0.2222222222222222,
           "#7201a8"
          ],
          [
           0.3333333333333333,
           "#9c179e"
          ],
          [
           0.4444444444444444,
           "#bd3786"
          ],
          [
           0.5555555555555556,
           "#d8576b"
          ],
          [
           0.6666666666666666,
           "#ed7953"
          ],
          [
           0.7777777777777778,
           "#fb9f3a"
          ],
          [
           0.8888888888888888,
           "#fdca26"
          ],
          [
           1,
           "#f0f921"
          ]
         ],
         "reversescale": false,
         "showscale": false,
         "type": "heatmap",
         "x": [
          "Store",
          "Weekly_Sales",
          "Holiday_Flag",
          "Temperature",
          "Fuel_Price",
          "CPI",
          "Unemployment",
          "Month",
          "Year",
          "Week_of_year",
          "week"
         ],
         "y": [
          "Store",
          "Weekly_Sales",
          "Holiday_Flag",
          "Temperature",
          "Fuel_Price",
          "CPI",
          "Unemployment",
          "Month",
          "Year",
          "Week_of_year",
          "week"
         ],
         "z": {
          "bdata": "AAAAAAAA8D+4HoXrUbi+P7gehetRuJ6/pHA9Ctej0L8K16NwPQrHP+F6FK5H4eK/KVyPwvUozD97FK5H4Xqkv3sUrkfheoS/mpmZmZmZqb97FK5H4XqUv7gehetRuL4/AAAAAAAA8D97FK5H4XqkP8P1KFyPwsW/exSuR+F6lL+PwvUoXI/Sv7gehetRuK4/exSuR+F6lL97FK5H4Xqkv3sUrkfhepS/AAAAAAAAAIC4HoXrUbiev3sUrkfheqQ/AAAAAAAA8D9SuB6F61HIv7gehetRuL6/w/UoXI/CxT+amZmZmZm5P7gehetRuK4/exSuR+F6hD+4HoXrUbiuP3sUrkfheqS/pHA9Ctej0L/D9Shcj8LFv1K4HoXrUci/AAAAAAAA8D+amZmZmZmpP+xRuB6F68E/uB6F61G4nr+kcD0K16PQP+xRuB6F68G/SOF6FK5H0T+kcD0K16PAPwrXo3A9Csc/exSuR+F6lL+4HoXrUbi+v5qZmZmZmak/AAAAAAAA8D97FK5H4XrEvwrXo3A9Crc/mpmZmZmZub/sUbgehevpP5qZmZmZmbm/exSuR+F6lL/hehSuR+Hiv4/C9Shcj9K/w/UoXI/CxT/sUbgehevBP3sUrkfhesS/AAAAAAAA8D9mZmZmZmbWv7gehetRuJ4/exSuR+F6hL97FK5H4XqkP+xRuB6F68E/KVyPwvUozD+4HoXrUbiuP5qZmZmZmbk/uB6F61G4nr8K16NwPQq3P2ZmZmZmZta/AAAAAAAA8D97FK5H4XqEvwrXo3A9Cse/exSuR+F6hL97FK5H4Xq0v3sUrkfheqS/exSuR+F6lL+4HoXrUbiuP6RwPQrXo9A/mpmZmZmZub+4HoXrUbieP3sUrkfheoS/AAAAAAAA8D8pXI/C9SjMvwAAAAAAAPA/exSuR+F6pD97FK5H4XqEv3sUrkfheqS/exSuR+F6hD/sUbgehevBv+xRuB6F6+k/exSuR+F6hL8K16NwPQrHvylcj8L1KMy/AAAAAAAA8D/hehSuR+HKv7gehetRuL6/mpmZmZmZqb97FK5H4XqUv7gehetRuK4/SOF6FK5H0T+amZmZmZm5v3sUrkfheqQ/exSuR+F6hL8AAAAAAADwP+F6FK5H4cq/AAAAAAAA8D+4HoXrUbi+P3sUrkfhepS/AAAAAAAAAIB7FK5H4Xqkv6RwPQrXo8A/exSuR+F6lL/sUbgehevBP3sUrkfherS/exSuR+F6pD+4HoXrUbi+v7gehetRuL4/AAAAAAAA8D8=",
          "dtype": "f8",
          "shape": "11, 11"
         }
        }
       ],
       "layout": {
        "annotations": [
         {
          "font": {
           "color": "#000000"
          },
          "showarrow": false,
          "text": "1.0",
          "x": "Store",
          "xref": "x",
          "y": "Store",
          "yref": "y"
         },
         {
          "font": {
           "color": "#FFFFFF"
          },
          "showarrow": false,
          "text": "0.12",
          "x": "Weekly_Sales",
          "xref": "x",
          "y": "Store",
          "yref": "y"
         },
         {
          "font": {
           "color": "#FFFFFF"
          },
          "showarrow": false,
          "text": "-0.03",
          "x": "Holiday_Flag",
          "xref": "x",
          "y": "Store",
          "yref": "y"
         },
         {
          "font": {
           "color": "#FFFFFF"
          },
          "showarrow": false,
          "text": "-0.26",
          "x": "Temperature",
          "xref": "x",
          "y": "Store",
          "yref": "y"
         },
         {
          "font": {
           "color": "#FFFFFF"
          },
          "showarrow": false,
          "text": "0.18",
          "x": "Fuel_Price",
          "xref": "x",
          "y": "Store",
          "yref": "y"
         },
         {
          "font": {
           "color": "#FFFFFF"
          },
          "showarrow": false,
          "text": "-0.59",
          "x": "CPI",
          "xref": "x",
          "y": "Store",
          "yref": "y"
         },
         {
          "font": {
           "color": "#000000"
          },
          "showarrow": false,
          "text": "0.22",
          "x": "Unemployment",
          "xref": "x",
          "y": "Store",
          "yref": "y"
         },
         {
          "font": {
           "color": "#FFFFFF"
          },
          "showarrow": false,
          "text": "-0.04",
          "x": "Month",
          "xref": "x",
          "y": "Store",
          "yref": "y"
         },
         {
          "font": {
           "color": "#FFFFFF"
          },
          "showarrow": false,
          "text": "-0.01",
          "x": "Year",
          "xref": "x",
          "y": "Store",
          "yref": "y"
         },
         {
          "font": {
           "color": "#FFFFFF"
          },
          "showarrow": false,
          "text": "-0.05",
          "x": "Week_of_year",
          "xref": "x",
          "y": "Store",
          "yref": "y"
         },
         {
          "font": {
           "color": "#FFFFFF"
          },
          "showarrow": false,
          "text": "-0.02",
          "x": "week",
          "xref": "x",
          "y": "Store",
          "yref": "y"
         },
         {
          "font": {
           "color": "#FFFFFF"
          },
          "showarrow": false,
          "text": "0.12",
          "x": "Store",
          "xref": "x",
          "y": "Weekly_Sales",
          "yref": "y"
         },
         {
          "font": {
           "color": "#000000"
          },
          "showarrow": false,
          "text": "1.0",
          "x": "Weekly_Sales",
          "xref": "x",
          "y": "Weekly_Sales",
          "yref": "y"
         },
         {
          "font": {
           "color": "#FFFFFF"
          },
          "showarrow": false,
          "text": "0.04",
          "x": "Holiday_Flag",
          "xref": "x",
          "y": "Weekly_Sales",
          "yref": "y"
         },
         {
          "font": {
           "color": "#FFFFFF"
          },
          "showarrow": false,
          "text": "-0.17",
          "x": "Temperature",
          "xref": "x",
          "y": "Weekly_Sales",
          "yref": "y"
         },
         {
          "font": {
           "color": "#FFFFFF"
          },
          "showarrow": false,
          "text": "-0.02",
          "x": "Fuel_Price",
          "xref": "x",
          "y": "Weekly_Sales",
          "yref": "y"
         },
         {
          "font": {
           "color": "#FFFFFF"
          },
          "showarrow": false,
          "text": "-0.29",
          "x": "CPI",
          "xref": "x",
          "y": "Weekly_Sales",
          "yref": "y"
         },
         {
          "font": {
           "color": "#FFFFFF"
          },
          "showarrow": false,
          "text": "0.06",
          "x": "Unemployment",
          "xref": "x",
          "y": "Weekly_Sales",
          "yref": "y"
         },
         {
          "font": {
           "color": "#FFFFFF"
          },
          "showarrow": false,
          "text": "-0.02",
          "x": "Month",
          "xref": "x",
          "y": "Weekly_Sales",
          "yref": "y"
         },
         {
          "font": {
           "color": "#FFFFFF"
          },
          "showarrow": false,
          "text": "-0.04",
          "x": "Year",
          "xref": "x",
          "y": "Weekly_Sales",
          "yref": "y"
         },
         {
          "font": {
           "color": "#FFFFFF"
          },
          "showarrow": false,
          "text": "-0.02",
          "x": "Week_of_year",
          "xref": "x",
          "y": "Weekly_Sales",
          "yref": "y"
         },
         {
          "font": {
           "color": "#FFFFFF"
          },
          "showarrow": false,
          "text": "-0.0",
          "x": "week",
          "xref": "x",
          "y": "Weekly_Sales",
          "yref": "y"
         },
         {
          "font": {
           "color": "#FFFFFF"
          },
          "showarrow": false,
          "text": "-0.03",
          "x": "Store",
          "xref": "x",
          "y": "Holiday_Flag",
          "yref": "y"
         },
         {
          "font": {
           "color": "#FFFFFF"
          },
          "showarrow": false,
          "text": "0.04",
          "x": "Weekly_Sales",
          "xref": "x",
          "y": "Holiday_Flag",
          "yref": "y"
         },
         {
          "font": {
           "color": "#000000"
          },
          "showarrow": false,
          "text": "1.0",
          "x": "Holiday_Flag",
          "xref": "x",
          "y": "Holiday_Flag",
          "yref": "y"
         },
         {
          "font": {
           "color": "#FFFFFF"
          },
          "showarrow": false,
          "text": "-0.19",
          "x": "Temperature",
          "xref": "x",
          "y": "Holiday_Flag",
          "yref": "y"
         },
         {
          "font": {
           "color": "#FFFFFF"
          },
          "showarrow": false,
          "text": "-0.12",
          "x": "Fuel_Price",
          "xref": "x",
          "y": "Holiday_Flag",
          "yref": "y"
         },
         {
          "font": {
           "color": "#FFFFFF"
          },
          "showarrow": false,
          "text": "0.17",
          "x": "CPI",
          "xref": "x",
          "y": "Holiday_Flag",
          "yref": "y"
         },
         {
          "font": {
           "color": "#FFFFFF"
          },
          "showarrow": false,
          "text": "0.1",
          "x": "Unemployment",
          "xref": "x",
          "y": "Holiday_Flag",
          "yref": "y"
         },
         {
          "font": {
           "color": "#FFFFFF"
          },
          "showarrow": false,
          "text": "0.06",
          "x": "Month",
          "xref": "x",
          "y": "Holiday_Flag",
          "yref": "y"
         },
         {
          "font": {
           "color": "#FFFFFF"
          },
          "showarrow": false,
          "text": "0.01",
          "x": "Year",
          "xref": "x",
          "y": "Holiday_Flag",
          "yref": "y"
         },
         {
          "font": {
           "color": "#FFFFFF"
          },
          "showarrow": false,
          "text": "0.06",
          "x": "Week_of_year",
          "xref": "x",
          "y": "Holiday_Flag",
          "yref": "y"
         },
         {
          "font": {
           "color": "#FFFFFF"
          },
          "showarrow": false,
          "text": "-0.04",
          "x": "week",
          "xref": "x",
          "y": "Holiday_Flag",
          "yref": "y"
         },
         {
          "font": {
           "color": "#FFFFFF"
          },
          "showarrow": false,
          "text": "-0.26",
          "x": "Store",
          "xref": "x",
          "y": "Temperature",
          "yref": "y"
         },
         {
          "font": {
           "color": "#FFFFFF"
          },
          "showarrow": false,
          "text": "-0.17",
          "x": "Weekly_Sales",
          "xref": "x",
          "y": "Temperature",
          "yref": "y"
         },
         {
          "font": {
           "color": "#FFFFFF"
          },
          "showarrow": false,
          "text": "-0.19",
          "x": "Holiday_Flag",
          "xref": "x",
          "y": "Temperature",
          "yref": "y"
         },
         {
          "font": {
           "color": "#000000"
          },
          "showarrow": false,
          "text": "1.0",
          "x": "Temperature",
          "xref": "x",
          "y": "Temperature",
          "yref": "y"
         },
         {
          "font": {
           "color": "#FFFFFF"
          },
          "showarrow": false,
          "text": "0.05",
          "x": "Fuel_Price",
          "xref": "x",
          "y": "Temperature",
          "yref": "y"
         },
         {
          "font": {
           "color": "#FFFFFF"
          },
          "showarrow": false,
          "text": "0.14",
          "x": "CPI",
          "xref": "x",
          "y": "Temperature",
          "yref": "y"
         },
         {
          "font": {
           "color": "#FFFFFF"
          },
          "showarrow": false,
          "text": "-0.03",
          "x": "Unemployment",
          "xref": "x",
          "y": "Temperature",
          "yref": "y"
         },
         {
          "font": {
           "color": "#000000"
          },
          "showarrow": false,
          "text": "0.26",
          "x": "Month",
          "xref": "x",
          "y": "Temperature",
          "yref": "y"
         },
         {
          "font": {
           "color": "#FFFFFF"
          },
          "showarrow": false,
          "text": "-0.14",
          "x": "Year",
          "xref": "x",
          "y": "Temperature",
          "yref": "y"
         },
         {
          "font": {
           "color": "#000000"
          },
          "showarrow": false,
          "text": "0.27",
          "x": "Week_of_year",
          "xref": "x",
          "y": "Temperature",
          "yref": "y"
         },
         {
          "font": {
           "color": "#FFFFFF"
          },
          "showarrow": false,
          "text": "0.13",
          "x": "week",
          "xref": "x",
          "y": "Temperature",
          "yref": "y"
         },
         {
          "font": {
           "color": "#FFFFFF"
          },
          "showarrow": false,
          "text": "0.18",
          "x": "Store",
          "xref": "x",
          "y": "Fuel_Price",
          "yref": "y"
         },
         {
          "font": {
           "color": "#FFFFFF"
          },
          "showarrow": false,
          "text": "-0.02",
          "x": "Weekly_Sales",
          "xref": "x",
          "y": "Fuel_Price",
          "yref": "y"
         },
         {
          "font": {
           "color": "#FFFFFF"
          },
          "showarrow": false,
          "text": "-0.12",
          "x": "Holiday_Flag",
          "xref": "x",
          "y": "Fuel_Price",
          "yref": "y"
         },
         {
          "font": {
           "color": "#FFFFFF"
          },
          "showarrow": false,
          "text": "0.05",
          "x": "Temperature",
          "xref": "x",
          "y": "Fuel_Price",
          "yref": "y"
         },
         {
          "font": {
           "color": "#000000"
          },
          "showarrow": false,
          "text": "1.0",
          "x": "Fuel_Price",
          "xref": "x",
          "y": "Fuel_Price",
          "yref": "y"
         },
         {
          "font": {
           "color": "#FFFFFF"
          },
          "showarrow": false,
          "text": "-0.16",
          "x": "CPI",
          "xref": "x",
          "y": "Fuel_Price",
          "yref": "y"
         },
         {
          "font": {
           "color": "#FFFFFF"
          },
          "showarrow": false,
          "text": "0.09",
          "x": "Unemployment",
          "xref": "x",
          "y": "Fuel_Price",
          "yref": "y"
         },
         {
          "font": {
           "color": "#FFFFFF"
          },
          "showarrow": false,
          "text": "-0.1",
          "x": "Month",
          "xref": "x",
          "y": "Fuel_Price",
          "yref": "y"
         },
         {
          "font": {
           "color": "#000000"
          },
          "showarrow": false,
          "text": "0.81",
          "x": "Year",
          "xref": "x",
          "y": "Fuel_Price",
          "yref": "y"
         },
         {
          "font": {
           "color": "#FFFFFF"
          },
          "showarrow": false,
          "text": "-0.1",
          "x": "Week_of_year",
          "xref": "x",
          "y": "Fuel_Price",
          "yref": "y"
         },
         {
          "font": {
           "color": "#FFFFFF"
          },
          "showarrow": false,
          "text": "-0.02",
          "x": "week",
          "xref": "x",
          "y": "Fuel_Price",
          "yref": "y"
         },
         {
          "font": {
           "color": "#FFFFFF"
          },
          "showarrow": false,
          "text": "-0.59",
          "x": "Store",
          "xref": "x",
          "y": "CPI",
          "yref": "y"
         },
         {
          "font": {
           "color": "#FFFFFF"
          },
          "showarrow": false,
          "text": "-0.29",
          "x": "Weekly_Sales",
          "xref": "x",
          "y": "CPI",
          "yref": "y"
         },
         {
          "font": {
           "color": "#FFFFFF"
          },
          "showarrow": false,
          "text": "0.17",
          "x": "Holiday_Flag",
          "xref": "x",
          "y": "CPI",
          "yref": "y"
         },
         {
          "font": {
           "color": "#FFFFFF"
          },
          "showarrow": false,
          "text": "0.14",
          "x": "Temperature",
          "xref": "x",
          "y": "CPI",
          "yref": "y"
         },
         {
          "font": {
           "color": "#FFFFFF"
          },
          "showarrow": false,
          "text": "-0.16",
          "x": "Fuel_Price",
          "xref": "x",
          "y": "CPI",
          "yref": "y"
         },
         {
          "font": {
           "color": "#000000"
          },
          "showarrow": false,
          "text": "1.0",
          "x": "CPI",
          "xref": "x",
          "y": "CPI",
          "yref": "y"
         },
         {
          "font": {
           "color": "#FFFFFF"
          },
          "showarrow": false,
          "text": "-0.35",
          "x": "Unemployment",
          "xref": "x",
          "y": "CPI",
          "yref": "y"
         },
         {
          "font": {
           "color": "#FFFFFF"
          },
          "showarrow": false,
          "text": "0.03",
          "x": "Month",
          "xref": "x",
          "y": "CPI",
          "yref": "y"
         },
         {
          "font": {
           "color": "#FFFFFF"
          },
          "showarrow": false,
          "text": "-0.01",
          "x": "Year",
          "xref": "x",
          "y": "CPI",
          "yref": "y"
         },
         {
          "font": {
           "color": "#FFFFFF"
          },
          "showarrow": false,
          "text": "0.04",
          "x": "Week_of_year",
          "xref": "x",
          "y": "CPI",
          "yref": "y"
         },
         {
          "font": {
           "color": "#FFFFFF"
          },
          "showarrow": false,
          "text": "0.14",
          "x": "week",
          "xref": "x",
          "y": "CPI",
          "yref": "y"
         },
         {
          "font": {
           "color": "#000000"
          },
          "showarrow": false,
          "text": "0.22",
          "x": "Store",
          "xref": "x",
          "y": "Unemployment",
          "yref": "y"
         },
         {
          "font": {
           "color": "#FFFFFF"
          },
          "showarrow": false,
          "text": "0.06",
          "x": "Weekly_Sales",
          "xref": "x",
          "y": "Unemployment",
          "yref": "y"
         },
         {
          "font": {
           "color": "#FFFFFF"
          },
          "showarrow": false,
          "text": "0.1",
          "x": "Holiday_Flag",
          "xref": "x",
          "y": "Unemployment",
          "yref": "y"
         },
         {
          "font": {
           "color": "#FFFFFF"
          },
          "showarrow": false,
          "text": "-0.03",
          "x": "Temperature",
          "xref": "x",
          "y": "Unemployment",
          "yref": "y"
         },
         {
          "font": {
           "color": "#FFFFFF"
          },
          "showarrow": false,
          "text": "0.09",
          "x": "Fuel_Price",
          "xref": "x",
          "y": "Unemployment",
          "yref": "y"
         },
         {
          "font": {
           "color": "#FFFFFF"
          },
          "showarrow": false,
          "text": "-0.35",
          "x": "CPI",
          "xref": "x",
          "y": "Unemployment",
          "yref": "y"
         },
         {
          "font": {
           "color": "#000000"
          },
          "showarrow": false,
          "text": "1.0",
          "x": "Unemployment",
          "xref": "x",
          "y": "Unemployment",
          "yref": "y"
         },
         {
          "font": {
           "color": "#FFFFFF"
          },
          "showarrow": false,
          "text": "-0.01",
          "x": "Month",
          "xref": "x",
          "y": "Unemployment",
          "yref": "y"
         },
         {
          "font": {
           "color": "#FFFFFF"
          },
          "showarrow": false,
          "text": "-0.18",
          "x": "Year",
          "xref": "x",
          "y": "Unemployment",
          "yref": "y"
         },
         {
          "font": {
           "color": "#FFFFFF"
          },
          "showarrow": false,
          "text": "-0.01",
          "x": "Week_of_year",
          "xref": "x",
          "y": "Unemployment",
          "yref": "y"
         },
         {
          "font": {
           "color": "#FFFFFF"
          },
          "showarrow": false,
          "text": "-0.08",
          "x": "week",
          "xref": "x",
          "y": "Unemployment",
          "yref": "y"
         },
         {
          "font": {
           "color": "#FFFFFF"
          },
          "showarrow": false,
          "text": "-0.04",
          "x": "Store",
          "xref": "x",
          "y": "Month",
          "yref": "y"
         },
         {
          "font": {
           "color": "#FFFFFF"
          },
          "showarrow": false,
          "text": "-0.02",
          "x": "Weekly_Sales",
          "xref": "x",
          "y": "Month",
          "yref": "y"
         },
         {
          "font": {
           "color": "#FFFFFF"
          },
          "showarrow": false,
          "text": "0.06",
          "x": "Holiday_Flag",
          "xref": "x",
          "y": "Month",
          "yref": "y"
         },
         {
          "font": {
           "color": "#000000"
          },
          "showarrow": false,
          "text": "0.26",
          "x": "Temperature",
          "xref": "x",
          "y": "Month",
          "yref": "y"
         },
         {
          "font": {
           "color": "#FFFFFF"
          },
          "showarrow": false,
          "text": "-0.1",
          "x": "Fuel_Price",
          "xref": "x",
          "y": "Month",
          "yref": "y"
         },
         {
          "font": {
           "color": "#FFFFFF"
          },
          "showarrow": false,
          "text": "0.03",
          "x": "CPI",
          "xref": "x",
          "y": "Month",
          "yref": "y"
         },
         {
          "font": {
           "color": "#FFFFFF"
          },
          "showarrow": false,
          "text": "-0.01",
          "x": "Unemployment",
          "xref": "x",
          "y": "Month",
          "yref": "y"
         },
         {
          "font": {
           "color": "#000000"
          },
          "showarrow": false,
          "text": "1.0",
          "x": "Month",
          "xref": "x",
          "y": "Month",
          "yref": "y"
         },
         {
          "font": {
           "color": "#FFFFFF"
          },
          "showarrow": false,
          "text": "-0.22",
          "x": "Year",
          "xref": "x",
          "y": "Month",
          "yref": "y"
         },
         {
          "font": {
           "color": "#000000"
          },
          "showarrow": false,
          "text": "1.0",
          "x": "Week_of_year",
          "xref": "x",
          "y": "Month",
          "yref": "y"
         },
         {
          "font": {
           "color": "#FFFFFF"
          },
          "showarrow": false,
          "text": "0.04",
          "x": "week",
          "xref": "x",
          "y": "Month",
          "yref": "y"
         },
         {
          "font": {
           "color": "#FFFFFF"
          },
          "showarrow": false,
          "text": "-0.01",
          "x": "Store",
          "xref": "x",
          "y": "Year",
          "yref": "y"
         },
         {
          "font": {
           "color": "#FFFFFF"
          },
          "showarrow": false,
          "text": "-0.04",
          "x": "Weekly_Sales",
          "xref": "x",
          "y": "Year",
          "yref": "y"
         },
         {
          "font": {
           "color": "#FFFFFF"
          },
          "showarrow": false,
          "text": "0.01",
          "x": "Holiday_Flag",
          "xref": "x",
          "y": "Year",
          "yref": "y"
         },
         {
          "font": {
           "color": "#FFFFFF"
          },
          "showarrow": false,
          "text": "-0.14",
          "x": "Temperature",
          "xref": "x",
          "y": "Year",
          "yref": "y"
         },
         {
          "font": {
           "color": "#000000"
          },
          "showarrow": false,
          "text": "0.81",
          "x": "Fuel_Price",
          "xref": "x",
          "y": "Year",
          "yref": "y"
         },
         {
          "font": {
           "color": "#FFFFFF"
          },
          "showarrow": false,
          "text": "-0.01",
          "x": "CPI",
          "xref": "x",
          "y": "Year",
          "yref": "y"
         },
         {
          "font": {
           "color": "#FFFFFF"
          },
          "showarrow": false,
          "text": "-0.18",
          "x": "Unemployment",
          "xref": "x",
          "y": "Year",
          "yref": "y"
         },
         {
          "font": {
           "color": "#FFFFFF"
          },
          "showarrow": false,
          "text": "-0.22",
          "x": "Month",
          "xref": "x",
          "y": "Year",
          "yref": "y"
         },
         {
          "font": {
           "color": "#000000"
          },
          "showarrow": false,
          "text": "1.0",
          "x": "Year",
          "xref": "x",
          "y": "Year",
          "yref": "y"
         },
         {
          "font": {
           "color": "#FFFFFF"
          },
          "showarrow": false,
          "text": "-0.21",
          "x": "Week_of_year",
          "xref": "x",
          "y": "Year",
          "yref": "y"
         },
         {
          "font": {
           "color": "#FFFFFF"
          },
          "showarrow": false,
          "text": "-0.12",
          "x": "week",
          "xref": "x",
          "y": "Year",
          "yref": "y"
         },
         {
          "font": {
           "color": "#FFFFFF"
          },
          "showarrow": false,
          "text": "-0.05",
          "x": "Store",
          "xref": "x",
          "y": "Week_of_year",
          "yref": "y"
         },
         {
          "font": {
           "color": "#FFFFFF"
          },
          "showarrow": false,
          "text": "-0.02",
          "x": "Weekly_Sales",
          "xref": "x",
          "y": "Week_of_year",
          "yref": "y"
         },
         {
          "font": {
           "color": "#FFFFFF"
          },
          "showarrow": false,
          "text": "0.06",
          "x": "Holiday_Flag",
          "xref": "x",
          "y": "Week_of_year",
          "yref": "y"
         },
         {
          "font": {
           "color": "#000000"
          },
          "showarrow": false,
          "text": "0.27",
          "x": "Temperature",
          "xref": "x",
          "y": "Week_of_year",
          "yref": "y"
         },
         {
          "font": {
           "color": "#FFFFFF"
          },
          "showarrow": false,
          "text": "-0.1",
          "x": "Fuel_Price",
          "xref": "x",
          "y": "Week_of_year",
          "yref": "y"
         },
         {
          "font": {
           "color": "#FFFFFF"
          },
          "showarrow": false,
          "text": "0.04",
          "x": "CPI",
          "xref": "x",
          "y": "Week_of_year",
          "yref": "y"
         },
         {
          "font": {
           "color": "#FFFFFF"
          },
          "showarrow": false,
          "text": "-0.01",
          "x": "Unemployment",
          "xref": "x",
          "y": "Week_of_year",
          "yref": "y"
         },
         {
          "font": {
           "color": "#000000"
          },
          "showarrow": false,
          "text": "1.0",
          "x": "Month",
          "xref": "x",
          "y": "Week_of_year",
          "yref": "y"
         },
         {
          "font": {
           "color": "#FFFFFF"
          },
          "showarrow": false,
          "text": "-0.21",
          "x": "Year",
          "xref": "x",
          "y": "Week_of_year",
          "yref": "y"
         },
         {
          "font": {
           "color": "#000000"
          },
          "showarrow": false,
          "text": "1.0",
          "x": "Week_of_year",
          "xref": "x",
          "y": "Week_of_year",
          "yref": "y"
         },
         {
          "font": {
           "color": "#FFFFFF"
          },
          "showarrow": false,
          "text": "0.12",
          "x": "week",
          "xref": "x",
          "y": "Week_of_year",
          "yref": "y"
         },
         {
          "font": {
           "color": "#FFFFFF"
          },
          "showarrow": false,
          "text": "-0.02",
          "x": "Store",
          "xref": "x",
          "y": "week",
          "yref": "y"
         },
         {
          "font": {
           "color": "#FFFFFF"
          },
          "showarrow": false,
          "text": "-0.0",
          "x": "Weekly_Sales",
          "xref": "x",
          "y": "week",
          "yref": "y"
         },
         {
          "font": {
           "color": "#FFFFFF"
          },
          "showarrow": false,
          "text": "-0.04",
          "x": "Holiday_Flag",
          "xref": "x",
          "y": "week",
          "yref": "y"
         },
         {
          "font": {
           "color": "#FFFFFF"
          },
          "showarrow": false,
          "text": "0.13",
          "x": "Temperature",
          "xref": "x",
          "y": "week",
          "yref": "y"
         },
         {
          "font": {
           "color": "#FFFFFF"
          },
          "showarrow": false,
          "text": "-0.02",
          "x": "Fuel_Price",
          "xref": "x",
          "y": "week",
          "yref": "y"
         },
         {
          "font": {
           "color": "#FFFFFF"
          },
          "showarrow": false,
          "text": "0.14",
          "x": "CPI",
          "xref": "x",
          "y": "week",
          "yref": "y"
         },
         {
          "font": {
           "color": "#FFFFFF"
          },
          "showarrow": false,
          "text": "-0.08",
          "x": "Unemployment",
          "xref": "x",
          "y": "week",
          "yref": "y"
         },
         {
          "font": {
           "color": "#FFFFFF"
          },
          "showarrow": false,
          "text": "0.04",
          "x": "Month",
          "xref": "x",
          "y": "week",
          "yref": "y"
         },
         {
          "font": {
           "color": "#FFFFFF"
          },
          "showarrow": false,
          "text": "-0.12",
          "x": "Year",
          "xref": "x",
          "y": "week",
          "yref": "y"
         },
         {
          "font": {
           "color": "#FFFFFF"
          },
          "showarrow": false,
          "text": "0.12",
          "x": "Week_of_year",
          "xref": "x",
          "y": "week",
          "yref": "y"
         },
         {
          "font": {
           "color": "#000000"
          },
          "showarrow": false,
          "text": "1.0",
          "x": "week",
          "xref": "x",
          "y": "week",
          "yref": "y"
         }
        ],
        "template": {
         "data": {
          "bar": [
           {
            "error_x": {
             "color": "#2a3f5f"
            },
            "error_y": {
             "color": "#2a3f5f"
            },
            "marker": {
             "line": {
              "color": "#E5ECF6",
              "width": 0.5
             },
             "pattern": {
              "fillmode": "overlay",
              "size": 10,
              "solidity": 0.2
             }
            },
            "type": "bar"
           }
          ],
          "barpolar": [
           {
            "marker": {
             "line": {
              "color": "#E5ECF6",
              "width": 0.5
             },
             "pattern": {
              "fillmode": "overlay",
              "size": 10,
              "solidity": 0.2
             }
            },
            "type": "barpolar"
           }
          ],
          "carpet": [
           {
            "aaxis": {
             "endlinecolor": "#2a3f5f",
             "gridcolor": "white",
             "linecolor": "white",
             "minorgridcolor": "white",
             "startlinecolor": "#2a3f5f"
            },
            "baxis": {
             "endlinecolor": "#2a3f5f",
             "gridcolor": "white",
             "linecolor": "white",
             "minorgridcolor": "white",
             "startlinecolor": "#2a3f5f"
            },
            "type": "carpet"
           }
          ],
          "choropleth": [
           {
            "colorbar": {
             "outlinewidth": 0,
             "ticks": ""
            },
            "type": "choropleth"
           }
          ],
          "contour": [
           {
            "colorbar": {
             "outlinewidth": 0,
             "ticks": ""
            },
            "colorscale": [
             [
              0,
              "#0d0887"
             ],
             [
              0.1111111111111111,
              "#46039f"
             ],
             [
              0.2222222222222222,
              "#7201a8"
             ],
             [
              0.3333333333333333,
              "#9c179e"
             ],
             [
              0.4444444444444444,
              "#bd3786"
             ],
             [
              0.5555555555555556,
              "#d8576b"
             ],
             [
              0.6666666666666666,
              "#ed7953"
             ],
             [
              0.7777777777777778,
              "#fb9f3a"
             ],
             [
              0.8888888888888888,
              "#fdca26"
             ],
             [
              1,
              "#f0f921"
             ]
            ],
            "type": "contour"
           }
          ],
          "contourcarpet": [
           {
            "colorbar": {
             "outlinewidth": 0,
             "ticks": ""
            },
            "type": "contourcarpet"
           }
          ],
          "heatmap": [
           {
            "colorbar": {
             "outlinewidth": 0,
             "ticks": ""
            },
            "colorscale": [
             [
              0,
              "#0d0887"
             ],
             [
              0.1111111111111111,
              "#46039f"
             ],
             [
              0.2222222222222222,
              "#7201a8"
             ],
             [
              0.3333333333333333,
              "#9c179e"
             ],
             [
              0.4444444444444444,
              "#bd3786"
             ],
             [
              0.5555555555555556,
              "#d8576b"
             ],
             [
              0.6666666666666666,
              "#ed7953"
             ],
             [
              0.7777777777777778,
              "#fb9f3a"
             ],
             [
              0.8888888888888888,
              "#fdca26"
             ],
             [
              1,
              "#f0f921"
             ]
            ],
            "type": "heatmap"
           }
          ],
          "histogram": [
           {
            "marker": {
             "pattern": {
              "fillmode": "overlay",
              "size": 10,
              "solidity": 0.2
             }
            },
            "type": "histogram"
           }
          ],
          "histogram2d": [
           {
            "colorbar": {
             "outlinewidth": 0,
             "ticks": ""
            },
            "colorscale": [
             [
              0,
              "#0d0887"
             ],
             [
              0.1111111111111111,
              "#46039f"
             ],
             [
              0.2222222222222222,
              "#7201a8"
             ],
             [
              0.3333333333333333,
              "#9c179e"
             ],
             [
              0.4444444444444444,
              "#bd3786"
             ],
             [
              0.5555555555555556,
              "#d8576b"
             ],
             [
              0.6666666666666666,
              "#ed7953"
             ],
             [
              0.7777777777777778,
              "#fb9f3a"
             ],
             [
              0.8888888888888888,
              "#fdca26"
             ],
             [
              1,
              "#f0f921"
             ]
            ],
            "type": "histogram2d"
           }
          ],
          "histogram2dcontour": [
           {
            "colorbar": {
             "outlinewidth": 0,
             "ticks": ""
            },
            "colorscale": [
             [
              0,
              "#0d0887"
             ],
             [
              0.1111111111111111,
              "#46039f"
             ],
             [
              0.2222222222222222,
              "#7201a8"
             ],
             [
              0.3333333333333333,
              "#9c179e"
             ],
             [
              0.4444444444444444,
              "#bd3786"
             ],
             [
              0.5555555555555556,
              "#d8576b"
             ],
             [
              0.6666666666666666,
              "#ed7953"
             ],
             [
              0.7777777777777778,
              "#fb9f3a"
             ],
             [
              0.8888888888888888,
              "#fdca26"
             ],
             [
              1,
              "#f0f921"
             ]
            ],
            "type": "histogram2dcontour"
           }
          ],
          "mesh3d": [
           {
            "colorbar": {
             "outlinewidth": 0,
             "ticks": ""
            },
            "type": "mesh3d"
           }
          ],
          "parcoords": [
           {
            "line": {
             "colorbar": {
              "outlinewidth": 0,
              "ticks": ""
             }
            },
            "type": "parcoords"
           }
          ],
          "pie": [
           {
            "automargin": true,
            "type": "pie"
           }
          ],
          "scatter": [
           {
            "fillpattern": {
             "fillmode": "overlay",
             "size": 10,
             "solidity": 0.2
            },
            "type": "scatter"
           }
          ],
          "scatter3d": [
           {
            "line": {
             "colorbar": {
              "outlinewidth": 0,
              "ticks": ""
             }
            },
            "marker": {
             "colorbar": {
              "outlinewidth": 0,
              "ticks": ""
             }
            },
            "type": "scatter3d"
           }
          ],
          "scattercarpet": [
           {
            "marker": {
             "colorbar": {
              "outlinewidth": 0,
              "ticks": ""
             }
            },
            "type": "scattercarpet"
           }
          ],
          "scattergeo": [
           {
            "marker": {
             "colorbar": {
              "outlinewidth": 0,
              "ticks": ""
             }
            },
            "type": "scattergeo"
           }
          ],
          "scattergl": [
           {
            "marker": {
             "colorbar": {
              "outlinewidth": 0,
              "ticks": ""
             }
            },
            "type": "scattergl"
           }
          ],
          "scattermap": [
           {
            "marker": {
             "colorbar": {
              "outlinewidth": 0,
              "ticks": ""
             }
            },
            "type": "scattermap"
           }
          ],
          "scattermapbox": [
           {
            "marker": {
             "colorbar": {
              "outlinewidth": 0,
              "ticks": ""
             }
            },
            "type": "scattermapbox"
           }
          ],
          "scatterpolar": [
           {
            "marker": {
             "colorbar": {
              "outlinewidth": 0,
              "ticks": ""
             }
            },
            "type": "scatterpolar"
           }
          ],
          "scatterpolargl": [
           {
            "marker": {
             "colorbar": {
              "outlinewidth": 0,
              "ticks": ""
             }
            },
            "type": "scatterpolargl"
           }
          ],
          "scatterternary": [
           {
            "marker": {
             "colorbar": {
              "outlinewidth": 0,
              "ticks": ""
             }
            },
            "type": "scatterternary"
           }
          ],
          "surface": [
           {
            "colorbar": {
             "outlinewidth": 0,
             "ticks": ""
            },
            "colorscale": [
             [
              0,
              "#0d0887"
             ],
             [
              0.1111111111111111,
              "#46039f"
             ],
             [
              0.2222222222222222,
              "#7201a8"
             ],
             [
              0.3333333333333333,
              "#9c179e"
             ],
             [
              0.4444444444444444,
              "#bd3786"
             ],
             [
              0.5555555555555556,
              "#d8576b"
             ],
             [
              0.6666666666666666,
              "#ed7953"
             ],
             [
              0.7777777777777778,
              "#fb9f3a"
             ],
             [
              0.8888888888888888,
              "#fdca26"
             ],
             [
              1,
              "#f0f921"
             ]
            ],
            "type": "surface"
           }
          ],
          "table": [
           {
            "cells": {
             "fill": {
              "color": "#EBF0F8"
             },
             "line": {
              "color": "white"
             }
            },
            "header": {
             "fill": {
              "color": "#C8D4E3"
             },
             "line": {
              "color": "white"
             }
            },
            "type": "table"
           }
          ]
         },
         "layout": {
          "annotationdefaults": {
           "arrowcolor": "#2a3f5f",
           "arrowhead": 0,
           "arrowwidth": 1
          },
          "autotypenumbers": "strict",
          "coloraxis": {
           "colorbar": {
            "outlinewidth": 0,
            "ticks": ""
           }
          },
          "colorscale": {
           "diverging": [
            [
             0,
             "#8e0152"
            ],
            [
             0.1,
             "#c51b7d"
            ],
            [
             0.2,
             "#de77ae"
            ],
            [
             0.3,
             "#f1b6da"
            ],
            [
             0.4,
             "#fde0ef"
            ],
            [
             0.5,
             "#f7f7f7"
            ],
            [
             0.6,
             "#e6f5d0"
            ],
            [
             0.7,
             "#b8e186"
            ],
            [
             0.8,
             "#7fbc41"
            ],
            [
             0.9,
             "#4d9221"
            ],
            [
             1,
             "#276419"
            ]
           ],
           "sequential": [
            [
             0,
             "#0d0887"
            ],
            [
             0.1111111111111111,
             "#46039f"
            ],
            [
             0.2222222222222222,
             "#7201a8"
            ],
            [
             0.3333333333333333,
             "#9c179e"
            ],
            [
             0.4444444444444444,
             "#bd3786"
            ],
            [
             0.5555555555555556,
             "#d8576b"
            ],
            [
             0.6666666666666666,
             "#ed7953"
            ],
            [
             0.7777777777777778,
             "#fb9f3a"
            ],
            [
             0.8888888888888888,
             "#fdca26"
            ],
            [
             1,
             "#f0f921"
            ]
           ],
           "sequentialminus": [
            [
             0,
             "#0d0887"
            ],
            [
             0.1111111111111111,
             "#46039f"
            ],
            [
             0.2222222222222222,
             "#7201a8"
            ],
            [
             0.3333333333333333,
             "#9c179e"
            ],
            [
             0.4444444444444444,
             "#bd3786"
            ],
            [
             0.5555555555555556,
             "#d8576b"
            ],
            [
             0.6666666666666666,
             "#ed7953"
            ],
            [
             0.7777777777777778,
             "#fb9f3a"
            ],
            [
             0.8888888888888888,
             "#fdca26"
            ],
            [
             1,
             "#f0f921"
            ]
           ]
          },
          "colorway": [
           "#636efa",
           "#EF553B",
           "#00cc96",
           "#ab63fa",
           "#FFA15A",
           "#19d3f3",
           "#FF6692",
           "#B6E880",
           "#FF97FF",
           "#FECB52"
          ],
          "font": {
           "color": "#2a3f5f"
          },
          "geo": {
           "bgcolor": "white",
           "lakecolor": "white",
           "landcolor": "#E5ECF6",
           "showlakes": true,
           "showland": true,
           "subunitcolor": "white"
          },
          "hoverlabel": {
           "align": "left"
          },
          "hovermode": "closest",
          "mapbox": {
           "style": "light"
          },
          "paper_bgcolor": "white",
          "plot_bgcolor": "#E5ECF6",
          "polar": {
           "angularaxis": {
            "gridcolor": "white",
            "linecolor": "white",
            "ticks": ""
           },
           "bgcolor": "#E5ECF6",
           "radialaxis": {
            "gridcolor": "white",
            "linecolor": "white",
            "ticks": ""
           }
          },
          "scene": {
           "xaxis": {
            "backgroundcolor": "#E5ECF6",
            "gridcolor": "white",
            "gridwidth": 2,
            "linecolor": "white",
            "showbackground": true,
            "ticks": "",
            "zerolinecolor": "white"
           },
           "yaxis": {
            "backgroundcolor": "#E5ECF6",
            "gridcolor": "white",
            "gridwidth": 2,
            "linecolor": "white",
            "showbackground": true,
            "ticks": "",
            "zerolinecolor": "white"
           },
           "zaxis": {
            "backgroundcolor": "#E5ECF6",
            "gridcolor": "white",
            "gridwidth": 2,
            "linecolor": "white",
            "showbackground": true,
            "ticks": "",
            "zerolinecolor": "white"
           }
          },
          "shapedefaults": {
           "line": {
            "color": "#2a3f5f"
           }
          },
          "ternary": {
           "aaxis": {
            "gridcolor": "white",
            "linecolor": "white",
            "ticks": ""
           },
           "baxis": {
            "gridcolor": "white",
            "linecolor": "white",
            "ticks": ""
           },
           "bgcolor": "#E5ECF6",
           "caxis": {
            "gridcolor": "white",
            "linecolor": "white",
            "ticks": ""
           }
          },
          "title": {
           "x": 0.05
          },
          "xaxis": {
           "automargin": true,
           "gridcolor": "white",
           "linecolor": "white",
           "ticks": "",
           "title": {
            "standoff": 15
           },
           "zerolinecolor": "white",
           "zerolinewidth": 2
          },
          "yaxis": {
           "automargin": true,
           "gridcolor": "white",
           "linecolor": "white",
           "ticks": "",
           "title": {
            "standoff": 15
           },
           "zerolinecolor": "white",
           "zerolinewidth": 2
          }
         }
        },
        "xaxis": {
         "dtick": 1,
         "gridcolor": "rgb(0, 0, 0)",
         "side": "top",
         "ticks": ""
        },
        "yaxis": {
         "dtick": 1,
         "ticks": "",
         "ticksuffix": "  "
        }
       }
      }
     },
     "metadata": {},
     "output_type": "display_data"
    }
   ],
   "source": [
    "# Correlation matrix\n",
    "corr_matrix = df1.corr(numeric_only=True).round(2)\n",
    "\n",
    "\n",
    "fig = ff.create_annotated_heatmap(corr_matrix.values,\n",
    "                                  x = corr_matrix.columns.tolist(),\n",
    "                                  y = corr_matrix.index.tolist())\n",
    "\n",
    "\n",
    "fig.show()"
   ]
  },
  {
   "cell_type": "markdown",
   "metadata": {},
   "source": [
    "Average weekly sales are around $1.25M, with a median of approximately $1.25M as well. They range from $269K to $2.77M, indicating significant variation throughout the year.\n",
    "\n",
    "The weekly sales are slightly higher at the begining and at the end of the month (week 1 and week 4).\n",
    "\n",
    "Sales peak in December, averaging $2.15M per week, with the first week of the month reaching as high as $2.45M. January and February follow, with average weekly sales of around $1.52M.\n",
    "\n",
    "A slight increase is observed in the summer months, rising from April ($934K per week) to July ($1.33M per week), followed by a decline from July to October ($812K per week).\n",
    "\n",
    "From the data we have, stores 13 and 15 recorded the highest total weekly sales. However, store 4 had the highest average weekly sales.\n",
    "\n",
    "Aside from that, no clear correlation is observed between weekly sales and other variables — except for a slight negative correlation with the CPI."
   ]
  },
  {
   "cell_type": "markdown",
   "metadata": {},
   "source": [
    "## Part 2 : Train a linera regression model"
   ]
  },
  {
   "cell_type": "markdown",
   "metadata": {},
   "source": [
    "## Preprocessing"
   ]
  },
  {
   "cell_type": "markdown",
   "metadata": {},
   "source": [
    "### 1. Dealing with missing values in Holiday_Flag "
   ]
  },
  {
   "cell_type": "code",
   "execution_count": 27,
   "metadata": {},
   "outputs": [
    {
     "name": "stdout",
     "output_type": "stream",
     "text": [
      "All dates with filled Holiday_Flag values have the same value.\n"
     ]
    }
   ],
   "source": [
    "# Check for inconsistencies in Holiday_Flag for each date. \n",
    "# If > 1, some similar dates have different Holiday_Flag values.\n",
    "inconsistent_dates = df1.groupby('Date')['Holiday_Flag'].apply(lambda x: x.nunique() > 1)\n",
    "\n",
    "# Filter dates with inconsistencies\n",
    "inconsistent_dates = inconsistent_dates[inconsistent_dates].index\n",
    "\n",
    "if inconsistent_dates.empty:\n",
    "    print(\"All dates with filled Holiday_Flag values have the same value.\")\n",
    "else:\n",
    "    print(\"The following dates have inconsistencies in Holiday_Flag:\")\n",
    "    print(inconsistent_dates)"
   ]
  },
  {
   "cell_type": "code",
   "execution_count": 28,
   "metadata": {},
   "outputs": [
    {
     "data": {
      "text/html": [
       "<div>\n",
       "<style scoped>\n",
       "    .dataframe tbody tr th:only-of-type {\n",
       "        vertical-align: middle;\n",
       "    }\n",
       "\n",
       "    .dataframe tbody tr th {\n",
       "        vertical-align: top;\n",
       "    }\n",
       "\n",
       "    .dataframe thead th {\n",
       "        text-align: right;\n",
       "    }\n",
       "</style>\n",
       "<table border=\"1\" class=\"dataframe\">\n",
       "  <thead>\n",
       "    <tr style=\"text-align: right;\">\n",
       "      <th></th>\n",
       "      <th>Store</th>\n",
       "      <th>Date</th>\n",
       "      <th>Weekly_Sales</th>\n",
       "      <th>Holiday_Flag</th>\n",
       "      <th>Temperature</th>\n",
       "      <th>Fuel_Price</th>\n",
       "      <th>CPI</th>\n",
       "      <th>Unemployment</th>\n",
       "      <th>Month</th>\n",
       "      <th>Year</th>\n",
       "      <th>Week_of_year</th>\n",
       "      <th>week</th>\n",
       "    </tr>\n",
       "  </thead>\n",
       "  <tbody>\n",
       "    <tr>\n",
       "      <th>0</th>\n",
       "      <td>6.0</td>\n",
       "      <td>2011-02-18</td>\n",
       "      <td>1572117.54</td>\n",
       "      <td>NaN</td>\n",
       "      <td>59.61</td>\n",
       "      <td>3.045</td>\n",
       "      <td>214.777523</td>\n",
       "      <td>6.858</td>\n",
       "      <td>2.0</td>\n",
       "      <td>2011.0</td>\n",
       "      <td>7</td>\n",
       "      <td>3.0</td>\n",
       "    </tr>\n",
       "    <tr>\n",
       "      <th>15</th>\n",
       "      <td>6.0</td>\n",
       "      <td>2010-04-30</td>\n",
       "      <td>1498080.16</td>\n",
       "      <td>NaN</td>\n",
       "      <td>68.91</td>\n",
       "      <td>2.780</td>\n",
       "      <td>211.894272</td>\n",
       "      <td>7.092</td>\n",
       "      <td>4.0</td>\n",
       "      <td>2010.0</td>\n",
       "      <td>17</td>\n",
       "      <td>5.0</td>\n",
       "    </tr>\n",
       "    <tr>\n",
       "      <th>43</th>\n",
       "      <td>7.0</td>\n",
       "      <td>2011-08-26</td>\n",
       "      <td>629994.47</td>\n",
       "      <td>NaN</td>\n",
       "      <td>57.60</td>\n",
       "      <td>3.485</td>\n",
       "      <td>194.379637</td>\n",
       "      <td>8.622</td>\n",
       "      <td>8.0</td>\n",
       "      <td>2011.0</td>\n",
       "      <td>34</td>\n",
       "      <td>4.0</td>\n",
       "    </tr>\n",
       "    <tr>\n",
       "      <th>48</th>\n",
       "      <td>1.0</td>\n",
       "      <td>2011-08-05</td>\n",
       "      <td>1624383.75</td>\n",
       "      <td>NaN</td>\n",
       "      <td>91.65</td>\n",
       "      <td>3.684</td>\n",
       "      <td>215.544618</td>\n",
       "      <td>7.962</td>\n",
       "      <td>8.0</td>\n",
       "      <td>2011.0</td>\n",
       "      <td>31</td>\n",
       "      <td>1.0</td>\n",
       "    </tr>\n",
       "    <tr>\n",
       "      <th>53</th>\n",
       "      <td>14.0</td>\n",
       "      <td>2011-03-25</td>\n",
       "      <td>1879451.23</td>\n",
       "      <td>NaN</td>\n",
       "      <td>41.76</td>\n",
       "      <td>3.625</td>\n",
       "      <td>184.994368</td>\n",
       "      <td>8.549</td>\n",
       "      <td>3.0</td>\n",
       "      <td>2011.0</td>\n",
       "      <td>12</td>\n",
       "      <td>4.0</td>\n",
       "    </tr>\n",
       "    <tr>\n",
       "      <th>65</th>\n",
       "      <td>10.0</td>\n",
       "      <td>NaT</td>\n",
       "      <td>1714309.90</td>\n",
       "      <td>NaN</td>\n",
       "      <td>43.43</td>\n",
       "      <td>3.287</td>\n",
       "      <td>127.191774</td>\n",
       "      <td>8.744</td>\n",
       "      <td>NaN</td>\n",
       "      <td>NaN</td>\n",
       "      <td>&lt;NA&gt;</td>\n",
       "      <td>NaN</td>\n",
       "    </tr>\n",
       "    <tr>\n",
       "      <th>73</th>\n",
       "      <td>1.0</td>\n",
       "      <td>2010-08-27</td>\n",
       "      <td>1449142.92</td>\n",
       "      <td>NaN</td>\n",
       "      <td>85.22</td>\n",
       "      <td>2.619</td>\n",
       "      <td>211.567306</td>\n",
       "      <td>7.787</td>\n",
       "      <td>8.0</td>\n",
       "      <td>2010.0</td>\n",
       "      <td>34</td>\n",
       "      <td>4.0</td>\n",
       "    </tr>\n",
       "    <tr>\n",
       "      <th>90</th>\n",
       "      <td>9.0</td>\n",
       "      <td>2010-07-09</td>\n",
       "      <td>485389.15</td>\n",
       "      <td>NaN</td>\n",
       "      <td>78.51</td>\n",
       "      <td>2.642</td>\n",
       "      <td>214.656430</td>\n",
       "      <td>6.442</td>\n",
       "      <td>7.0</td>\n",
       "      <td>2010.0</td>\n",
       "      <td>27</td>\n",
       "      <td>2.0</td>\n",
       "    </tr>\n",
       "    <tr>\n",
       "      <th>109</th>\n",
       "      <td>1.0</td>\n",
       "      <td>2011-12-09</td>\n",
       "      <td>NaN</td>\n",
       "      <td>NaN</td>\n",
       "      <td>43.93</td>\n",
       "      <td>3.158</td>\n",
       "      <td>218.961846</td>\n",
       "      <td>7.866</td>\n",
       "      <td>12.0</td>\n",
       "      <td>2011.0</td>\n",
       "      <td>49</td>\n",
       "      <td>2.0</td>\n",
       "    </tr>\n",
       "    <tr>\n",
       "      <th>118</th>\n",
       "      <td>9.0</td>\n",
       "      <td>2010-06-18</td>\n",
       "      <td>513073.87</td>\n",
       "      <td>NaN</td>\n",
       "      <td>82.99</td>\n",
       "      <td>2.637</td>\n",
       "      <td>215.016648</td>\n",
       "      <td>6.384</td>\n",
       "      <td>6.0</td>\n",
       "      <td>2010.0</td>\n",
       "      <td>24</td>\n",
       "      <td>3.0</td>\n",
       "    </tr>\n",
       "    <tr>\n",
       "      <th>136</th>\n",
       "      <td>4.0</td>\n",
       "      <td>2011-07-08</td>\n",
       "      <td>2066541.86</td>\n",
       "      <td>NaN</td>\n",
       "      <td>84.59</td>\n",
       "      <td>3.469</td>\n",
       "      <td>129.112500</td>\n",
       "      <td>5.644</td>\n",
       "      <td>7.0</td>\n",
       "      <td>2011.0</td>\n",
       "      <td>27</td>\n",
       "      <td>2.0</td>\n",
       "    </tr>\n",
       "    <tr>\n",
       "      <th>146</th>\n",
       "      <td>7.0</td>\n",
       "      <td>NaT</td>\n",
       "      <td>716388.81</td>\n",
       "      <td>NaN</td>\n",
       "      <td>20.74</td>\n",
       "      <td>2.778</td>\n",
       "      <td>NaN</td>\n",
       "      <td>NaN</td>\n",
       "      <td>NaN</td>\n",
       "      <td>NaN</td>\n",
       "      <td>&lt;NA&gt;</td>\n",
       "      <td>NaN</td>\n",
       "    </tr>\n",
       "  </tbody>\n",
       "</table>\n",
       "</div>"
      ],
      "text/plain": [
       "     Store       Date  Weekly_Sales  Holiday_Flag  Temperature  Fuel_Price  \\\n",
       "0      6.0 2011-02-18    1572117.54           NaN        59.61       3.045   \n",
       "15     6.0 2010-04-30    1498080.16           NaN        68.91       2.780   \n",
       "43     7.0 2011-08-26     629994.47           NaN        57.60       3.485   \n",
       "48     1.0 2011-08-05    1624383.75           NaN        91.65       3.684   \n",
       "53    14.0 2011-03-25    1879451.23           NaN        41.76       3.625   \n",
       "65    10.0        NaT    1714309.90           NaN        43.43       3.287   \n",
       "73     1.0 2010-08-27    1449142.92           NaN        85.22       2.619   \n",
       "90     9.0 2010-07-09     485389.15           NaN        78.51       2.642   \n",
       "109    1.0 2011-12-09           NaN           NaN        43.93       3.158   \n",
       "118    9.0 2010-06-18     513073.87           NaN        82.99       2.637   \n",
       "136    4.0 2011-07-08    2066541.86           NaN        84.59       3.469   \n",
       "146    7.0        NaT     716388.81           NaN        20.74       2.778   \n",
       "\n",
       "            CPI  Unemployment  Month    Year  Week_of_year  week  \n",
       "0    214.777523         6.858    2.0  2011.0             7   3.0  \n",
       "15   211.894272         7.092    4.0  2010.0            17   5.0  \n",
       "43   194.379637         8.622    8.0  2011.0            34   4.0  \n",
       "48   215.544618         7.962    8.0  2011.0            31   1.0  \n",
       "53   184.994368         8.549    3.0  2011.0            12   4.0  \n",
       "65   127.191774         8.744    NaN     NaN          <NA>   NaN  \n",
       "73   211.567306         7.787    8.0  2010.0            34   4.0  \n",
       "90   214.656430         6.442    7.0  2010.0            27   2.0  \n",
       "109  218.961846         7.866   12.0  2011.0            49   2.0  \n",
       "118  215.016648         6.384    6.0  2010.0            24   3.0  \n",
       "136  129.112500         5.644    7.0  2011.0            27   2.0  \n",
       "146         NaN           NaN    NaN     NaN          <NA>   NaN  "
      ]
     },
     "execution_count": 28,
     "metadata": {},
     "output_type": "execute_result"
    }
   ],
   "source": [
    "missing_holiday = df1[df1[\"Holiday_Flag\"].isnull()]\n",
    "missing_holiday"
   ]
  },
  {
   "cell_type": "code",
   "execution_count": 29,
   "metadata": {},
   "outputs": [],
   "source": [
    "# Create a dictionary mapping dates to Holiday_Flag values from no_missing_holiday\n",
    "no_missing_holiday = df1.drop(missing_holiday.index)\n",
    "no_missing_holiday=no_missing_holiday[[\"Date\",\"Holiday_Flag\"]]\n",
    "no_missing_holiday=no_missing_holiday.drop_duplicates(subset='Date')\n",
    "no_missing_holiday = no_missing_holiday.dropna(subset=['Date'])\n",
    "\n",
    "holiday_map = no_missing_holiday.set_index('Date')['Holiday_Flag'].to_dict()\n"
   ]
  },
  {
   "cell_type": "code",
   "execution_count": 30,
   "metadata": {},
   "outputs": [
    {
     "data": {
      "text/plain": [
       "Store            0\n",
       "Date            18\n",
       "Weekly_Sales    14\n",
       "Holiday_Flag     6\n",
       "Temperature     18\n",
       "Fuel_Price      14\n",
       "CPI             12\n",
       "Unemployment    15\n",
       "Month           18\n",
       "Year            18\n",
       "Week_of_year    18\n",
       "week            18\n",
       "dtype: int64"
      ]
     },
     "execution_count": 30,
     "metadata": {},
     "output_type": "execute_result"
    }
   ],
   "source": [
    "# Fill missing values in Holyday_Flag using the dictionary\n",
    "df1['Holiday_Flag'] = df1.apply(\n",
    "    lambda row: holiday_map.get(row['Date'], row['Holiday_Flag']), axis=1\n",
    ")\n",
    "df1.isnull().sum()"
   ]
  },
  {
   "cell_type": "code",
   "execution_count": 31,
   "metadata": {},
   "outputs": [
    {
     "data": {
      "text/plain": [
       "Store            0\n",
       "Date            18\n",
       "Weekly_Sales    14\n",
       "Holiday_Flag     0\n",
       "Temperature     18\n",
       "Fuel_Price      14\n",
       "CPI             12\n",
       "Unemployment    15\n",
       "Month           18\n",
       "Year            18\n",
       "Week_of_year    18\n",
       "week            18\n",
       "dtype: int64"
      ]
     },
     "execution_count": 31,
     "metadata": {},
     "output_type": "execute_result"
    }
   ],
   "source": [
    "# Fill missing values that have not been replaced in Holyday_Flag by 0\n",
    "df1['Holiday_Flag'] = df1['Holiday_Flag'].fillna(0)\n",
    "df1.isnull().sum()"
   ]
  },
  {
   "cell_type": "code",
   "execution_count": 32,
   "metadata": {},
   "outputs": [],
   "source": [
    "# Droping Date and Week_of_year column as they won't be needed anymore\n",
    "df1 = df1.drop(\"Date\", axis=1)\n",
    "df1 = df1.drop(\"Week_of_year\", axis=1)"
   ]
  },
  {
   "cell_type": "code",
   "execution_count": 33,
   "metadata": {},
   "outputs": [
    {
     "data": {
      "text/plain": [
       "(150, 10)"
      ]
     },
     "execution_count": 33,
     "metadata": {},
     "output_type": "execute_result"
    }
   ],
   "source": [
    "df1.shape"
   ]
  },
  {
   "cell_type": "markdown",
   "metadata": {},
   "source": [
    "### 2. Dropping lines with missing value in the target and in date"
   ]
  },
  {
   "cell_type": "code",
   "execution_count": 34,
   "metadata": {},
   "outputs": [
    {
     "data": {
      "text/plain": [
       "Store            0\n",
       "Weekly_Sales     0\n",
       "Holiday_Flag     0\n",
       "Temperature     15\n",
       "Fuel_Price      12\n",
       "CPI             11\n",
       "Unemployment    14\n",
       "Month           18\n",
       "Year            18\n",
       "week            18\n",
       "dtype: int64"
      ]
     },
     "execution_count": 34,
     "metadata": {},
     "output_type": "execute_result"
    }
   ],
   "source": [
    "# No imputation can be done to replace missing values on target variable since it could bias the model. \n",
    "# We will need to drop these lines.\n",
    "df1 = df1.dropna(subset=['Weekly_Sales'])\n",
    "df1.isnull().sum()"
   ]
  },
  {
   "cell_type": "code",
   "execution_count": 35,
   "metadata": {},
   "outputs": [
    {
     "data": {
      "text/plain": [
       "Store            0\n",
       "Weekly_Sales     0\n",
       "Holiday_Flag     0\n",
       "Temperature     11\n",
       "Fuel_Price      11\n",
       "CPI              9\n",
       "Unemployment    11\n",
       "Month            0\n",
       "Year             0\n",
       "week             0\n",
       "dtype: int64"
      ]
     },
     "execution_count": 35,
     "metadata": {},
     "output_type": "execute_result"
    }
   ],
   "source": [
    "# No logical imputation can be done to replace missing values on Date variable.\n",
    "# We will need to drop these lines.\n",
    "df1 = df1.dropna(subset=['Month'])\n",
    "df1 = df1.dropna(subset=['Year'])\n",
    "df1 = df1.dropna(subset=['week'])\n",
    "\n",
    "df1.isnull().sum()"
   ]
  },
  {
   "cell_type": "code",
   "execution_count": 36,
   "metadata": {},
   "outputs": [
    {
     "data": {
      "text/plain": [
       "(118, 10)"
      ]
     },
     "execution_count": 36,
     "metadata": {},
     "output_type": "execute_result"
    }
   ],
   "source": [
    "df1.shape"
   ]
  },
  {
   "cell_type": "markdown",
   "metadata": {},
   "source": [
    "### 3. Dropping lines with outliers"
   ]
  },
  {
   "cell_type": "markdown",
   "metadata": {},
   "source": [
    "In this project, will be considered as outliers all the numeric features that don't fall within the range : $[\\bar{X} - 3\\sigma, \\bar{X} + 3\\sigma]$. As said earlier, this concerns the columns *Unemployment*."
   ]
  },
  {
   "cell_type": "code",
   "execution_count": 37,
   "metadata": {},
   "outputs": [
    {
     "data": {
      "text/plain": [
       "(113, 10)"
      ]
     },
     "execution_count": 37,
     "metadata": {},
     "output_type": "execute_result"
    }
   ],
   "source": [
    "# Drop lines containing outliers without droping lines with missing values \n",
    "columns_to_clean = ['Unemployment']\n",
    "\n",
    "for column in columns_to_clean:\n",
    "    mean = df1[column].mean()\n",
    "    std = df1[column].std()\n",
    "    lower_bound = mean - 3 * std\n",
    "    upper_bound = mean + 3 * std\n",
    "    df1 = df1[(df1[column].isna()) | ((df1[column] > lower_bound) & (df1[column] < upper_bound))]\n",
    "df1.shape"
   ]
  },
  {
   "cell_type": "code",
   "execution_count": 38,
   "metadata": {},
   "outputs": [
    {
     "data": {
      "text/plain": [
       "Store            0\n",
       "Weekly_Sales     0\n",
       "Holiday_Flag     0\n",
       "Temperature     10\n",
       "Fuel_Price      11\n",
       "CPI              9\n",
       "Unemployment    11\n",
       "Month            0\n",
       "Year             0\n",
       "week             0\n",
       "dtype: int64"
      ]
     },
     "execution_count": 38,
     "metadata": {},
     "output_type": "execute_result"
    }
   ],
   "source": [
    "df1.isnull().sum()"
   ]
  },
  {
   "cell_type": "markdown",
   "metadata": {},
   "source": [
    "### 4. Identifying the target variable and spliting in train and test sets"
   ]
  },
  {
   "cell_type": "code",
   "execution_count": 39,
   "metadata": {},
   "outputs": [
    {
     "name": "stdout",
     "output_type": "stream",
     "text": [
      "0    1572117.54\n",
      "1    1807545.43\n",
      "4    1644470.66\n",
      "5    1857533.70\n",
      "6     695396.19\n",
      "Name: Weekly_Sales, dtype: float64\n",
      "\n",
      "   Store  Holiday_Flag  Temperature  Fuel_Price         CPI  Unemployment  \\\n",
      "0    6.0           0.0        59.61       3.045  214.777523         6.858   \n",
      "1   13.0           0.0        42.38       3.435  128.616064         7.470   \n",
      "4    6.0           0.0        78.89       2.759  212.412888         7.092   \n",
      "5    4.0           0.0          NaN       2.756  126.160226         7.896   \n",
      "6   15.0           0.0        69.80       4.069  134.855161         7.658   \n",
      "\n",
      "   Month    Year  week  \n",
      "0    2.0  2011.0   3.0  \n",
      "1    3.0  2011.0   4.0  \n",
      "4    5.0  2010.0   4.0  \n",
      "5    5.0  2010.0   4.0  \n",
      "6    6.0  2011.0   1.0  \n",
      "\n"
     ]
    }
   ],
   "source": [
    "# Separate target variable Y from features X\n",
    "target_name = \"Weekly_Sales\"\n",
    "\n",
    "Y = df1.loc[:, target_name]\n",
    "X = df1.drop(target_name, axis=1)\n",
    "\n",
    "print(Y.head())\n",
    "print()\n",
    "print(X.head())\n",
    "print()"
   ]
  },
  {
   "cell_type": "code",
   "execution_count": 40,
   "metadata": {},
   "outputs": [],
   "source": [
    "# divide dataset into train set & test set \n",
    "X_train, X_test, Y_train, Y_test = train_test_split(X, Y, test_size=0.2, random_state=42)"
   ]
  },
  {
   "cell_type": "markdown",
   "metadata": {},
   "source": [
    "### 5. Imputation of missing values, standardizing and one-hot encoding "
   ]
  },
  {
   "cell_type": "code",
   "execution_count": 41,
   "metadata": {},
   "outputs": [],
   "source": [
    "# identifying numeric and categoric features\n",
    "numeric_features = ['Temperature', 'Fuel_Price','CPI', 'Unemployment']  \n",
    "categoric_features = ['Store', 'Holiday_Flag','Month', 'Year', 'week']"
   ]
  },
  {
   "cell_type": "code",
   "execution_count": 43,
   "metadata": {},
   "outputs": [
    {
     "data": {
      "text/plain": [
       "Store           0\n",
       "Holiday_Flag    0\n",
       "Temperature     9\n",
       "Fuel_Price      8\n",
       "CPI             8\n",
       "Unemployment    9\n",
       "Month           0\n",
       "Year            0\n",
       "week            0\n",
       "dtype: int64"
      ]
     },
     "execution_count": 43,
     "metadata": {},
     "output_type": "execute_result"
    }
   ],
   "source": [
    "missing_values = X_train.isnull().sum()\n",
    "missing_values"
   ]
  },
  {
   "cell_type": "code",
   "execution_count": 44,
   "metadata": {},
   "outputs": [
    {
     "data": {
      "text/plain": [
       "Store           0\n",
       "Holiday_Flag    0\n",
       "Temperature     1\n",
       "Fuel_Price      3\n",
       "CPI             1\n",
       "Unemployment    2\n",
       "Month           0\n",
       "Year            0\n",
       "week            0\n",
       "dtype: int64"
      ]
     },
     "execution_count": 44,
     "metadata": {},
     "output_type": "execute_result"
    }
   ],
   "source": [
    "missing_values = X_test.isnull().sum()\n",
    "missing_values"
   ]
  },
  {
   "cell_type": "code",
   "execution_count": 45,
   "metadata": {},
   "outputs": [],
   "source": [
    "preprocessor = ColumnTransformer([\n",
    "  ('num', Pipeline([\n",
    "    ('num_imputer', KNNImputer()), # Imputing with KNN since the value can correlated to the Date or to the Store\n",
    "    ('num_scaler', StandardScaler())\n",
    "  ]), numeric_features),\n",
    "  ('cat', Pipeline([\n",
    "    ('cat_encoder', OneHotEncoder(drop=\"if_binary\")) # No more missing values in these variables\n",
    "  ]), categoric_features)\n",
    "])\n",
    "\n",
    "preprocessor.fit(X_train)\n",
    "\n",
    "X_train = preprocessor.transform(X_train)\n",
    "X_test = preprocessor.transform(X_test)"
   ]
  },
  {
   "cell_type": "markdown",
   "metadata": {},
   "source": [
    "## Base line model"
   ]
  },
  {
   "cell_type": "code",
   "execution_count": 46,
   "metadata": {},
   "outputs": [
    {
     "name": "stdout",
     "output_type": "stream",
     "text": [
      "R2 Train: 0.991766661376624\n",
      "R2 Test: 0.937586008115087\n",
      "RMSE Train :  62813.05498097165\n",
      "RMSE Test :  145562.5802796255\n"
     ]
    }
   ],
   "source": [
    "baseline_model = LinearRegression()\n",
    "baseline_model.fit(X_train, Y_train)\n",
    "print(f\"R2 Train: {baseline_model.score(X_train, Y_train)}\\nR2 Test: {baseline_model.score(X_test, Y_test)}\")\n",
    "\n",
    "# Predictions on train and test\n",
    "Y_train_pred = baseline_model.predict(X_train)\n",
    "Y_test_pred = baseline_model.predict(X_test)\n",
    "\n",
    "# root_mean_squared_error\n",
    "print(\"RMSE Train : \", root_mean_squared_error(Y_train, Y_train_pred))\n",
    "print(\"RMSE Test : \", root_mean_squared_error(Y_test, Y_test_pred))"
   ]
  },
  {
   "cell_type": "markdown",
   "metadata": {},
   "source": [
    "First, we notice a gap between the R² train score and the R² test score, with the train score being 0.06 points higher, which suggests some overfitting.\n",
    "\n",
    "Second, the root mean square error is particularly high for both sets, meaning our model is, on average, off by $63K on the training set and $146K on the test set.\n",
    "\n",
    "Since the dataset only has 113 lines, let's do a cross validation to confirm the overfitting hypothesis."
   ]
  },
  {
   "cell_type": "code",
   "execution_count": 47,
   "metadata": {},
   "outputs": [
    {
     "name": "stdout",
     "output_type": "stream",
     "text": [
      "R2 Train : 0.991766661376624\n",
      "Cross-validated R2 score : 0.9302904178779748\n",
      "Standard deviation : 0.039914361608993254\n",
      "R2 score on test set can vary from 0.8976716465060937 to 0.9775003697240803 \n",
      "that is smaller than the cross-validated score\n"
     ]
    }
   ],
   "source": [
    "cv_scores = cross_val_score(baseline_model,X_train, Y_train, cv=5)\n",
    "avg = cv_scores.mean()\n",
    "std = cv_scores.std()\n",
    "print(\"R2 Train :\", baseline_model.score(X_train, Y_train))\n",
    "print(f'Cross-validated R2 score : {avg}')\n",
    "print(f'Standard deviation : {std}')\n",
    "print(\"R2 score on test set can vary from\", baseline_model.score(X_test, Y_test) - std, \"to\", baseline_model.score(X_test, Y_test) + std, \"\\nthat is smaller than the cross-validated score\")\n"
   ]
  },
  {
   "cell_type": "markdown",
   "metadata": {},
   "source": [
    "These results confirm some degree of overfitting. The R² score on the training set (0.991) is significantly higher than the cross-validated score (0.93). Even if we take in consideration the standard deviation, the R² score on test set remains smaller. The overfitting hypothesis is confirmed and indicate that the model may not generalize well to unseen data."
   ]
  },
  {
   "cell_type": "code",
   "execution_count": 48,
   "metadata": {},
   "outputs": [
    {
     "name": "stdout",
     "output_type": "stream",
     "text": [
      "Names of columns corresponding to each coefficient:  ['Temperature', 'Fuel_Price', 'CPI', 'Unemployment', 'Store_1.0', 'Store_2.0', 'Store_3.0', 'Store_4.0', 'Store_5.0', 'Store_6.0', 'Store_7.0', 'Store_8.0', 'Store_9.0', 'Store_10.0', 'Store_11.0', 'Store_13.0', 'Store_14.0', 'Store_15.0', 'Store_16.0', 'Store_17.0', 'Store_18.0', 'Store_19.0', 'Store_20.0', 'Holiday_Flag_1.0', 'Month_1.0', 'Month_2.0', 'Month_3.0', 'Month_4.0', 'Month_5.0', 'Month_6.0', 'Month_7.0', 'Month_8.0', 'Month_9.0', 'Month_10.0', 'Month_11.0', 'Month_12.0', 'Year_2010.0', 'Year_2011.0', 'Year_2012.0', 'week_1.0', 'week_2.0', 'week_3.0', 'week_4.0', 'week_5.0']\n"
     ]
    }
   ],
   "source": [
    "column_names = []\n",
    "for name, pipeline, features_list in preprocessor.transformers_: # loop over pipelines\n",
    "    if name == 'num': # if pipeline is for numeric variables\n",
    "        features = features_list # just get the names of columns to which it has been applied\n",
    "    else: # for categorical variables\n",
    "        features = pipeline.named_steps['cat_encoder'].get_feature_names_out() # get output columns names from OneHotEncoder\n",
    "    column_names.extend(features) # concatenate features names\n",
    "        \n",
    "print(\"Names of columns corresponding to each coefficient: \", column_names)"
   ]
  },
  {
   "cell_type": "code",
   "execution_count": 49,
   "metadata": {},
   "outputs": [],
   "source": [
    "coefs = pd.DataFrame(index = column_names, data = baseline_model.coef_.transpose(), columns=[\"coefficients\"])"
   ]
  },
  {
   "cell_type": "code",
   "execution_count": 50,
   "metadata": {},
   "outputs": [
    {
     "data": {
      "text/html": [
       "<div>\n",
       "<style scoped>\n",
       "    .dataframe tbody tr th:only-of-type {\n",
       "        vertical-align: middle;\n",
       "    }\n",
       "\n",
       "    .dataframe tbody tr th {\n",
       "        vertical-align: top;\n",
       "    }\n",
       "\n",
       "    .dataframe thead th {\n",
       "        text-align: right;\n",
       "    }\n",
       "</style>\n",
       "<table border=\"1\" class=\"dataframe\">\n",
       "  <thead>\n",
       "    <tr style=\"text-align: right;\">\n",
       "      <th></th>\n",
       "      <th>categories</th>\n",
       "      <th>coefficients</th>\n",
       "      <th>abs_coefficients</th>\n",
       "    </tr>\n",
       "  </thead>\n",
       "  <tbody>\n",
       "    <tr>\n",
       "      <th>0</th>\n",
       "      <td>Store_5.0</td>\n",
       "      <td>-943908.790177</td>\n",
       "      <td>943908.790177</td>\n",
       "    </tr>\n",
       "    <tr>\n",
       "      <th>1</th>\n",
       "      <td>Store_3.0</td>\n",
       "      <td>-902027.652517</td>\n",
       "      <td>902027.652517</td>\n",
       "    </tr>\n",
       "    <tr>\n",
       "      <th>2</th>\n",
       "      <td>Store_14.0</td>\n",
       "      <td>849339.310616</td>\n",
       "      <td>849339.310616</td>\n",
       "    </tr>\n",
       "    <tr>\n",
       "      <th>3</th>\n",
       "      <td>Store_9.0</td>\n",
       "      <td>-805007.652384</td>\n",
       "      <td>805007.652384</td>\n",
       "    </tr>\n",
       "    <tr>\n",
       "      <th>4</th>\n",
       "      <td>Store_15.0</td>\n",
       "      <td>-753527.221914</td>\n",
       "      <td>753527.221914</td>\n",
       "    </tr>\n",
       "    <tr>\n",
       "      <th>5</th>\n",
       "      <td>Store_2.0</td>\n",
       "      <td>696635.591019</td>\n",
       "      <td>696635.591019</td>\n",
       "    </tr>\n",
       "    <tr>\n",
       "      <th>6</th>\n",
       "      <td>Store_16.0</td>\n",
       "      <td>-682903.817576</td>\n",
       "      <td>682903.817576</td>\n",
       "    </tr>\n",
       "    <tr>\n",
       "      <th>7</th>\n",
       "      <td>Store_11.0</td>\n",
       "      <td>658631.572570</td>\n",
       "      <td>658631.572570</td>\n",
       "    </tr>\n",
       "    <tr>\n",
       "      <th>8</th>\n",
       "      <td>Store_20.0</td>\n",
       "      <td>647037.176285</td>\n",
       "      <td>647037.176285</td>\n",
       "    </tr>\n",
       "    <tr>\n",
       "      <th>9</th>\n",
       "      <td>Store_13.0</td>\n",
       "      <td>635953.728883</td>\n",
       "      <td>635953.728883</td>\n",
       "    </tr>\n",
       "    <tr>\n",
       "      <th>10</th>\n",
       "      <td>Store_10.0</td>\n",
       "      <td>601259.723137</td>\n",
       "      <td>601259.723137</td>\n",
       "    </tr>\n",
       "    <tr>\n",
       "      <th>11</th>\n",
       "      <td>Store_4.0</td>\n",
       "      <td>588505.415164</td>\n",
       "      <td>588505.415164</td>\n",
       "    </tr>\n",
       "    <tr>\n",
       "      <th>12</th>\n",
       "      <td>Store_7.0</td>\n",
       "      <td>-534892.954512</td>\n",
       "      <td>534892.954512</td>\n",
       "    </tr>\n",
       "    <tr>\n",
       "      <th>13</th>\n",
       "      <td>Month_12.0</td>\n",
       "      <td>491094.244537</td>\n",
       "      <td>491094.244537</td>\n",
       "    </tr>\n",
       "    <tr>\n",
       "      <th>14</th>\n",
       "      <td>Store_17.0</td>\n",
       "      <td>-456255.946308</td>\n",
       "      <td>456255.946308</td>\n",
       "    </tr>\n",
       "    <tr>\n",
       "      <th>15</th>\n",
       "      <td>Store_6.0</td>\n",
       "      <td>413332.112144</td>\n",
       "      <td>413332.112144</td>\n",
       "    </tr>\n",
       "    <tr>\n",
       "      <th>16</th>\n",
       "      <td>Store_8.0</td>\n",
       "      <td>-359162.104242</td>\n",
       "      <td>359162.104242</td>\n",
       "    </tr>\n",
       "    <tr>\n",
       "      <th>17</th>\n",
       "      <td>Store_1.0</td>\n",
       "      <td>320423.309568</td>\n",
       "      <td>320423.309568</td>\n",
       "    </tr>\n",
       "    <tr>\n",
       "      <th>18</th>\n",
       "      <td>Month_2.0</td>\n",
       "      <td>185511.915647</td>\n",
       "      <td>185511.915647</td>\n",
       "    </tr>\n",
       "    <tr>\n",
       "      <th>19</th>\n",
       "      <td>Holiday_Flag_1.0</td>\n",
       "      <td>-164805.159069</td>\n",
       "      <td>164805.159069</td>\n",
       "    </tr>\n",
       "    <tr>\n",
       "      <th>20</th>\n",
       "      <td>Month_1.0</td>\n",
       "      <td>-145509.373151</td>\n",
       "      <td>145509.373151</td>\n",
       "    </tr>\n",
       "    <tr>\n",
       "      <th>21</th>\n",
       "      <td>Store_19.0</td>\n",
       "      <td>138160.661895</td>\n",
       "      <td>138160.661895</td>\n",
       "    </tr>\n",
       "    <tr>\n",
       "      <th>22</th>\n",
       "      <td>Store_18.0</td>\n",
       "      <td>-111592.461650</td>\n",
       "      <td>111592.461650</td>\n",
       "    </tr>\n",
       "    <tr>\n",
       "      <th>23</th>\n",
       "      <td>Month_8.0</td>\n",
       "      <td>-104389.859184</td>\n",
       "      <td>104389.859184</td>\n",
       "    </tr>\n",
       "    <tr>\n",
       "      <th>24</th>\n",
       "      <td>week_5.0</td>\n",
       "      <td>-86550.128800</td>\n",
       "      <td>86550.128800</td>\n",
       "    </tr>\n",
       "    <tr>\n",
       "      <th>25</th>\n",
       "      <td>Month_4.0</td>\n",
       "      <td>-83690.354775</td>\n",
       "      <td>83690.354775</td>\n",
       "    </tr>\n",
       "    <tr>\n",
       "      <th>26</th>\n",
       "      <td>Temperature</td>\n",
       "      <td>82149.570070</td>\n",
       "      <td>82149.570070</td>\n",
       "    </tr>\n",
       "    <tr>\n",
       "      <th>27</th>\n",
       "      <td>Month_10.0</td>\n",
       "      <td>-80788.489023</td>\n",
       "      <td>80788.489023</td>\n",
       "    </tr>\n",
       "    <tr>\n",
       "      <th>28</th>\n",
       "      <td>Month_7.0</td>\n",
       "      <td>-74557.135880</td>\n",
       "      <td>74557.135880</td>\n",
       "    </tr>\n",
       "    <tr>\n",
       "      <th>29</th>\n",
       "      <td>week_1.0</td>\n",
       "      <td>73242.231804</td>\n",
       "      <td>73242.231804</td>\n",
       "    </tr>\n",
       "    <tr>\n",
       "      <th>30</th>\n",
       "      <td>Month_5.0</td>\n",
       "      <td>-67659.581412</td>\n",
       "      <td>67659.581412</td>\n",
       "    </tr>\n",
       "    <tr>\n",
       "      <th>31</th>\n",
       "      <td>Month_9.0</td>\n",
       "      <td>-67255.834768</td>\n",
       "      <td>67255.834768</td>\n",
       "    </tr>\n",
       "    <tr>\n",
       "      <th>32</th>\n",
       "      <td>CPI</td>\n",
       "      <td>-50126.700744</td>\n",
       "      <td>50126.700744</td>\n",
       "    </tr>\n",
       "    <tr>\n",
       "      <th>33</th>\n",
       "      <td>Month_6.0</td>\n",
       "      <td>-48785.162751</td>\n",
       "      <td>48785.162751</td>\n",
       "    </tr>\n",
       "    <tr>\n",
       "      <th>34</th>\n",
       "      <td>Unemployment</td>\n",
       "      <td>-35428.061314</td>\n",
       "      <td>35428.061314</td>\n",
       "    </tr>\n",
       "    <tr>\n",
       "      <th>35</th>\n",
       "      <td>Year_2012.0</td>\n",
       "      <td>29550.787181</td>\n",
       "      <td>29550.787181</td>\n",
       "    </tr>\n",
       "    <tr>\n",
       "      <th>36</th>\n",
       "      <td>Fuel_Price</td>\n",
       "      <td>-28724.040673</td>\n",
       "      <td>28724.040673</td>\n",
       "    </tr>\n",
       "    <tr>\n",
       "      <th>37</th>\n",
       "      <td>week_2.0</td>\n",
       "      <td>28114.002208</td>\n",
       "      <td>28114.002208</td>\n",
       "    </tr>\n",
       "    <tr>\n",
       "      <th>38</th>\n",
       "      <td>week_4.0</td>\n",
       "      <td>-26922.155349</td>\n",
       "      <td>26922.155349</td>\n",
       "    </tr>\n",
       "    <tr>\n",
       "      <th>39</th>\n",
       "      <td>Year_2010.0</td>\n",
       "      <td>-19761.203199</td>\n",
       "      <td>19761.203199</td>\n",
       "    </tr>\n",
       "    <tr>\n",
       "      <th>40</th>\n",
       "      <td>week_3.0</td>\n",
       "      <td>12116.050137</td>\n",
       "      <td>12116.050137</td>\n",
       "    </tr>\n",
       "    <tr>\n",
       "      <th>41</th>\n",
       "      <td>Year_2011.0</td>\n",
       "      <td>-9789.583982</td>\n",
       "      <td>9789.583982</td>\n",
       "    </tr>\n",
       "    <tr>\n",
       "      <th>42</th>\n",
       "      <td>Month_3.0</td>\n",
       "      <td>-6347.966659</td>\n",
       "      <td>6347.966659</td>\n",
       "    </tr>\n",
       "    <tr>\n",
       "      <th>43</th>\n",
       "      <td>Month_11.0</td>\n",
       "      <td>2377.597418</td>\n",
       "      <td>2377.597418</td>\n",
       "    </tr>\n",
       "  </tbody>\n",
       "</table>\n",
       "</div>"
      ],
      "text/plain": [
       "          categories   coefficients  abs_coefficients\n",
       "0          Store_5.0 -943908.790177     943908.790177\n",
       "1          Store_3.0 -902027.652517     902027.652517\n",
       "2         Store_14.0  849339.310616     849339.310616\n",
       "3          Store_9.0 -805007.652384     805007.652384\n",
       "4         Store_15.0 -753527.221914     753527.221914\n",
       "5          Store_2.0  696635.591019     696635.591019\n",
       "6         Store_16.0 -682903.817576     682903.817576\n",
       "7         Store_11.0  658631.572570     658631.572570\n",
       "8         Store_20.0  647037.176285     647037.176285\n",
       "9         Store_13.0  635953.728883     635953.728883\n",
       "10        Store_10.0  601259.723137     601259.723137\n",
       "11         Store_4.0  588505.415164     588505.415164\n",
       "12         Store_7.0 -534892.954512     534892.954512\n",
       "13        Month_12.0  491094.244537     491094.244537\n",
       "14        Store_17.0 -456255.946308     456255.946308\n",
       "15         Store_6.0  413332.112144     413332.112144\n",
       "16         Store_8.0 -359162.104242     359162.104242\n",
       "17         Store_1.0  320423.309568     320423.309568\n",
       "18         Month_2.0  185511.915647     185511.915647\n",
       "19  Holiday_Flag_1.0 -164805.159069     164805.159069\n",
       "20         Month_1.0 -145509.373151     145509.373151\n",
       "21        Store_19.0  138160.661895     138160.661895\n",
       "22        Store_18.0 -111592.461650     111592.461650\n",
       "23         Month_8.0 -104389.859184     104389.859184\n",
       "24          week_5.0  -86550.128800      86550.128800\n",
       "25         Month_4.0  -83690.354775      83690.354775\n",
       "26       Temperature   82149.570070      82149.570070\n",
       "27        Month_10.0  -80788.489023      80788.489023\n",
       "28         Month_7.0  -74557.135880      74557.135880\n",
       "29          week_1.0   73242.231804      73242.231804\n",
       "30         Month_5.0  -67659.581412      67659.581412\n",
       "31         Month_9.0  -67255.834768      67255.834768\n",
       "32               CPI  -50126.700744      50126.700744\n",
       "33         Month_6.0  -48785.162751      48785.162751\n",
       "34      Unemployment  -35428.061314      35428.061314\n",
       "35       Year_2012.0   29550.787181      29550.787181\n",
       "36        Fuel_Price  -28724.040673      28724.040673\n",
       "37          week_2.0   28114.002208      28114.002208\n",
       "38          week_4.0  -26922.155349      26922.155349\n",
       "39       Year_2010.0  -19761.203199      19761.203199\n",
       "40          week_3.0   12116.050137      12116.050137\n",
       "41       Year_2011.0   -9789.583982       9789.583982\n",
       "42         Month_3.0   -6347.966659       6347.966659\n",
       "43        Month_11.0    2377.597418       2377.597418"
      ]
     },
     "execution_count": 50,
     "metadata": {},
     "output_type": "execute_result"
    }
   ],
   "source": [
    "coef = coefs.assign(abs_coefficients=coefs['coefficients'].abs()).sort_values(by='abs_coefficients', ascending=False).reset_index()\n",
    "coef = coef.rename(columns={'index': 'categories'})\n",
    "coef"
   ]
  },
  {
   "cell_type": "code",
   "execution_count": 51,
   "metadata": {},
   "outputs": [
    {
     "data": {
      "application/vnd.plotly.v1+json": {
       "config": {
        "plotlyServerURL": "https://plot.ly"
       },
       "data": [
        {
         "hovertemplate": "Categories=%{x}<br>Coefficients=%{y}<extra></extra>",
         "legendgroup": "",
         "marker": {
          "color": "#636efa",
          "pattern": {
           "shape": ""
          }
         },
         "name": "",
         "orientation": "v",
         "showlegend": false,
         "textposition": "auto",
         "type": "bar",
         "x": [
          "Store_5.0",
          "Store_3.0",
          "Store_14.0",
          "Store_9.0",
          "Store_15.0",
          "Store_2.0",
          "Store_16.0",
          "Store_11.0",
          "Store_20.0",
          "Store_13.0",
          "Store_10.0",
          "Store_4.0",
          "Store_7.0",
          "Month_12.0",
          "Store_17.0",
          "Store_6.0",
          "Store_8.0",
          "Store_1.0",
          "Month_2.0",
          "Holiday_Flag_1.0",
          "Month_1.0",
          "Store_19.0",
          "Store_18.0",
          "Month_8.0",
          "week_5.0",
          "Month_4.0",
          "Temperature",
          "Month_10.0",
          "Month_7.0",
          "week_1.0",
          "Month_5.0",
          "Month_9.0",
          "CPI",
          "Month_6.0",
          "Unemployment",
          "Year_2012.0",
          "Fuel_Price",
          "week_2.0",
          "week_4.0",
          "Year_2010.0",
          "week_3.0",
          "Year_2011.0",
          "Month_3.0",
          "Month_11.0"
         ],
         "xaxis": "x",
         "y": {
          "bdata": "th6SlEnOLMGfuRZOF4crwYMOCZ926ylBIjwFTh+RKMF+p55x7v4mwfMImi53QiVB1U+Zoi/XJMEL3icljxkkQdYOQlr6viNBbDAwdWNoI0HO/z5yV1kiQYBVkNSy9SFBi9S16NlSIME34mf6WPkdQQDgBMn/2BvB5MzVclA6GUFVbL5q6OsVwZlV/zydjhNBcrU+Uz+lBkHWD8ZFKR4EwbXMNvwqwwHBs3iPS4XdAEG+l+tihz77wEo/N79dfPnAq9mQD2Ih9cDxcyitpW70wMOXAR9ZDvRAmlQJ00e588BwaJAs0jPywACNeLWj4fFAcB93TbmE8MCbVTVbfWvwwP4sfmzWeejAq71BNSXS58D1Lkj2gUzhwJrkLWGy29xAoCxhmgIN3MBS6S0kgHTbQMZyPvGJStrAtgY4AU1M08BfduNqBqrHQIPC67/KHsPAkWLzdvfLuMD9+dPgMZOiQA==",
          "dtype": "f8"
         },
         "yaxis": "y"
        }
       ],
       "layout": {
        "barmode": "relative",
        "legend": {
         "tracegroupgap": 0
        },
        "template": {
         "data": {
          "bar": [
           {
            "error_x": {
             "color": "#2a3f5f"
            },
            "error_y": {
             "color": "#2a3f5f"
            },
            "marker": {
             "line": {
              "color": "#E5ECF6",
              "width": 0.5
             },
             "pattern": {
              "fillmode": "overlay",
              "size": 10,
              "solidity": 0.2
             }
            },
            "type": "bar"
           }
          ],
          "barpolar": [
           {
            "marker": {
             "line": {
              "color": "#E5ECF6",
              "width": 0.5
             },
             "pattern": {
              "fillmode": "overlay",
              "size": 10,
              "solidity": 0.2
             }
            },
            "type": "barpolar"
           }
          ],
          "carpet": [
           {
            "aaxis": {
             "endlinecolor": "#2a3f5f",
             "gridcolor": "white",
             "linecolor": "white",
             "minorgridcolor": "white",
             "startlinecolor": "#2a3f5f"
            },
            "baxis": {
             "endlinecolor": "#2a3f5f",
             "gridcolor": "white",
             "linecolor": "white",
             "minorgridcolor": "white",
             "startlinecolor": "#2a3f5f"
            },
            "type": "carpet"
           }
          ],
          "choropleth": [
           {
            "colorbar": {
             "outlinewidth": 0,
             "ticks": ""
            },
            "type": "choropleth"
           }
          ],
          "contour": [
           {
            "colorbar": {
             "outlinewidth": 0,
             "ticks": ""
            },
            "colorscale": [
             [
              0,
              "#0d0887"
             ],
             [
              0.1111111111111111,
              "#46039f"
             ],
             [
              0.2222222222222222,
              "#7201a8"
             ],
             [
              0.3333333333333333,
              "#9c179e"
             ],
             [
              0.4444444444444444,
              "#bd3786"
             ],
             [
              0.5555555555555556,
              "#d8576b"
             ],
             [
              0.6666666666666666,
              "#ed7953"
             ],
             [
              0.7777777777777778,
              "#fb9f3a"
             ],
             [
              0.8888888888888888,
              "#fdca26"
             ],
             [
              1,
              "#f0f921"
             ]
            ],
            "type": "contour"
           }
          ],
          "contourcarpet": [
           {
            "colorbar": {
             "outlinewidth": 0,
             "ticks": ""
            },
            "type": "contourcarpet"
           }
          ],
          "heatmap": [
           {
            "colorbar": {
             "outlinewidth": 0,
             "ticks": ""
            },
            "colorscale": [
             [
              0,
              "#0d0887"
             ],
             [
              0.1111111111111111,
              "#46039f"
             ],
             [
              0.2222222222222222,
              "#7201a8"
             ],
             [
              0.3333333333333333,
              "#9c179e"
             ],
             [
              0.4444444444444444,
              "#bd3786"
             ],
             [
              0.5555555555555556,
              "#d8576b"
             ],
             [
              0.6666666666666666,
              "#ed7953"
             ],
             [
              0.7777777777777778,
              "#fb9f3a"
             ],
             [
              0.8888888888888888,
              "#fdca26"
             ],
             [
              1,
              "#f0f921"
             ]
            ],
            "type": "heatmap"
           }
          ],
          "histogram": [
           {
            "marker": {
             "pattern": {
              "fillmode": "overlay",
              "size": 10,
              "solidity": 0.2
             }
            },
            "type": "histogram"
           }
          ],
          "histogram2d": [
           {
            "colorbar": {
             "outlinewidth": 0,
             "ticks": ""
            },
            "colorscale": [
             [
              0,
              "#0d0887"
             ],
             [
              0.1111111111111111,
              "#46039f"
             ],
             [
              0.2222222222222222,
              "#7201a8"
             ],
             [
              0.3333333333333333,
              "#9c179e"
             ],
             [
              0.4444444444444444,
              "#bd3786"
             ],
             [
              0.5555555555555556,
              "#d8576b"
             ],
             [
              0.6666666666666666,
              "#ed7953"
             ],
             [
              0.7777777777777778,
              "#fb9f3a"
             ],
             [
              0.8888888888888888,
              "#fdca26"
             ],
             [
              1,
              "#f0f921"
             ]
            ],
            "type": "histogram2d"
           }
          ],
          "histogram2dcontour": [
           {
            "colorbar": {
             "outlinewidth": 0,
             "ticks": ""
            },
            "colorscale": [
             [
              0,
              "#0d0887"
             ],
             [
              0.1111111111111111,
              "#46039f"
             ],
             [
              0.2222222222222222,
              "#7201a8"
             ],
             [
              0.3333333333333333,
              "#9c179e"
             ],
             [
              0.4444444444444444,
              "#bd3786"
             ],
             [
              0.5555555555555556,
              "#d8576b"
             ],
             [
              0.6666666666666666,
              "#ed7953"
             ],
             [
              0.7777777777777778,
              "#fb9f3a"
             ],
             [
              0.8888888888888888,
              "#fdca26"
             ],
             [
              1,
              "#f0f921"
             ]
            ],
            "type": "histogram2dcontour"
           }
          ],
          "mesh3d": [
           {
            "colorbar": {
             "outlinewidth": 0,
             "ticks": ""
            },
            "type": "mesh3d"
           }
          ],
          "parcoords": [
           {
            "line": {
             "colorbar": {
              "outlinewidth": 0,
              "ticks": ""
             }
            },
            "type": "parcoords"
           }
          ],
          "pie": [
           {
            "automargin": true,
            "type": "pie"
           }
          ],
          "scatter": [
           {
            "fillpattern": {
             "fillmode": "overlay",
             "size": 10,
             "solidity": 0.2
            },
            "type": "scatter"
           }
          ],
          "scatter3d": [
           {
            "line": {
             "colorbar": {
              "outlinewidth": 0,
              "ticks": ""
             }
            },
            "marker": {
             "colorbar": {
              "outlinewidth": 0,
              "ticks": ""
             }
            },
            "type": "scatter3d"
           }
          ],
          "scattercarpet": [
           {
            "marker": {
             "colorbar": {
              "outlinewidth": 0,
              "ticks": ""
             }
            },
            "type": "scattercarpet"
           }
          ],
          "scattergeo": [
           {
            "marker": {
             "colorbar": {
              "outlinewidth": 0,
              "ticks": ""
             }
            },
            "type": "scattergeo"
           }
          ],
          "scattergl": [
           {
            "marker": {
             "colorbar": {
              "outlinewidth": 0,
              "ticks": ""
             }
            },
            "type": "scattergl"
           }
          ],
          "scattermap": [
           {
            "marker": {
             "colorbar": {
              "outlinewidth": 0,
              "ticks": ""
             }
            },
            "type": "scattermap"
           }
          ],
          "scattermapbox": [
           {
            "marker": {
             "colorbar": {
              "outlinewidth": 0,
              "ticks": ""
             }
            },
            "type": "scattermapbox"
           }
          ],
          "scatterpolar": [
           {
            "marker": {
             "colorbar": {
              "outlinewidth": 0,
              "ticks": ""
             }
            },
            "type": "scatterpolar"
           }
          ],
          "scatterpolargl": [
           {
            "marker": {
             "colorbar": {
              "outlinewidth": 0,
              "ticks": ""
             }
            },
            "type": "scatterpolargl"
           }
          ],
          "scatterternary": [
           {
            "marker": {
             "colorbar": {
              "outlinewidth": 0,
              "ticks": ""
             }
            },
            "type": "scatterternary"
           }
          ],
          "surface": [
           {
            "colorbar": {
             "outlinewidth": 0,
             "ticks": ""
            },
            "colorscale": [
             [
              0,
              "#0d0887"
             ],
             [
              0.1111111111111111,
              "#46039f"
             ],
             [
              0.2222222222222222,
              "#7201a8"
             ],
             [
              0.3333333333333333,
              "#9c179e"
             ],
             [
              0.4444444444444444,
              "#bd3786"
             ],
             [
              0.5555555555555556,
              "#d8576b"
             ],
             [
              0.6666666666666666,
              "#ed7953"
             ],
             [
              0.7777777777777778,
              "#fb9f3a"
             ],
             [
              0.8888888888888888,
              "#fdca26"
             ],
             [
              1,
              "#f0f921"
             ]
            ],
            "type": "surface"
           }
          ],
          "table": [
           {
            "cells": {
             "fill": {
              "color": "#EBF0F8"
             },
             "line": {
              "color": "white"
             }
            },
            "header": {
             "fill": {
              "color": "#C8D4E3"
             },
             "line": {
              "color": "white"
             }
            },
            "type": "table"
           }
          ]
         },
         "layout": {
          "annotationdefaults": {
           "arrowcolor": "#2a3f5f",
           "arrowhead": 0,
           "arrowwidth": 1
          },
          "autotypenumbers": "strict",
          "coloraxis": {
           "colorbar": {
            "outlinewidth": 0,
            "ticks": ""
           }
          },
          "colorscale": {
           "diverging": [
            [
             0,
             "#8e0152"
            ],
            [
             0.1,
             "#c51b7d"
            ],
            [
             0.2,
             "#de77ae"
            ],
            [
             0.3,
             "#f1b6da"
            ],
            [
             0.4,
             "#fde0ef"
            ],
            [
             0.5,
             "#f7f7f7"
            ],
            [
             0.6,
             "#e6f5d0"
            ],
            [
             0.7,
             "#b8e186"
            ],
            [
             0.8,
             "#7fbc41"
            ],
            [
             0.9,
             "#4d9221"
            ],
            [
             1,
             "#276419"
            ]
           ],
           "sequential": [
            [
             0,
             "#0d0887"
            ],
            [
             0.1111111111111111,
             "#46039f"
            ],
            [
             0.2222222222222222,
             "#7201a8"
            ],
            [
             0.3333333333333333,
             "#9c179e"
            ],
            [
             0.4444444444444444,
             "#bd3786"
            ],
            [
             0.5555555555555556,
             "#d8576b"
            ],
            [
             0.6666666666666666,
             "#ed7953"
            ],
            [
             0.7777777777777778,
             "#fb9f3a"
            ],
            [
             0.8888888888888888,
             "#fdca26"
            ],
            [
             1,
             "#f0f921"
            ]
           ],
           "sequentialminus": [
            [
             0,
             "#0d0887"
            ],
            [
             0.1111111111111111,
             "#46039f"
            ],
            [
             0.2222222222222222,
             "#7201a8"
            ],
            [
             0.3333333333333333,
             "#9c179e"
            ],
            [
             0.4444444444444444,
             "#bd3786"
            ],
            [
             0.5555555555555556,
             "#d8576b"
            ],
            [
             0.6666666666666666,
             "#ed7953"
            ],
            [
             0.7777777777777778,
             "#fb9f3a"
            ],
            [
             0.8888888888888888,
             "#fdca26"
            ],
            [
             1,
             "#f0f921"
            ]
           ]
          },
          "colorway": [
           "#636efa",
           "#EF553B",
           "#00cc96",
           "#ab63fa",
           "#FFA15A",
           "#19d3f3",
           "#FF6692",
           "#B6E880",
           "#FF97FF",
           "#FECB52"
          ],
          "font": {
           "color": "#2a3f5f"
          },
          "geo": {
           "bgcolor": "white",
           "lakecolor": "white",
           "landcolor": "#E5ECF6",
           "showlakes": true,
           "showland": true,
           "subunitcolor": "white"
          },
          "hoverlabel": {
           "align": "left"
          },
          "hovermode": "closest",
          "mapbox": {
           "style": "light"
          },
          "paper_bgcolor": "white",
          "plot_bgcolor": "#E5ECF6",
          "polar": {
           "angularaxis": {
            "gridcolor": "white",
            "linecolor": "white",
            "ticks": ""
           },
           "bgcolor": "#E5ECF6",
           "radialaxis": {
            "gridcolor": "white",
            "linecolor": "white",
            "ticks": ""
           }
          },
          "scene": {
           "xaxis": {
            "backgroundcolor": "#E5ECF6",
            "gridcolor": "white",
            "gridwidth": 2,
            "linecolor": "white",
            "showbackground": true,
            "ticks": "",
            "zerolinecolor": "white"
           },
           "yaxis": {
            "backgroundcolor": "#E5ECF6",
            "gridcolor": "white",
            "gridwidth": 2,
            "linecolor": "white",
            "showbackground": true,
            "ticks": "",
            "zerolinecolor": "white"
           },
           "zaxis": {
            "backgroundcolor": "#E5ECF6",
            "gridcolor": "white",
            "gridwidth": 2,
            "linecolor": "white",
            "showbackground": true,
            "ticks": "",
            "zerolinecolor": "white"
           }
          },
          "shapedefaults": {
           "line": {
            "color": "#2a3f5f"
           }
          },
          "ternary": {
           "aaxis": {
            "gridcolor": "white",
            "linecolor": "white",
            "ticks": ""
           },
           "baxis": {
            "gridcolor": "white",
            "linecolor": "white",
            "ticks": ""
           },
           "bgcolor": "#E5ECF6",
           "caxis": {
            "gridcolor": "white",
            "linecolor": "white",
            "ticks": ""
           }
          },
          "title": {
           "x": 0.05
          },
          "xaxis": {
           "automargin": true,
           "gridcolor": "white",
           "linecolor": "white",
           "ticks": "",
           "title": {
            "standoff": 15
           },
           "zerolinecolor": "white",
           "zerolinewidth": 2
          },
          "yaxis": {
           "automargin": true,
           "gridcolor": "white",
           "linecolor": "white",
           "ticks": "",
           "title": {
            "standoff": 15
           },
           "zerolinecolor": "white",
           "zerolinewidth": 2
          }
         }
        },
        "title": {
         "text": "Coefficients per Category"
        },
        "xaxis": {
         "anchor": "y",
         "domain": [
          0,
          1
         ],
         "title": {
          "text": "Categories"
         }
        },
        "yaxis": {
         "anchor": "x",
         "domain": [
          0,
          1
         ],
         "title": {
          "text": "Coefficients"
         }
        }
       }
      }
     },
     "metadata": {},
     "output_type": "display_data"
    }
   ],
   "source": [
    "fig = px.bar(coef, x=\"categories\", y=\"coefficients\", \n",
    "             labels={'categories': 'Categories', 'coefficients': 'Coefficients'}, \n",
    "             title='Coefficients per Category')\n",
    "fig.show()"
   ]
  },
  {
   "cell_type": "markdown",
   "metadata": {},
   "source": [
    "The store number and the month of december have a high impact on weekly sales. Indeed, as seen in EDA, store 5 and 3 perform less and store 14 performs better, impacting significantly the weekly_sales results.\n",
    "\n",
    "Also, we can notice that many variable only have a very small impact on the target."
   ]
  },
  {
   "cell_type": "markdown",
   "metadata": {},
   "source": [
    "# Part 3 : Regularisation"
   ]
  },
  {
   "cell_type": "code",
   "execution_count": null,
   "metadata": {},
   "outputs": [],
   "source": []
  }
 ],
 "metadata": {
  "kernelspec": {
   "display_name": "myenv",
   "language": "python",
   "name": "python3"
  },
  "language_info": {
   "codemirror_mode": {
    "name": "ipython",
    "version": 3
   },
   "file_extension": ".py",
   "mimetype": "text/x-python",
   "name": "python",
   "nbconvert_exporter": "python",
   "pygments_lexer": "ipython3",
   "version": "3.10.13"
  }
 },
 "nbformat": 4,
 "nbformat_minor": 2
}
